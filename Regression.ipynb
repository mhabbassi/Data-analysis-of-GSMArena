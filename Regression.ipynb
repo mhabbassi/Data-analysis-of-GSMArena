{
 "cells": [
  {
   "cell_type": "markdown",
   "metadata": {},
   "source": [
    "# Price Prediction"
   ]
  },
  {
   "cell_type": "markdown",
   "metadata": {},
   "source": [
    "### Part 1 - Price Evaluation"
   ]
  },
  {
   "cell_type": "code",
   "execution_count": 37,
   "metadata": {},
   "outputs": [],
   "source": [
    "import numpy as np\n",
    "import pandas as pd\n",
    "import matplotlib.pyplot as plt\n",
    "from sklearn.preprocessing import LabelEncoder, PolynomialFeatures\n",
    "from sklearn.model_selection import train_test_split\n",
    "from sklearn.linear_model import LinearRegression, Lasso, ElasticNet, Ridge\n",
    "from sklearn.preprocessing import MinMaxScaler, StandardScaler\n",
    "from scipy.stats import zscore\n",
    "from sklearn.metrics import r2_score\n",
    "import warnings\n",
    "warnings.filterwarnings('ignore')"
   ]
  },
  {
   "cell_type": "markdown",
   "metadata": {},
   "source": [
    "### Fetch Data"
   ]
  },
  {
   "cell_type": "code",
   "execution_count": 2,
   "metadata": {},
   "outputs": [],
   "source": [
    "data_all = pd.read_csv('./data.csv')"
   ]
  },
  {
   "cell_type": "code",
   "execution_count": 3,
   "metadata": {},
   "outputs": [
    {
     "data": {
      "text/html": [
       "<div>\n",
       "<style scoped>\n",
       "    .dataframe tbody tr th:only-of-type {\n",
       "        vertical-align: middle;\n",
       "    }\n",
       "\n",
       "    .dataframe tbody tr th {\n",
       "        vertical-align: top;\n",
       "    }\n",
       "\n",
       "    .dataframe thead th {\n",
       "        text-align: right;\n",
       "    }\n",
       "</style>\n",
       "<table border=\"1\" class=\"dataframe\">\n",
       "  <thead>\n",
       "    <tr style=\"text-align: right;\">\n",
       "      <th></th>\n",
       "      <th>Unnamed: 0</th>\n",
       "      <th>name</th>\n",
       "      <th>brand</th>\n",
       "      <th>2G</th>\n",
       "      <th>3G</th>\n",
       "      <th>4G</th>\n",
       "      <th>5G</th>\n",
       "      <th>Announced</th>\n",
       "      <th>Status</th>\n",
       "      <th>Weight</th>\n",
       "      <th>...</th>\n",
       "      <th>Bluetooth</th>\n",
       "      <th>GPU</th>\n",
       "      <th>Loudspeaker</th>\n",
       "      <th>3.5mm jack</th>\n",
       "      <th>Chipset</th>\n",
       "      <th>Network</th>\n",
       "      <th>Internal</th>\n",
       "      <th>Card slot</th>\n",
       "      <th>RAM</th>\n",
       "      <th>Storage</th>\n",
       "    </tr>\n",
       "  </thead>\n",
       "  <tbody>\n",
       "    <tr>\n",
       "      <th>0</th>\n",
       "      <td>0</td>\n",
       "      <td>alcatel 1b (2022)</td>\n",
       "      <td>alcatel</td>\n",
       "      <td>True</td>\n",
       "      <td>True</td>\n",
       "      <td>True</td>\n",
       "      <td>False</td>\n",
       "      <td>2022.0</td>\n",
       "      <td>Available</td>\n",
       "      <td>172.0</td>\n",
       "      <td>...</td>\n",
       "      <td>5.0, A2DP</td>\n",
       "      <td>PowerVR GE8300</td>\n",
       "      <td>True</td>\n",
       "      <td>True</td>\n",
       "      <td>Mediatek MT6761 Helio A22 (12 nm)</td>\n",
       "      <td>GSM / HSPA / LTE HSPA 42.2/11.1 Mbps, LTE Cat4...</td>\n",
       "      <td>32GB 2GB RAM</td>\n",
       "      <td>microSDXC (dedicated slot)</td>\n",
       "      <td>2.0</td>\n",
       "      <td>32.0</td>\n",
       "    </tr>\n",
       "    <tr>\n",
       "      <th>1</th>\n",
       "      <td>1</td>\n",
       "      <td>alcatel 1l pro (2021)</td>\n",
       "      <td>alcatel</td>\n",
       "      <td>True</td>\n",
       "      <td>True</td>\n",
       "      <td>True</td>\n",
       "      <td>False</td>\n",
       "      <td>2021.0</td>\n",
       "      <td>Available</td>\n",
       "      <td>190.0</td>\n",
       "      <td>...</td>\n",
       "      <td>4.2, A2DP</td>\n",
       "      <td>IMG8322</td>\n",
       "      <td>True</td>\n",
       "      <td>True</td>\n",
       "      <td>Unisoc SC9863A (28nm)</td>\n",
       "      <td>GSM / HSPA / LTE HSPA 21.1/5.76 Mbps, LTE Cat4...</td>\n",
       "      <td>32GB 2GB RAM</td>\n",
       "      <td>microSDXC (uses shared SIM slot)</td>\n",
       "      <td>2.0</td>\n",
       "      <td>32.0</td>\n",
       "    </tr>\n",
       "    <tr>\n",
       "      <th>2</th>\n",
       "      <td>2</td>\n",
       "      <td>alcatel 1 (2021)</td>\n",
       "      <td>alcatel</td>\n",
       "      <td>True</td>\n",
       "      <td>True</td>\n",
       "      <td>True</td>\n",
       "      <td>False</td>\n",
       "      <td>2021.0</td>\n",
       "      <td>Available</td>\n",
       "      <td>134.0</td>\n",
       "      <td>...</td>\n",
       "      <td>4.2, A2DP, LE</td>\n",
       "      <td>PowerVR GE8100</td>\n",
       "      <td>True</td>\n",
       "      <td>True</td>\n",
       "      <td>Mediatek MT6739 (28 nm)</td>\n",
       "      <td>GSM / HSPA / LTE HSPA 42.2/11.5 Mbps, LTE Cat4...</td>\n",
       "      <td>8GB 1GB RAM, 16GB 1GB RAM</td>\n",
       "      <td>microSDHC (dedicated slot)</td>\n",
       "      <td>1.0</td>\n",
       "      <td>8.0</td>\n",
       "    </tr>\n",
       "    <tr>\n",
       "      <th>3</th>\n",
       "      <td>3</td>\n",
       "      <td>alcatel 3l (2021)</td>\n",
       "      <td>alcatel</td>\n",
       "      <td>True</td>\n",
       "      <td>True</td>\n",
       "      <td>True</td>\n",
       "      <td>False</td>\n",
       "      <td>2021.0</td>\n",
       "      <td>Available</td>\n",
       "      <td>194.0</td>\n",
       "      <td>...</td>\n",
       "      <td>5.0, A2DP, LE</td>\n",
       "      <td>PowerVR GE8320</td>\n",
       "      <td>True</td>\n",
       "      <td>True</td>\n",
       "      <td>Mediatek MT6762D Helio P22 (12 nm)</td>\n",
       "      <td>GSM / HSPA / LTE HSPA 42.2/5.76 Mbps, LTE Cat4...</td>\n",
       "      <td>64GB 4GB RAM</td>\n",
       "      <td>microSDXC (only single sim model)</td>\n",
       "      <td>4.0</td>\n",
       "      <td>64.0</td>\n",
       "    </tr>\n",
       "    <tr>\n",
       "      <th>4</th>\n",
       "      <td>4</td>\n",
       "      <td>alcatel 1s (2021)</td>\n",
       "      <td>alcatel</td>\n",
       "      <td>True</td>\n",
       "      <td>True</td>\n",
       "      <td>True</td>\n",
       "      <td>False</td>\n",
       "      <td>2021.0</td>\n",
       "      <td>Available</td>\n",
       "      <td>190.0</td>\n",
       "      <td>...</td>\n",
       "      <td>5.0, A2DP, LE</td>\n",
       "      <td>PowerVR GE8320</td>\n",
       "      <td>True</td>\n",
       "      <td>True</td>\n",
       "      <td>Mediatek MT6762D Helio P22 (12 nm)</td>\n",
       "      <td>GSM / HSPA / LTE HSPA 42.2/5.76 Mbps, LTE Cat4...</td>\n",
       "      <td>32GB 3GB RAM</td>\n",
       "      <td>microSDXC (uses shared SIM slot)</td>\n",
       "      <td>3.0</td>\n",
       "      <td>32.0</td>\n",
       "    </tr>\n",
       "  </tbody>\n",
       "</table>\n",
       "<p>5 rows × 37 columns</p>\n",
       "</div>"
      ],
      "text/plain": [
       "   Unnamed: 0                   name    brand    2G    3G    4G     5G  \\\n",
       "0           0      alcatel 1b (2022)  alcatel  True  True  True  False   \n",
       "1           1  alcatel 1l pro (2021)  alcatel  True  True  True  False   \n",
       "2           2       alcatel 1 (2021)  alcatel  True  True  True  False   \n",
       "3           3      alcatel 3l (2021)  alcatel  True  True  True  False   \n",
       "4           4      alcatel 1s (2021)  alcatel  True  True  True  False   \n",
       "\n",
       "   Announced     Status  Weight  ...      Bluetooth             GPU  \\\n",
       "0     2022.0  Available   172.0  ...      5.0, A2DP  PowerVR GE8300   \n",
       "1     2021.0  Available   190.0  ...      4.2, A2DP         IMG8322   \n",
       "2     2021.0  Available   134.0  ...  4.2, A2DP, LE  PowerVR GE8100   \n",
       "3     2021.0  Available   194.0  ...  5.0, A2DP, LE  PowerVR GE8320   \n",
       "4     2021.0  Available   190.0  ...  5.0, A2DP, LE  PowerVR GE8320   \n",
       "\n",
       "  Loudspeaker 3.5mm jack                             Chipset  \\\n",
       "0        True       True   Mediatek MT6761 Helio A22 (12 nm)   \n",
       "1        True       True               Unisoc SC9863A (28nm)   \n",
       "2        True       True             Mediatek MT6739 (28 nm)   \n",
       "3        True       True  Mediatek MT6762D Helio P22 (12 nm)   \n",
       "4        True       True  Mediatek MT6762D Helio P22 (12 nm)   \n",
       "\n",
       "                                             Network  \\\n",
       "0  GSM / HSPA / LTE HSPA 42.2/11.1 Mbps, LTE Cat4...   \n",
       "1  GSM / HSPA / LTE HSPA 21.1/5.76 Mbps, LTE Cat4...   \n",
       "2  GSM / HSPA / LTE HSPA 42.2/11.5 Mbps, LTE Cat4...   \n",
       "3  GSM / HSPA / LTE HSPA 42.2/5.76 Mbps, LTE Cat4...   \n",
       "4  GSM / HSPA / LTE HSPA 42.2/5.76 Mbps, LTE Cat4...   \n",
       "\n",
       "                    Internal                          Card slot  RAM  Storage  \n",
       "0               32GB 2GB RAM         microSDXC (dedicated slot)  2.0     32.0  \n",
       "1               32GB 2GB RAM   microSDXC (uses shared SIM slot)  2.0     32.0  \n",
       "2  8GB 1GB RAM, 16GB 1GB RAM         microSDHC (dedicated slot)  1.0      8.0  \n",
       "3               64GB 4GB RAM  microSDXC (only single sim model)  4.0     64.0  \n",
       "4               32GB 3GB RAM   microSDXC (uses shared SIM slot)  3.0     32.0  \n",
       "\n",
       "[5 rows x 37 columns]"
      ]
     },
     "execution_count": 3,
     "metadata": {},
     "output_type": "execute_result"
    }
   ],
   "source": [
    "data_all.head()\n"
   ]
  },
  {
   "cell_type": "code",
   "execution_count": 4,
   "metadata": {},
   "outputs": [
    {
     "data": {
      "text/html": [
       "<div>\n",
       "<style scoped>\n",
       "    .dataframe tbody tr th:only-of-type {\n",
       "        vertical-align: middle;\n",
       "    }\n",
       "\n",
       "    .dataframe tbody tr th {\n",
       "        vertical-align: top;\n",
       "    }\n",
       "\n",
       "    .dataframe thead th {\n",
       "        text-align: right;\n",
       "    }\n",
       "</style>\n",
       "<table border=\"1\" class=\"dataframe\">\n",
       "  <thead>\n",
       "    <tr style=\"text-align: right;\">\n",
       "      <th></th>\n",
       "      <th>Unnamed: 0</th>\n",
       "      <th>Announced</th>\n",
       "      <th>Weight</th>\n",
       "      <th>Display Size</th>\n",
       "      <th>ppi</th>\n",
       "      <th>body ratio</th>\n",
       "      <th>battery_capacity</th>\n",
       "      <th>Price</th>\n",
       "      <th>CPU</th>\n",
       "      <th>pixel</th>\n",
       "      <th>RAM</th>\n",
       "      <th>Storage</th>\n",
       "    </tr>\n",
       "  </thead>\n",
       "  <tbody>\n",
       "    <tr>\n",
       "      <th>count</th>\n",
       "      <td>2651.000000</td>\n",
       "      <td>2651.000000</td>\n",
       "      <td>2651.000000</td>\n",
       "      <td>2651.000000</td>\n",
       "      <td>2651.000000</td>\n",
       "      <td>2651.000000</td>\n",
       "      <td>2651.000000</td>\n",
       "      <td>2651.000000</td>\n",
       "      <td>2372.000000</td>\n",
       "      <td>2.651000e+03</td>\n",
       "      <td>2651.000000</td>\n",
       "      <td>2651.000000</td>\n",
       "    </tr>\n",
       "    <tr>\n",
       "      <th>mean</th>\n",
       "      <td>2495.184081</td>\n",
       "      <td>2016.577518</td>\n",
       "      <td>190.389325</td>\n",
       "      <td>5.759838</td>\n",
       "      <td>312.312335</td>\n",
       "      <td>71.775556</td>\n",
       "      <td>3385.437948</td>\n",
       "      <td>242.896775</td>\n",
       "      <td>5.847808</td>\n",
       "      <td>1.576779e+06</td>\n",
       "      <td>2.901974</td>\n",
       "      <td>46.621613</td>\n",
       "    </tr>\n",
       "    <tr>\n",
       "      <th>std</th>\n",
       "      <td>1290.683411</td>\n",
       "      <td>3.656827</td>\n",
       "      <td>97.208564</td>\n",
       "      <td>1.628346</td>\n",
       "      <td>101.907171</td>\n",
       "      <td>11.262514</td>\n",
       "      <td>1627.512406</td>\n",
       "      <td>193.726059</td>\n",
       "      <td>2.372880</td>\n",
       "      <td>1.181280e+06</td>\n",
       "      <td>2.493559</td>\n",
       "      <td>60.823522</td>\n",
       "    </tr>\n",
       "    <tr>\n",
       "      <th>min</th>\n",
       "      <td>0.000000</td>\n",
       "      <td>2010.000000</td>\n",
       "      <td>89.300000</td>\n",
       "      <td>2.200000</td>\n",
       "      <td>121.000000</td>\n",
       "      <td>25.500000</td>\n",
       "      <td>50.000000</td>\n",
       "      <td>20.000000</td>\n",
       "      <td>2.000000</td>\n",
       "      <td>7.680000e+04</td>\n",
       "      <td>0.062500</td>\n",
       "      <td>0.039062</td>\n",
       "    </tr>\n",
       "    <tr>\n",
       "      <th>25%</th>\n",
       "      <td>1450.000000</td>\n",
       "      <td>2014.000000</td>\n",
       "      <td>140.100000</td>\n",
       "      <td>4.700000</td>\n",
       "      <td>233.000000</td>\n",
       "      <td>64.650000</td>\n",
       "      <td>2070.000000</td>\n",
       "      <td>130.000000</td>\n",
       "      <td>4.000000</td>\n",
       "      <td>5.184000e+05</td>\n",
       "      <td>1.000000</td>\n",
       "      <td>8.000000</td>\n",
       "    </tr>\n",
       "    <tr>\n",
       "      <th>50%</th>\n",
       "      <td>2455.000000</td>\n",
       "      <td>2016.000000</td>\n",
       "      <td>167.000000</td>\n",
       "      <td>5.500000</td>\n",
       "      <td>288.000000</td>\n",
       "      <td>71.400000</td>\n",
       "      <td>3000.000000</td>\n",
       "      <td>190.000000</td>\n",
       "      <td>8.000000</td>\n",
       "      <td>1.094400e+06</td>\n",
       "      <td>2.000000</td>\n",
       "      <td>16.000000</td>\n",
       "    </tr>\n",
       "    <tr>\n",
       "      <th>75%</th>\n",
       "      <td>3681.000000</td>\n",
       "      <td>2020.000000</td>\n",
       "      <td>195.000000</td>\n",
       "      <td>6.530000</td>\n",
       "      <td>400.000000</td>\n",
       "      <td>81.800000</td>\n",
       "      <td>4500.000000</td>\n",
       "      <td>290.000000</td>\n",
       "      <td>8.000000</td>\n",
       "      <td>2.527200e+06</td>\n",
       "      <td>4.000000</td>\n",
       "      <td>64.000000</td>\n",
       "    </tr>\n",
       "    <tr>\n",
       "      <th>max</th>\n",
       "      <td>4678.000000</td>\n",
       "      <td>2024.000000</td>\n",
       "      <td>950.000000</td>\n",
       "      <td>14.600000</td>\n",
       "      <td>807.000000</td>\n",
       "      <td>94.100000</td>\n",
       "      <td>11560.000000</td>\n",
       "      <td>2000.000000</td>\n",
       "      <td>10.000000</td>\n",
       "      <td>8.294400e+06</td>\n",
       "      <td>16.000000</td>\n",
       "      <td>512.000000</td>\n",
       "    </tr>\n",
       "  </tbody>\n",
       "</table>\n",
       "</div>"
      ],
      "text/plain": [
       "        Unnamed: 0    Announced       Weight  Display Size          ppi  \\\n",
       "count  2651.000000  2651.000000  2651.000000   2651.000000  2651.000000   \n",
       "mean   2495.184081  2016.577518   190.389325      5.759838   312.312335   \n",
       "std    1290.683411     3.656827    97.208564      1.628346   101.907171   \n",
       "min       0.000000  2010.000000    89.300000      2.200000   121.000000   \n",
       "25%    1450.000000  2014.000000   140.100000      4.700000   233.000000   \n",
       "50%    2455.000000  2016.000000   167.000000      5.500000   288.000000   \n",
       "75%    3681.000000  2020.000000   195.000000      6.530000   400.000000   \n",
       "max    4678.000000  2024.000000   950.000000     14.600000   807.000000   \n",
       "\n",
       "        body ratio  battery_capacity        Price          CPU         pixel  \\\n",
       "count  2651.000000       2651.000000  2651.000000  2372.000000  2.651000e+03   \n",
       "mean     71.775556       3385.437948   242.896775     5.847808  1.576779e+06   \n",
       "std      11.262514       1627.512406   193.726059     2.372880  1.181280e+06   \n",
       "min      25.500000         50.000000    20.000000     2.000000  7.680000e+04   \n",
       "25%      64.650000       2070.000000   130.000000     4.000000  5.184000e+05   \n",
       "50%      71.400000       3000.000000   190.000000     8.000000  1.094400e+06   \n",
       "75%      81.800000       4500.000000   290.000000     8.000000  2.527200e+06   \n",
       "max      94.100000      11560.000000  2000.000000    10.000000  8.294400e+06   \n",
       "\n",
       "               RAM      Storage  \n",
       "count  2651.000000  2651.000000  \n",
       "mean      2.901974    46.621613  \n",
       "std       2.493559    60.823522  \n",
       "min       0.062500     0.039062  \n",
       "25%       1.000000     8.000000  \n",
       "50%       2.000000    16.000000  \n",
       "75%       4.000000    64.000000  \n",
       "max      16.000000   512.000000  "
      ]
     },
     "execution_count": 4,
     "metadata": {},
     "output_type": "execute_result"
    }
   ],
   "source": [
    "data_all.describe()"
   ]
  },
  {
   "cell_type": "code",
   "execution_count": 5,
   "metadata": {},
   "outputs": [
    {
     "name": "stdout",
     "output_type": "stream",
     "text": [
      "<class 'pandas.core.frame.DataFrame'>\n",
      "RangeIndex: 2651 entries, 0 to 2650\n",
      "Data columns (total 37 columns):\n",
      " #   Column            Non-Null Count  Dtype  \n",
      "---  ------            --------------  -----  \n",
      " 0   Unnamed: 0        2651 non-null   int64  \n",
      " 1   name              2651 non-null   object \n",
      " 2   brand             2651 non-null   object \n",
      " 3   2G                2651 non-null   bool   \n",
      " 4   3G                2651 non-null   bool   \n",
      " 5   4G                2651 non-null   bool   \n",
      " 6   5G                2651 non-null   bool   \n",
      " 7   Announced         2651 non-null   float64\n",
      " 8   Status            2651 non-null   object \n",
      " 9   Weight            2651 non-null   float64\n",
      " 10  Length            2651 non-null   object \n",
      " 11  Width             2651 non-null   object \n",
      " 12  Diameter          2651 non-null   object \n",
      " 13  SIM               2651 non-null   object \n",
      " 14  Display Type      2651 non-null   object \n",
      " 15  Display Size      2651 non-null   float64\n",
      " 16  ppi               2651 non-null   float64\n",
      " 17  body ratio        2651 non-null   float64\n",
      " 18  OS                2651 non-null   object \n",
      " 19  battery_capacity  2651 non-null   float64\n",
      " 20  Price             2651 non-null   float64\n",
      " 21  CPU               2372 non-null   float64\n",
      " 22  ratio             2651 non-null   object \n",
      " 23  pixel             2651 non-null   float64\n",
      " 24  WLAN              2650 non-null   object \n",
      " 25  Colors            2650 non-null   object \n",
      " 26  Sensors           2632 non-null   object \n",
      " 27  Bluetooth         2651 non-null   object \n",
      " 28  GPU               2427 non-null   object \n",
      " 29  Loudspeaker       2651 non-null   bool   \n",
      " 30  3.5mm jack        2651 non-null   bool   \n",
      " 31  Chipset           2394 non-null   object \n",
      " 32  Network           2651 non-null   object \n",
      " 33  Internal          2651 non-null   object \n",
      " 34  Card slot         2651 non-null   object \n",
      " 35  RAM               2651 non-null   float64\n",
      " 36  Storage           2651 non-null   float64\n",
      "dtypes: bool(6), float64(11), int64(1), object(19)\n",
      "memory usage: 657.7+ KB\n"
     ]
    }
   ],
   "source": [
    "data_all.info()"
   ]
  },
  {
   "cell_type": "code",
   "execution_count": 6,
   "metadata": {},
   "outputs": [],
   "source": [
    "result = data_all['Price']\n",
    "data_all.drop('Price', axis=1, inplace=True)"
   ]
  },
  {
   "cell_type": "code",
   "execution_count": 7,
   "metadata": {},
   "outputs": [],
   "source": [
    "data_df, data_test, result_train, result_test = train_test_split(data_all, result, test_size=0.15, random_state=42)"
   ]
  },
  {
   "cell_type": "code",
   "execution_count": 165,
   "metadata": {},
   "outputs": [],
   "source": [
    "data = data_df.copy()\n",
    "data['Price'] = result_train\n",
    "data_test['Price'] = result_test"
   ]
  },
  {
   "cell_type": "code",
   "execution_count": 9,
   "metadata": {},
   "outputs": [
    {
     "data": {
      "text/plain": [
       "Index(['Unnamed: 0', 'name', 'brand', '2G', '3G', '4G', '5G', 'Announced',\n",
       "       'Status', 'Weight', 'Length', 'Width', 'Diameter', 'SIM',\n",
       "       'Display Type', 'Display Size', 'ppi', 'body ratio', 'OS',\n",
       "       'battery_capacity', 'CPU', 'ratio', 'pixel', 'WLAN', 'Colors',\n",
       "       'Sensors', 'Bluetooth', 'GPU', 'Loudspeaker', '3.5mm jack', 'Chipset',\n",
       "       'Network', 'Internal', 'Card slot', 'RAM', 'Storage', 'Price'],\n",
       "      dtype='object')"
      ]
     },
     "execution_count": 9,
     "metadata": {},
     "output_type": "execute_result"
    }
   ],
   "source": [
    "data.columns"
   ]
  },
  {
   "cell_type": "code",
   "execution_count": 9,
   "metadata": {},
   "outputs": [
    {
     "data": {
      "text/plain": [
       "((2253, 37), (398, 37))"
      ]
     },
     "execution_count": 9,
     "metadata": {},
     "output_type": "execute_result"
    }
   ],
   "source": [
    "data.shape, data_test.shape"
   ]
  },
  {
   "cell_type": "markdown",
   "metadata": {},
   "source": [
    "### Pre-Proccessing"
   ]
  },
  {
   "cell_type": "markdown",
   "metadata": {},
   "source": [
    "##### Data Convertion"
   ]
  },
  {
   "cell_type": "markdown",
   "metadata": {},
   "source": [
    "Translate Sensors into sensors count"
   ]
  },
  {
   "cell_type": "code",
   "execution_count": 166,
   "metadata": {},
   "outputs": [
    {
     "data": {
      "text/plain": [
       "<Axes: >"
      ]
     },
     "execution_count": 166,
     "metadata": {},
     "output_type": "execute_result"
    },
    {
     "data": {
      "image/png": "[encoded data removed]",
      "text/plain": [
       "<Figure size 640x480 with 1 Axes>"
      ]
     },
     "metadata": {},
     "output_type": "display_data"
    }
   ],
   "source": [
    "data['Sensors_count'] = data.Sensors.apply(lambda x: len(str(x).split(',') if x else 0))\n",
    "data['Sensors_count'].hist()"
   ]
  },
  {
   "cell_type": "markdown",
   "metadata": {},
   "source": [
    "convert Length, Width and Diameter into float type"
   ]
  },
  {
   "cell_type": "code",
   "execution_count": 167,
   "metadata": {},
   "outputs": [],
   "source": [
    "data.Length = data.Length.apply(lambda x: ''.join(c for c in x if c.isdigit() or c=='.'))\n",
    "data.Width = data.Width.apply(lambda x: ''.join(c for c in x if c.isdigit() or c=='.'))\n",
    "data.Diameter = data.Diameter.apply(lambda x: x.split('-')[0])\n",
    "data.Diameter = data.Diameter.apply(lambda x: ''.join(c for c in x if c.isdigit() or c=='.'))\n",
    "data.Length = data.Length.astype('float64')\n",
    "data.Width = data.Width.astype('float64')\n",
    "data.Diameter = data.Diameter.astype('float64')"
   ]
  },
  {
   "cell_type": "code",
   "execution_count": 13,
   "metadata": {},
   "outputs": [
    {
     "data": {
      "text/plain": [
       "<Axes: >"
      ]
     },
     "execution_count": 13,
     "metadata": {},
     "output_type": "execute_result"
    },
    {
     "data": {
      "image/png": "[encoded data removed]",
      "text/plain": [
       "<Figure size 640x480 with 1 Axes>"
      ]
     },
     "metadata": {},
     "output_type": "display_data"
    }
   ],
   "source": [
    "data.Length.hist()"
   ]
  },
  {
   "cell_type": "code",
   "execution_count": 14,
   "metadata": {},
   "outputs": [
    {
     "data": {
      "text/plain": [
       "<Axes: >"
      ]
     },
     "execution_count": 14,
     "metadata": {},
     "output_type": "execute_result"
    },
    {
     "data": {
      "image/png": "[encoded data removed]",
      "text/plain": [
       "<Figure size 640x480 with 1 Axes>"
      ]
     },
     "metadata": {},
     "output_type": "display_data"
    }
   ],
   "source": [
    "data.Width.hist()"
   ]
  },
  {
   "cell_type": "code",
   "execution_count": 15,
   "metadata": {},
   "outputs": [
    {
     "data": {
      "text/plain": [
       "<Axes: >"
      ]
     },
     "execution_count": 15,
     "metadata": {},
     "output_type": "execute_result"
    },
    {
     "data": {
      "image/png": "[encoded data removed]",
      "text/plain": [
       "<Figure size 640x480 with 1 Axes>"
      ]
     },
     "metadata": {},
     "output_type": "display_data"
    }
   ],
   "source": [
    "data.Diameter.hist()"
   ]
  },
  {
   "cell_type": "markdown",
   "metadata": {},
   "source": [
    "clean OS data "
   ]
  },
  {
   "cell_type": "code",
   "execution_count": 168,
   "metadata": {},
   "outputs": [
    {
     "data": {
      "text/plain": [
       "OS\n",
       "Android      2076\n",
       "Phone          55\n",
       "iOS            52\n",
       "HarmonyOS      19\n",
       "Symbian         8\n",
       "Belle           7\n",
       "KaiOS           6\n",
       "iPadOS          5\n",
       "platform        5\n",
       "EMUI            4\n",
       "Tizen           3\n",
       "OS              3\n",
       "Anna            3\n",
       "FP1             2\n",
       "Firefox         1\n",
       "Linux           1\n",
       "MeeGo           1\n",
       "Windows         1\n",
       "Mobile          1\n",
       "Name: count, dtype: int64"
      ]
     },
     "execution_count": 168,
     "metadata": {},
     "output_type": "execute_result"
    }
   ],
   "source": [
    "data.OS = data.OS.apply(lambda x: x.split(' ')[0].strip())\n",
    "data.OS.value_counts()"
   ]
  },
  {
   "cell_type": "code",
   "execution_count": 169,
   "metadata": {},
   "outputs": [
    {
     "data": {
      "text/plain": [
       "OS\n",
       "Android    2076\n",
       "Other       125\n",
       "iOS          52\n",
       "Name: count, dtype: int64"
      ]
     },
     "execution_count": 169,
     "metadata": {},
     "output_type": "execute_result"
    }
   ],
   "source": [
    "def os_cleaner(x):\n",
    "    if x != 'Android' and x != 'iOS':\n",
    "        return 'Other'\n",
    "    else:\n",
    "        return x\n",
    "\n",
    "data.OS = data.OS.apply(os_cleaner)\n",
    "data.OS.value_counts()"
   ]
  },
  {
   "cell_type": "markdown",
   "metadata": {},
   "source": [
    "convert 2G, 3G, 4G, 5G into integer"
   ]
  },
  {
   "cell_type": "code",
   "execution_count": 170,
   "metadata": {},
   "outputs": [],
   "source": [
    "data['2G'] = data['2G'].astype('int')\n",
    "data['3G'] = data['3G'].astype('int')\n",
    "data['4G'] = data['4G'].astype('int')\n",
    "data['5G'] = data['5G'].astype('int')"
   ]
  },
  {
   "cell_type": "code",
   "execution_count": 23,
   "metadata": {},
   "outputs": [
    {
     "data": {
      "text/plain": [
       "([<matplotlib.patches.Wedge at 0x7fcea7f48c70>,\n",
       "  <matplotlib.patches.Wedge at 0x7fcea7f48b20>,\n",
       "  <matplotlib.patches.Wedge at 0x7fcea7f57580>,\n",
       "  <matplotlib.patches.Wedge at 0x7fcea7f57a00>],\n",
       " [Text(-0.3663560677916354, 1.037199706706597, \"('4G',)\"),\n",
       "  Text(-0.09115911002479507, -1.0962162271465825, \"('3G',)\"),\n",
       "  Text(0.9942754456849657, -0.47054897524908373, \"('5G',)\"),\n",
       "  Text(1.0997904028118137, -0.02147253788047725, \"('2G',)\")])"
      ]
     },
     "execution_count": 23,
     "metadata": {},
     "output_type": "execute_result"
    },
    {
     "data": {
      "image/png": "[encoded data removed]",
      "text/plain": [
       "<Figure size 640x480 with 1 Axes>"
      ]
     },
     "metadata": {},
     "output_type": "display_data"
    }
   ],
   "source": [
    "##### BAR CHART AND PIE CHART FOR NETWORK TYPE\n",
    "df = pd.DataFrame(data=data['2G']+data['3G']+data['4G']+data['5G']+1, columns=['NetType'])\n",
    "df.NetType = df.NetType.astype('str')\n",
    "df.NetType = df.NetType.apply(lambda x: '{}G'.format(x))\n",
    "dd = df.value_counts()\n",
    "plt.pie(dd.values, labels=dd.index)"
   ]
  },
  {
   "cell_type": "markdown",
   "metadata": {},
   "source": [
    "Cleaning Card slot column "
   ]
  },
  {
   "cell_type": "code",
   "execution_count": 171,
   "metadata": {},
   "outputs": [
    {
     "data": {
      "text/plain": [
       "Card slot\n",
       "microSDXC      1232\n",
       "microSDHC       582\n",
       "No              386\n",
       "NM               43\n",
       "microSD           4\n",
       "Unspecified       4\n",
       "SD                1\n",
       "Yes               1\n",
       "Name: count, dtype: int64"
      ]
     },
     "execution_count": 171,
     "metadata": {},
     "output_type": "execute_result"
    }
   ],
   "source": [
    "data['Card slot'] = data['Card slot'].apply(lambda x: x.split(' ')[0]).apply(lambda x:x.replace(',', ''))\n",
    "data['Card slot'].value_counts()"
   ]
  },
  {
   "cell_type": "markdown",
   "metadata": {},
   "source": [
    "Cleaning Bluetooth column"
   ]
  },
  {
   "cell_type": "code",
   "execution_count": 172,
   "metadata": {},
   "outputs": [
    {
     "data": {
      "text/plain": [
       "Bluetooth\n",
       "4.0    606\n",
       "5.0    407\n",
       "4.2    323\n",
       "4.1    225\n",
       "3.0    211\n",
       "2.1    133\n",
       "5.1    129\n",
       "5.2    101\n",
       "5.3     56\n",
       "        41\n",
       "2.0     10\n",
       "3.1      6\n",
       "5.4      5\n",
       "Name: count, dtype: int64"
      ]
     },
     "execution_count": 172,
     "metadata": {},
     "output_type": "execute_result"
    }
   ],
   "source": [
    "data.Bluetooth = data.Bluetooth.apply(lambda x: x.split(' ')[0].replace(',', '').split('(')[0].split('/')[0])\n",
    "data.Bluetooth = data.Bluetooth.apply(lambda x: ''.join(c for c in x if c.isdigit() or c=='.'))\n",
    "data.loc[data['Bluetooth']=='']['Bluetooth'] = 0.0\n",
    "data.Bluetooth.value_counts()"
   ]
  },
  {
   "cell_type": "markdown",
   "metadata": {},
   "source": [
    "##### Missing Values Handling"
   ]
  },
  {
   "cell_type": "markdown",
   "metadata": {},
   "source": [
    "columns: 'Unnamed: 0', name will be removed, due to not having useful data"
   ]
  },
  {
   "cell_type": "code",
   "execution_count": 27,
   "metadata": {},
   "outputs": [
    {
     "data": {
      "text/plain": [
       "<Axes: >"
      ]
     },
     "execution_count": 27,
     "metadata": {},
     "output_type": "execute_result"
    },
    {
     "data": {
      "image/png": "[encoded data removed]",
      "text/plain": [
       "<Figure size 640x480 with 1 Axes>"
      ]
     },
     "metadata": {},
     "output_type": "display_data"
    }
   ],
   "source": [
    "data.SIM.hist()"
   ]
  },
  {
   "cell_type": "code",
   "execution_count": 29,
   "metadata": {},
   "outputs": [
    {
     "data": {
      "text/plain": [
       "3.5mm jack\n",
       "1    1994\n",
       "0     259\n",
       "Name: count, dtype: int64"
      ]
     },
     "execution_count": 29,
     "metadata": {},
     "output_type": "execute_result"
    }
   ],
   "source": [
    "data['3.5mm jack'].astype('int').value_counts()"
   ]
  },
  {
   "cell_type": "markdown",
   "metadata": {},
   "source": [
    "'3.5mm jack' column will be removed because of unbalanced data"
   ]
  },
  {
   "cell_type": "code",
   "execution_count": 30,
   "metadata": {},
   "outputs": [
    {
     "data": {
      "text/plain": [
       "Network\n",
       "GSM / HSPA / LTE HSPA 42.2/5.76 Mbps, LTE Cat4 150/50 Mbps                                                 281\n",
       "GSM / HSPA / LTE HSPA, LTE                                                                                 203\n",
       "GSM / HSPA HSPA 21.1/5.76 Mbps                                                                             186\n",
       "GSM / HSPA / LTE HSPA, LTE-A                                                                               121\n",
       "GSM / HSPA HSPA 7.2/5.76 Mbps                                                                               86\n",
       "                                                                                                          ... \n",
       "GSM / HSPA / LTE HSPA, LTE-A (3CA) Cat9 450/50 Mbps                                                          1\n",
       "GSM / CDMA / HSPA / CDMA2000 / LTE / 5G HSPA, LTE, 5G                                                        1\n",
       "GSM / CDMA / HSPA / EVDO / LTE HSPA 42.2/5.76 Mbps, LTE-A (4CA) Cat12 600/150 Mbps                           1\n",
       "GSM / CDMA / HSPA / EVDO / LTE HSPA, LTE Cat4 150/50 Mbps (LS990)LTE Cat4, EV-DO Rev.A 3.1 Mbps (VS985)      1\n",
       "GSM / HSPA / LTE HSPA 42.2/5.76 Mbps, LTE-A (4CA) Cat16 1024/75 Mbps                                         1\n",
       "Name: count, Length: 294, dtype: int64"
      ]
     },
     "execution_count": 30,
     "metadata": {},
     "output_type": "execute_result"
    }
   ],
   "source": [
    "data['Network'].value_counts()"
   ]
  },
  {
   "cell_type": "markdown",
   "metadata": {},
   "source": [
    "'Network' column will be removed because of having duplicate data with 2G, 3G, 4G and 5G columns"
   ]
  },
  {
   "cell_type": "code",
   "execution_count": 31,
   "metadata": {},
   "outputs": [
    {
     "data": {
      "text/plain": [
       "Internal\n",
       "8GB 1GB RAM                                                                   161\n",
       "16GB 2GB RAM                                                                  140\n",
       "4GB 512MB RAM                                                                  99\n",
       "32GB 3GB RAM                                                                   88\n",
       "16GB 1GB RAM                                                                   78\n",
       "                                                                             ... \n",
       "128GB 8GB RAM, 256GB 8GB RAM, 256GB 12GB RAM, 512GB 12GB RAM, 1TB 18GB RAM      1\n",
       "128GB 6GB RAM, 256GB 6GB RAM, 256GB 8GB RAM                                     1\n",
       "8GB 1GB RAM (H635,H540,H630D,H542), 16GB 2GB RAM (H631,MS631)                   1\n",
       "32GB 2GB RAM, 32GB 3GB RAM, 64GB 4GB RAM, 128GB 4GB RAM, 128GB 6GB RAM          1\n",
       "4GB (1.75GB user available), 512MB RAM                                          1\n",
       "Name: count, Length: 442, dtype: int64"
      ]
     },
     "execution_count": 31,
     "metadata": {},
     "output_type": "execute_result"
    }
   ],
   "source": [
    "data.Internal.value_counts()"
   ]
  },
  {
   "cell_type": "markdown",
   "metadata": {},
   "source": [
    "Internal will be removed due to having duplicate data with RAM and Storage"
   ]
  },
  {
   "cell_type": "markdown",
   "metadata": {},
   "source": [
    "Colums Deletion"
   ]
  },
  {
   "cell_type": "code",
   "execution_count": 173,
   "metadata": {},
   "outputs": [
    {
     "name": "stdout",
     "output_type": "stream",
     "text": [
      "<class 'pandas.core.frame.DataFrame'>\n",
      "Index: 2253 entries, 1313 to 860\n",
      "Data columns (total 27 columns):\n",
      " #   Column            Non-Null Count  Dtype  \n",
      "---  ------            --------------  -----  \n",
      " 0   brand             2253 non-null   object \n",
      " 1   2G                2253 non-null   int64  \n",
      " 2   3G                2253 non-null   int64  \n",
      " 3   4G                2253 non-null   int64  \n",
      " 4   5G                2253 non-null   int64  \n",
      " 5   Announced         2253 non-null   float64\n",
      " 6   Weight            2253 non-null   float64\n",
      " 7   Length            2253 non-null   float64\n",
      " 8   Width             2253 non-null   float64\n",
      " 9   Diameter          2253 non-null   float64\n",
      " 10  SIM               2253 non-null   object \n",
      " 11  Display Type      2253 non-null   object \n",
      " 12  Display Size      2253 non-null   float64\n",
      " 13  ppi               2253 non-null   float64\n",
      " 14  body ratio        2253 non-null   float64\n",
      " 15  OS                2253 non-null   object \n",
      " 16  battery_capacity  2253 non-null   float64\n",
      " 17  CPU               2009 non-null   float64\n",
      " 18  ratio             2253 non-null   object \n",
      " 19  pixel             2253 non-null   float64\n",
      " 20  Bluetooth         2253 non-null   object \n",
      " 21  Loudspeaker       2253 non-null   bool   \n",
      " 22  Card slot         2253 non-null   object \n",
      " 23  RAM               2253 non-null   float64\n",
      " 24  Storage           2253 non-null   float64\n",
      " 25  Price             2253 non-null   float64\n",
      " 26  Sensors_count     2253 non-null   int64  \n",
      "dtypes: bool(1), float64(14), int64(5), object(7)\n",
      "memory usage: 477.4+ KB\n"
     ]
    }
   ],
   "source": [
    "data.drop(['Unnamed: 0', 'name', 'Status', '3.5mm jack', 'Network', 'Sensors', 'Chipset', \n",
    "           'Internal', 'GPU', 'WLAN', 'Colors'], axis=1, inplace=True)\n",
    "data.info()\n",
    "#  ,'Length', 'Width', 'Diameter'\n",
    "#'2G', '3G', '4G', '5G',"
   ]
  },
  {
   "cell_type": "markdown",
   "metadata": {},
   "source": [
    "Row Deletion"
   ]
  },
  {
   "cell_type": "code",
   "execution_count": 90,
   "metadata": {},
   "outputs": [
    {
     "name": "stdout",
     "output_type": "stream",
     "text": [
      "List of Columns with NULL data:\n",
      "CPU\n"
     ]
    }
   ],
   "source": [
    "print(\"List of Columns with NULL data:\")\n",
    "for col in data.columns:\n",
    "    if(len(data[data[col].isna()])) > 0:\n",
    "        print(col)"
   ]
  },
  {
   "cell_type": "code",
   "execution_count": 91,
   "metadata": {},
   "outputs": [
    {
     "data": {
      "text/plain": [
       "<Axes: >"
      ]
     },
     "execution_count": 91,
     "metadata": {},
     "output_type": "execute_result"
    },
    {
     "data": {
      "image/png": "[encoded data removed]",
      "text/plain": [
       "<Figure size 640x480 with 1 Axes>"
      ]
     },
     "metadata": {},
     "output_type": "display_data"
    }
   ],
   "source": [
    "data.CPU.hist()"
   ]
  },
  {
   "cell_type": "markdown",
   "metadata": {},
   "source": [
    "Filling Null values of CPU with median value of CPU"
   ]
  },
  {
   "cell_type": "code",
   "execution_count": 174,
   "metadata": {},
   "outputs": [],
   "source": [
    "data.CPU.fillna(data.CPU.mean(), inplace=True)"
   ]
  },
  {
   "cell_type": "markdown",
   "metadata": {},
   "source": [
    "Encode Data"
   ]
  },
  {
   "cell_type": "code",
   "execution_count": 175,
   "metadata": {},
   "outputs": [],
   "source": [
    "le = LabelEncoder()\n",
    "data['brand'] = le.fit_transform(data['brand'])\n",
    "data.ratio = le.fit_transform(data.ratio)\n",
    "data.SIM = le.fit_transform(data.SIM)\n",
    "data.OS = le.fit_transform(data.OS)\n",
    "data['Card slot'] = le.fit_transform(data['Card slot'])\n",
    "data.Bluetooth = le.fit_transform(data.Bluetooth)\n",
    "data.Loudspeaker  = le.fit_transform(data.Loudspeaker)\n",
    "data['Display Type'] = le.fit_transform(data['Display Type'])"
   ]
  },
  {
   "cell_type": "code",
   "execution_count": 41,
   "metadata": {},
   "outputs": [
    {
     "data": {
      "text/html": [
       "<div>\n",
       "<style scoped>\n",
       "    .dataframe tbody tr th:only-of-type {\n",
       "        vertical-align: middle;\n",
       "    }\n",
       "\n",
       "    .dataframe tbody tr th {\n",
       "        vertical-align: top;\n",
       "    }\n",
       "\n",
       "    .dataframe thead th {\n",
       "        text-align: right;\n",
       "    }\n",
       "</style>\n",
       "<table border=\"1\" class=\"dataframe\">\n",
       "  <thead>\n",
       "    <tr style=\"text-align: right;\">\n",
       "      <th></th>\n",
       "      <th>brand</th>\n",
       "      <th>2G</th>\n",
       "      <th>3G</th>\n",
       "      <th>4G</th>\n",
       "      <th>5G</th>\n",
       "      <th>Announced</th>\n",
       "      <th>Weight</th>\n",
       "      <th>Length</th>\n",
       "      <th>Width</th>\n",
       "      <th>Diameter</th>\n",
       "      <th>...</th>\n",
       "      <th>CPU</th>\n",
       "      <th>ratio</th>\n",
       "      <th>pixel</th>\n",
       "      <th>Bluetooth</th>\n",
       "      <th>Loudspeaker</th>\n",
       "      <th>Card slot</th>\n",
       "      <th>RAM</th>\n",
       "      <th>Storage</th>\n",
       "      <th>Price</th>\n",
       "      <th>Sensors_count</th>\n",
       "    </tr>\n",
       "  </thead>\n",
       "  <tbody>\n",
       "    <tr>\n",
       "      <th>count</th>\n",
       "      <td>2253.000000</td>\n",
       "      <td>2253.0</td>\n",
       "      <td>2253.000000</td>\n",
       "      <td>2253.000000</td>\n",
       "      <td>2253.000000</td>\n",
       "      <td>2253.000000</td>\n",
       "      <td>2253.000000</td>\n",
       "      <td>2253.000000</td>\n",
       "      <td>2253.000000</td>\n",
       "      <td>2.253000e+03</td>\n",
       "      <td>...</td>\n",
       "      <td>2253.000000</td>\n",
       "      <td>2253.000000</td>\n",
       "      <td>2253.000000</td>\n",
       "      <td>2253.000000</td>\n",
       "      <td>2253.000000</td>\n",
       "      <td>2253.000000</td>\n",
       "      <td>2253.000000</td>\n",
       "      <td>2253.000000</td>\n",
       "      <td>2253.000000</td>\n",
       "      <td>2.253000e+03</td>\n",
       "    </tr>\n",
       "    <tr>\n",
       "      <th>mean</th>\n",
       "      <td>7.641367</td>\n",
       "      <td>1.0</td>\n",
       "      <td>0.990235</td>\n",
       "      <td>0.739902</td>\n",
       "      <td>0.128273</td>\n",
       "      <td>2016.591212</td>\n",
       "      <td>190.328673</td>\n",
       "      <td>0.236883</td>\n",
       "      <td>0.162784</td>\n",
       "      <td>-2.523010e-17</td>\n",
       "      <td>...</td>\n",
       "      <td>6.090102</td>\n",
       "      <td>4.443853</td>\n",
       "      <td>0.182261</td>\n",
       "      <td>6.070573</td>\n",
       "      <td>0.755437</td>\n",
       "      <td>5.565912</td>\n",
       "      <td>2.909612</td>\n",
       "      <td>46.616172</td>\n",
       "      <td>243.766747</td>\n",
       "      <td>-1.198430e-16</td>\n",
       "    </tr>\n",
       "    <tr>\n",
       "      <th>std</th>\n",
       "      <td>3.742857</td>\n",
       "      <td>0.0</td>\n",
       "      <td>0.098355</td>\n",
       "      <td>0.438785</td>\n",
       "      <td>0.334468</td>\n",
       "      <td>3.661068</td>\n",
       "      <td>97.163629</td>\n",
       "      <td>0.135965</td>\n",
       "      <td>0.128025</td>\n",
       "      <td>1.000222e+00</td>\n",
       "      <td>...</td>\n",
       "      <td>2.336929</td>\n",
       "      <td>3.870813</td>\n",
       "      <td>0.144306</td>\n",
       "      <td>2.372857</td>\n",
       "      <td>0.429923</td>\n",
       "      <td>2.314663</td>\n",
       "      <td>2.501775</td>\n",
       "      <td>60.420501</td>\n",
       "      <td>196.144122</td>\n",
       "      <td>1.000222e+00</td>\n",
       "    </tr>\n",
       "    <tr>\n",
       "      <th>min</th>\n",
       "      <td>0.000000</td>\n",
       "      <td>1.0</td>\n",
       "      <td>0.000000</td>\n",
       "      <td>0.000000</td>\n",
       "      <td>0.000000</td>\n",
       "      <td>2010.000000</td>\n",
       "      <td>89.300000</td>\n",
       "      <td>0.000000</td>\n",
       "      <td>0.000000</td>\n",
       "      <td>-2.654073e+00</td>\n",
       "      <td>...</td>\n",
       "      <td>2.000000</td>\n",
       "      <td>0.000000</td>\n",
       "      <td>0.000000</td>\n",
       "      <td>0.000000</td>\n",
       "      <td>0.000000</td>\n",
       "      <td>0.000000</td>\n",
       "      <td>0.062500</td>\n",
       "      <td>0.039062</td>\n",
       "      <td>20.000000</td>\n",
       "      <td>-1.644549e+00</td>\n",
       "    </tr>\n",
       "    <tr>\n",
       "      <th>25%</th>\n",
       "      <td>5.000000</td>\n",
       "      <td>1.0</td>\n",
       "      <td>1.000000</td>\n",
       "      <td>0.000000</td>\n",
       "      <td>0.000000</td>\n",
       "      <td>2014.000000</td>\n",
       "      <td>142.000000</td>\n",
       "      <td>0.153122</td>\n",
       "      <td>0.108370</td>\n",
       "      <td>-6.652635e-01</td>\n",
       "      <td>...</td>\n",
       "      <td>4.000000</td>\n",
       "      <td>1.000000</td>\n",
       "      <td>0.053738</td>\n",
       "      <td>5.000000</td>\n",
       "      <td>1.000000</td>\n",
       "      <td>6.000000</td>\n",
       "      <td>1.000000</td>\n",
       "      <td>8.000000</td>\n",
       "      <td>129.990000</td>\n",
       "      <td>-4.794016e-01</td>\n",
       "    </tr>\n",
       "    <tr>\n",
       "      <th>50%</th>\n",
       "      <td>8.000000</td>\n",
       "      <td>1.0</td>\n",
       "      <td>1.000000</td>\n",
       "      <td>1.000000</td>\n",
       "      <td>0.000000</td>\n",
       "      <td>2016.000000</td>\n",
       "      <td>167.300000</td>\n",
       "      <td>0.227973</td>\n",
       "      <td>0.134978</td>\n",
       "      <td>-1.831280e-01</td>\n",
       "      <td>...</td>\n",
       "      <td>8.000000</td>\n",
       "      <td>3.000000</td>\n",
       "      <td>0.123832</td>\n",
       "      <td>6.000000</td>\n",
       "      <td>1.000000</td>\n",
       "      <td>7.000000</td>\n",
       "      <td>2.000000</td>\n",
       "      <td>16.000000</td>\n",
       "      <td>190.000000</td>\n",
       "      <td>1.031722e-01</td>\n",
       "    </tr>\n",
       "    <tr>\n",
       "      <th>75%</th>\n",
       "      <td>10.000000</td>\n",
       "      <td>1.0</td>\n",
       "      <td>1.000000</td>\n",
       "      <td>1.000000</td>\n",
       "      <td>0.000000</td>\n",
       "      <td>2020.000000</td>\n",
       "      <td>195.000000</td>\n",
       "      <td>0.275021</td>\n",
       "      <td>0.148524</td>\n",
       "      <td>4.195414e-01</td>\n",
       "      <td>...</td>\n",
       "      <td>8.000000</td>\n",
       "      <td>9.000000</td>\n",
       "      <td>0.298189</td>\n",
       "      <td>8.000000</td>\n",
       "      <td>1.000000</td>\n",
       "      <td>7.000000</td>\n",
       "      <td>4.000000</td>\n",
       "      <td>64.000000</td>\n",
       "      <td>290.000000</td>\n",
       "      <td>6.857459e-01</td>\n",
       "    </tr>\n",
       "    <tr>\n",
       "      <th>max</th>\n",
       "      <td>13.000000</td>\n",
       "      <td>1.0</td>\n",
       "      <td>1.000000</td>\n",
       "      <td>1.000000</td>\n",
       "      <td>1.000000</td>\n",
       "      <td>2024.000000</td>\n",
       "      <td>950.000000</td>\n",
       "      <td>1.000000</td>\n",
       "      <td>1.000000</td>\n",
       "      <td>6.627036e+00</td>\n",
       "      <td>...</td>\n",
       "      <td>10.000000</td>\n",
       "      <td>12.000000</td>\n",
       "      <td>1.000000</td>\n",
       "      <td>12.000000</td>\n",
       "      <td>1.000000</td>\n",
       "      <td>7.000000</td>\n",
       "      <td>16.000000</td>\n",
       "      <td>512.000000</td>\n",
       "      <td>1880.000000</td>\n",
       "      <td>3.598615e+00</td>\n",
       "    </tr>\n",
       "  </tbody>\n",
       "</table>\n",
       "<p>8 rows × 27 columns</p>\n",
       "</div>"
      ],
      "text/plain": [
       "             brand      2G           3G           4G           5G  \\\n",
       "count  2253.000000  2253.0  2253.000000  2253.000000  2253.000000   \n",
       "mean      7.641367     1.0     0.990235     0.739902     0.128273   \n",
       "std       3.742857     0.0     0.098355     0.438785     0.334468   \n",
       "min       0.000000     1.0     0.000000     0.000000     0.000000   \n",
       "25%       5.000000     1.0     1.000000     0.000000     0.000000   \n",
       "50%       8.000000     1.0     1.000000     1.000000     0.000000   \n",
       "75%      10.000000     1.0     1.000000     1.000000     0.000000   \n",
       "max      13.000000     1.0     1.000000     1.000000     1.000000   \n",
       "\n",
       "         Announced       Weight       Length        Width      Diameter  ...  \\\n",
       "count  2253.000000  2253.000000  2253.000000  2253.000000  2.253000e+03  ...   \n",
       "mean   2016.591212   190.328673     0.236883     0.162784 -2.523010e-17  ...   \n",
       "std       3.661068    97.163629     0.135965     0.128025  1.000222e+00  ...   \n",
       "min    2010.000000    89.300000     0.000000     0.000000 -2.654073e+00  ...   \n",
       "25%    2014.000000   142.000000     0.153122     0.108370 -6.652635e-01  ...   \n",
       "50%    2016.000000   167.300000     0.227973     0.134978 -1.831280e-01  ...   \n",
       "75%    2020.000000   195.000000     0.275021     0.148524  4.195414e-01  ...   \n",
       "max    2024.000000   950.000000     1.000000     1.000000  6.627036e+00  ...   \n",
       "\n",
       "               CPU        ratio        pixel    Bluetooth  Loudspeaker  \\\n",
       "count  2253.000000  2253.000000  2253.000000  2253.000000  2253.000000   \n",
       "mean      6.090102     4.443853     0.182261     6.070573     0.755437   \n",
       "std       2.336929     3.870813     0.144306     2.372857     0.429923   \n",
       "min       2.000000     0.000000     0.000000     0.000000     0.000000   \n",
       "25%       4.000000     1.000000     0.053738     5.000000     1.000000   \n",
       "50%       8.000000     3.000000     0.123832     6.000000     1.000000   \n",
       "75%       8.000000     9.000000     0.298189     8.000000     1.000000   \n",
       "max      10.000000    12.000000     1.000000    12.000000     1.000000   \n",
       "\n",
       "         Card slot          RAM      Storage        Price  Sensors_count  \n",
       "count  2253.000000  2253.000000  2253.000000  2253.000000   2.253000e+03  \n",
       "mean      5.565912     2.909612    46.616172   243.766747  -1.198430e-16  \n",
       "std       2.314663     2.501775    60.420501   196.144122   1.000222e+00  \n",
       "min       0.000000     0.062500     0.039062    20.000000  -1.644549e+00  \n",
       "25%       6.000000     1.000000     8.000000   129.990000  -4.794016e-01  \n",
       "50%       7.000000     2.000000    16.000000   190.000000   1.031722e-01  \n",
       "75%       7.000000     4.000000    64.000000   290.000000   6.857459e-01  \n",
       "max       7.000000    16.000000   512.000000  1880.000000   3.598615e+00  \n",
       "\n",
       "[8 rows x 27 columns]"
      ]
     },
     "execution_count": 41,
     "metadata": {},
     "output_type": "execute_result"
    }
   ],
   "source": [
    "data.describe()"
   ]
  },
  {
   "cell_type": "markdown",
   "metadata": {},
   "source": [
    "Seperate Answers from Data"
   ]
  },
  {
   "cell_type": "code",
   "execution_count": 176,
   "metadata": {},
   "outputs": [],
   "source": [
    "Answer = data['Price']\n",
    "data.drop('Price', axis=1, inplace=True)"
   ]
  },
  {
   "cell_type": "markdown",
   "metadata": {},
   "source": [
    "#### Model"
   ]
  },
  {
   "cell_type": "code",
   "execution_count": 177,
   "metadata": {},
   "outputs": [],
   "source": [
    "pf_4 = PolynomialFeatures(degree=4)\n",
    "data2 = pf_4.fit_transform(data)\n",
    "X_train, X_test, y_train, y_test = train_test_split(data2, Answer, test_size=0.15, random_state=42)"
   ]
  },
  {
   "cell_type": "code",
   "execution_count": 22,
   "metadata": {},
   "outputs": [
    {
     "name": "stdout",
     "output_type": "stream",
     "text": [
      "r2_score of train:  0.8864597316830518\n",
      "r2_score of test:  -0.6204495295386523\n"
     ]
    }
   ],
   "source": [
    "my_lr_d4_simple = LinearRegression()\n",
    "my_lr_d4_simple.fit(X_train, y_train)\n",
    "y_tr_d4_simple = my_lr_d4_simple.predict(X_train)\n",
    "print(\"r2_score of train: \", r2_score(y_train, y_tr_d4_simple))\n",
    "y_tst_d4_simple = my_lr_d4_simple.predict(X_test)\n",
    "print(\"r2_score of test: \", r2_score(y_test, y_tst_d4_simple))"
   ]
  },
  {
   "cell_type": "markdown",
   "metadata": {},
   "source": [
    "Create train and test data as a polynomial with degree of 3"
   ]
  },
  {
   "cell_type": "code",
   "execution_count": 51,
   "metadata": {},
   "outputs": [],
   "source": [
    "pf_3 = PolynomialFeatures(degree=3)\n",
    "data2 = pf_3.fit_transform(data)\n",
    "X_train, X_test, y_train, y_test = train_test_split(data2, Answer, test_size=0.15, random_state=42)"
   ]
  },
  {
   "cell_type": "code",
   "execution_count": 52,
   "metadata": {},
   "outputs": [
    {
     "name": "stdout",
     "output_type": "stream",
     "text": [
      "r2_score of train:  0.9955837548755078\n",
      "r2_score of test:  -41653.51117101921\n"
     ]
    }
   ],
   "source": [
    "my_lr_d3_simple = LinearRegression()\n",
    "my_lr_d3_simple.fit(X_train, y_train)\n",
    "y_tr_d3_simple = my_lr_d3_simple.predict(X_train)\n",
    "print(\"r2_score of train: \", r2_score(y_train, y_tr_d3_simple))\n",
    "y_tst_d3_simple = my_lr_d3_simple.predict(X_test)\n",
    "print(\"r2_score of test: \", r2_score(y_test, y_tst_d3_simple))"
   ]
  },
  {
   "cell_type": "code",
   "execution_count": 53,
   "metadata": {},
   "outputs": [
    {
     "name": "stdout",
     "output_type": "stream",
     "text": [
      "r2_score of train:  0.9470272690627984\n",
      "r2_score of test:  -0.6893297789703077\n"
     ]
    }
   ],
   "source": [
    "my_lr_d3_las = LinearRegression()\n",
    "my_lr_d3_las = Lasso(alpha=0, max_iter=10000, precompute=True)\n",
    "my_lr_d3_las.fit(X_train, y_train)\n",
    "y_tr_d3_las = my_lr_d3_las.predict(X_train)\n",
    "print(\"r2_score of train: \", r2_score(y_train, y_tr_d3_las))\n",
    "y_tst_d3_las = my_lr_d3_las.predict(X_test)\n",
    "print(\"r2_score of test: \", r2_score(y_test, y_tst_d3_las))"
   ]
  },
  {
   "cell_type": "code",
   "execution_count": 26,
   "metadata": {},
   "outputs": [
    {
     "name": "stdout",
     "output_type": "stream",
     "text": [
      "r2_score of train:  0.9341366551344226\n",
      "r2_score of test:  0.18392793025024579\n"
     ]
    }
   ],
   "source": [
    "my_lr_d3_el = LinearRegression()\n",
    "my_lr_d3_el = ElasticNet(alpha=0, l1_ratio=0.01, max_iter=10000, precompute=True)\n",
    "my_lr_d3_el.fit(X_train, y_train)\n",
    "y_tr_d3_el = my_lr_d3_el.predict(X_train)\n",
    "print(\"r2_score of train: \", r2_score(y_train, y_tr_d3_el))\n",
    "y_tst_d3_el = my_lr_d3_el.predict(X_test)\n",
    "print(\"r2_score of test: \", r2_score(y_test, y_tst_d3_el))"
   ]
  },
  {
   "cell_type": "markdown",
   "metadata": {},
   "source": [
    "Create train and test data as a polynomial with degree of 2"
   ]
  },
  {
   "cell_type": "code",
   "execution_count": 178,
   "metadata": {},
   "outputs": [],
   "source": [
    "pf_2 = PolynomialFeatures(degree=2)\n",
    "data2 = pf_2.fit_transform(data)\n",
    "X_train, X_test, y_train, y_test = train_test_split(data2, Answer, test_size=0.15, random_state=42)"
   ]
  },
  {
   "cell_type": "code",
   "execution_count": 179,
   "metadata": {},
   "outputs": [
    {
     "name": "stdout",
     "output_type": "stream",
     "text": [
      "r2_score of train:  0.8219505787667267\n",
      "r2_score of test:  0.5794589361839613\n"
     ]
    }
   ],
   "source": [
    "my_lr_d2_simple = LinearRegression()\n",
    "my_lr_d2_simple.fit(X_train, y_train)\n",
    "y_tr_d2_simple = my_lr_d2_simple.predict(X_train)\n",
    "print(\"r2_score of train: \", r2_score(y_train, y_tr_d2_simple))\n",
    "y_tst_d2_simple = my_lr_d2_simple.predict(X_test)\n",
    "print(\"r2_score of test: \", r2_score(y_test, y_tst_d2_simple))"
   ]
  },
  {
   "cell_type": "code",
   "execution_count": 180,
   "metadata": {},
   "outputs": [
    {
     "name": "stdout",
     "output_type": "stream",
     "text": [
      "r2_score of train:  0.8190406424904568\n",
      "r2_score of test:  0.7264976811837736\n"
     ]
    }
   ],
   "source": [
    "my_lr_d2_las = LinearRegression()\n",
    "my_lr_d2_las = Lasso(alpha=0, max_iter=10000, precompute=True)\n",
    "my_lr_d2_las.fit(X_train, y_train)\n",
    "y_tr_d2_las = my_lr_d2_las.predict(X_train)\n",
    "print(\"r2_score of train: \", r2_score(y_train, y_tr_d2_las))\n",
    "y_tst_d2_las = my_lr_d2_las.predict(X_test)\n",
    "print(\"r2_score of test: \", r2_score(y_test, y_tst_d2_las))"
   ]
  },
  {
   "cell_type": "code",
   "execution_count": 181,
   "metadata": {},
   "outputs": [
    {
     "name": "stdout",
     "output_type": "stream",
     "text": [
      "r2_score of train:  0.8190406424904568\n",
      "r2_score of test:  0.7264976811837736\n"
     ]
    }
   ],
   "source": [
    "my_lr_d2_el = LinearRegression()\n",
    "my_lr_d2_el = ElasticNet(alpha=0, l1_ratio=0.01, max_iter=10000, precompute=True)\n",
    "my_lr_d2_el.fit(X_train, y_train)\n",
    "y_tr_d2_el = my_lr_d2_el.predict(X_train)\n",
    "print(\"r2_score of train: \", r2_score(y_train, y_tr_d2_el))\n",
    "y_tst_d2_el = my_lr_d2_el.predict(X_test)\n",
    "print(\"r2_score of test: \", r2_score(y_test, y_tst_d2_el))"
   ]
  },
  {
   "cell_type": "markdown",
   "metadata": {},
   "source": [
    "Create train and test data as a simple linear regression"
   ]
  },
  {
   "cell_type": "code",
   "execution_count": 47,
   "metadata": {},
   "outputs": [],
   "source": [
    "pf_1 = PolynomialFeatures(degree=1)\n",
    "data2 = pf_1.fit_transform(data)\n",
    "X_train, X_test, y_train, y_test = train_test_split(data2, Answer, test_size=0.15, random_state=42)"
   ]
  },
  {
   "cell_type": "code",
   "execution_count": 48,
   "metadata": {},
   "outputs": [
    {
     "name": "stdout",
     "output_type": "stream",
     "text": [
      "r2_score of train:  0.6314249419565484\n",
      "r2_score of test:  0.5951877251717459\n"
     ]
    }
   ],
   "source": [
    "my_lr_d1_simple = LinearRegression()\n",
    "my_lr_d1_simple.fit(X_train, y_train)\n",
    "y_tr_d1_simple = my_lr_d1_simple.predict(X_train)\n",
    "print(\"r2_score of train: \", r2_score(y_train, y_tr_d1_simple))\n",
    "y_tst_d1_simple = my_lr_d1_simple.predict(X_test)\n",
    "print(\"r2_score of test: \", r2_score(y_test, y_tst_d1_simple))"
   ]
  },
  {
   "cell_type": "code",
   "execution_count": 49,
   "metadata": {},
   "outputs": [
    {
     "name": "stdout",
     "output_type": "stream",
     "text": [
      "r2_score of train:  0.6481874009820047\n",
      "r2_score of test:  0.6058438266075207\n"
     ]
    }
   ],
   "source": [
    "my_lr_d1_las = LinearRegression()\n",
    "my_lr_d1_las = Lasso(alpha=0, max_iter=10000, precompute=True)\n",
    "my_lr_d1_las.fit(X_train, y_train)\n",
    "y_tr_d1_las = my_lr_d1_las.predict(X_train)\n",
    "print(\"r2_score of train: \", r2_score(y_train, y_tr_d1_las))\n",
    "y_tst_d1_las = my_lr_d1_las.predict(X_test)\n",
    "print(\"r2_score of test: \", r2_score(y_test, y_tst_d1_las))"
   ]
  },
  {
   "cell_type": "code",
   "execution_count": 50,
   "metadata": {},
   "outputs": [
    {
     "name": "stdout",
     "output_type": "stream",
     "text": [
      "r2_score of train:  0.6481874009820047\n",
      "r2_score of test:  0.6058438266075207\n"
     ]
    }
   ],
   "source": [
    "my_lr_d1_el = LinearRegression()\n",
    "my_lr_d1_el = ElasticNet(alpha=0, l1_ratio=0.01, max_iter=10000, precompute=True)\n",
    "my_lr_d1_el.fit(X_train, y_train)\n",
    "y_tr_d1_el = my_lr_d1_el.predict(X_train)\n",
    "print(\"r2_score of train: \", r2_score(y_train, y_tr_d1_el))\n",
    "y_tst_d1_el = my_lr_d1_el.predict(X_test)\n",
    "print(\"r2_score of test: \", r2_score(y_test, y_tst_d1_el))"
   ]
  },
  {
   "cell_type": "markdown",
   "metadata": {},
   "source": [
    "#### Evaluation"
   ]
  },
  {
   "cell_type": "code",
   "execution_count": 182,
   "metadata": {},
   "outputs": [],
   "source": [
    "data_val = data_test.copy()\n",
    "data_val['Price'] = result_test"
   ]
  },
  {
   "cell_type": "code",
   "execution_count": 183,
   "metadata": {},
   "outputs": [],
   "source": [
    "\n",
    "data_val['Sensors_count'] = data_val.Sensors.apply(lambda x: len(str(x).split(',') if x else 0))\n",
    "data_val.Length = data_val.Length.apply(lambda x: ''.join(c for c in x if c.isdigit() or c=='.'))\n",
    "data_val.Width = data_val.Width.apply(lambda x: ''.join(c for c in x if c.isdigit() or c=='.'))\n",
    "data_val.Diameter = data_val.Diameter.apply(lambda x: x.split('-')[0])\n",
    "data_val.Diameter = data_val.Diameter.apply(lambda x: ''.join(c for c in x if c.isdigit() or c=='.'))\n",
    "data_val.Length = data_val.Length.astype('float64')\n",
    "data_val.Width = data_val.Width.astype('float64')\n",
    "data_val.Diameter = data_val.Diameter.astype('float64')\n",
    "data_val.OS = data_val.OS.apply(lambda x: x.split(' ')[0].strip())\n",
    "data_val.OS = data_val.OS.apply(os_cleaner)\n",
    "\n",
    "data_val['2G'] = data_val['2G'].astype('int')\n",
    "data_val['3G'] = data_val['3G'].astype('int')\n",
    "data_val['4G'] = data_val['4G'].astype('int')\n",
    "data_val['5G'] = data_val['5G'].astype('int')\n",
    "\n",
    "data_val['Card slot'] = data_val['Card slot'].apply(lambda x: x.split(' ')[0]).apply(lambda x:x.replace(',', ''))\n",
    "\n",
    "data_val.Bluetooth = data_val.Bluetooth.apply(lambda x: x.split(' ')[0].replace(',', '').split('(')[0].split('/')[0])\n",
    "data_val.Bluetooth = data_val.Bluetooth.apply(lambda x: ''.join(c for c in x if c.isdigit() or c=='.'))\n",
    "data_val.loc[data_val['Bluetooth']=='']['Bluetooth'] = 0.0\n",
    "\n",
    "data_val['Sensors_count'] = data_val.Sensors.apply(lambda x: len(str(x).split(',') if x else 0))\n",
    "\n",
    "data_val.drop(['Unnamed: 0', 'name', 'Status', '3.5mm jack', 'Network', 'Sensors', 'Chipset', \n",
    "           'Internal', 'GPU', 'WLAN', 'Colors'], axis=1, inplace=True)\n",
    "\n",
    "data_val.CPU.fillna(data_val.CPU.median(), inplace=True)\n",
    "\n",
    "data_val['brand'] = le.fit_transform(data_val['brand'])\n",
    "data_val.ratio = le.fit_transform(data_val.ratio)\n",
    "data_val.SIM = le.fit_transform(data_val.SIM)\n",
    "data_val.OS = le.fit_transform(data_val.OS)\n",
    "data_val['Card slot'] = le.fit_transform(data_val['Card slot'])\n",
    "data_val.Bluetooth = le.fit_transform(data_val.Bluetooth)\n",
    "data_val.Loudspeaker  = le.fit_transform(data_val.Loudspeaker)\n",
    "data_val['Display Type'] = le.fit_transform(data_val['Display Type'])\n",
    "\n",
    "Answer = data_val['Price']\n",
    "data_val.drop('Price', axis=1, inplace=True)\n",
    "\n"
   ]
  },
  {
   "cell_type": "code",
   "execution_count": 184,
   "metadata": {},
   "outputs": [],
   "source": [
    "data2 = pf_2.fit_transform(data_val)"
   ]
  },
  {
   "cell_type": "code",
   "execution_count": 185,
   "metadata": {},
   "outputs": [
    {
     "name": "stdout",
     "output_type": "stream",
     "text": [
      "r2_score of test:  0.6117900975577961\n"
     ]
    }
   ],
   "source": [
    "y_val_d2_el = my_lr_d2_el.predict(data2)\n",
    "print(\"r2_score of test: \", r2_score(Answer, y_val_d2_el))"
   ]
  }
 ],
 "metadata": {
  "kernelspec": {
   "display_name": "Python 3",
   "language": "python",
   "name": "python3"
  },
  "language_info": {
   "codemirror_mode": {
    "name": "ipython",
    "version": 3
   },
   "file_extension": ".py",
   "mimetype": "text/x-python",
   "name": "python",
   "nbconvert_exporter": "python",
   "pygments_lexer": "ipython3",
   "version": "3.9.2"
  }
 },
 "nbformat": 4,
 "nbformat_minor": 2
}
