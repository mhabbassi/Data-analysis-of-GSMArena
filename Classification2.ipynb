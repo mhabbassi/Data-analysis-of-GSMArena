{
 "cells": [
  {
   "cell_type": "code",
   "execution_count": 68,
   "metadata": {},
   "outputs": [],
   "source": [
    "import pandas as pd\n",
    "import numpy as np"
   ]
  },
  {
   "cell_type": "code",
   "execution_count": 69,
   "metadata": {},
   "outputs": [],
   "source": [
    "df=pd.read_csv('data.csv')"
   ]
  },
  {
   "cell_type": "markdown",
   "metadata": {},
   "source": [
    "Splitting Data to Train and Test part"
   ]
  },
  {
   "cell_type": "code",
   "execution_count": 70,
   "metadata": {},
   "outputs": [],
   "source": [
    "from sklearn.model_selection import train_test_split\n",
    "features=df.drop('OS',axis=1)\n",
    "target=df.OS\n",
    "features_train,features_test,target_train,target_test=train_test_split(features,target,test_size=0.15,random_state=42)"
   ]
  },
  {
   "cell_type": "markdown",
   "metadata": {},
   "source": [
    "Prepration of Train Data"
   ]
  },
  {
   "cell_type": "code",
   "execution_count": 71,
   "metadata": {},
   "outputs": [],
   "source": [
    "def getOS(x):\n",
    "    return x.split(' ')[0]\n",
    "target_train=target_train.apply(getOS)\n",
    "def OS_reDefine(x):\n",
    "     if (x=='Android')  or (x=='iOS'):\n",
    "          return x\n",
    "     else: return 'other'\n",
    "target_train=target_train.apply(OS_reDefine)\n",
    "from sklearn.preprocessing import LabelEncoder\n",
    "le=LabelEncoder()\n",
    "target_train=pd.DataFrame(le.fit_transform(target_train),columns=['OS'])"
   ]
  },
  {
   "cell_type": "code",
   "execution_count": 72,
   "metadata": {},
   "outputs": [],
   "source": [
    "features_train.drop(['Unnamed: 0','brand','name','Status','WLAN','Colors','Sensors','Bluetooth','GPU','Loudspeaker','Display Type',\n",
    "                 '3.5mm jack','Chipset','Network','Internal','Card slot','2G','3G'],axis=1,inplace=True)"
   ]
  },
  {
   "cell_type": "code",
   "execution_count": 73,
   "metadata": {},
   "outputs": [],
   "source": [
    "\n",
    "features_train['4G']=features_train['4G'].map({True:1,False:0})\n",
    "features_train['5G']=features_train['5G'].map({True:1,False:0})\n",
    "def getLength(x):\n",
    "        a=x.split(' ')\n",
    "        if a[0]=='Unfolded:': \n",
    "                return float(a[1])\n",
    "        else:\n",
    "                return float(a[0])\n",
    "features_train.Length=features_train.Length.apply(getLength)\n",
    "def getWidth(x):\n",
    "        return float(x.split('mm')[0])\n",
    "features_train.Width=features_train.Width.apply(getWidth)\n",
    "def getDiameter(x):\n",
    "        return float(x.split('-')[0])\n",
    "features_train.Diameter=features_train.Diameter.apply(getDiameter)\n",
    "features_train.SIM=features_train.SIM.map({'eSIM':0,'Mini-SIM':1,'Micro-SIM':2,'Nano-SIM':3})\n",
    "def getRatio(x):\n",
    "    return int(x.split(':')[0])/int(x.split(':')[1])\n",
    "features_train.ratio=features_train.ratio.apply(getRatio)\n",
    "features_train.CPU=features_train.CPU.fillna(features_train.CPU.median())"
   ]
  },
  {
   "cell_type": "code",
   "execution_count": 74,
   "metadata": {},
   "outputs": [],
   "source": [
    "def Binning_BC(x):\n",
    "    if x<= features_train.battery_capacity.quantile(0.33):\n",
    "        return 1\n",
    "    if x<= features_train.battery_capacity.quantile(0.66):\n",
    "        return 2\n",
    "    else: return 3\n",
    "features_train.battery_capacity=features_train.battery_capacity.apply(Binning_BC)"
   ]
  },
  {
   "cell_type": "code",
   "execution_count": 75,
   "metadata": {},
   "outputs": [
    {
     "data": {
      "text/plain": [
       "battery_capacity\n",
       "2    825\n",
       "1    746\n",
       "3    682\n",
       "Name: count, dtype: int64"
      ]
     },
     "execution_count": 75,
     "metadata": {},
     "output_type": "execute_result"
    }
   ],
   "source": [
    "features_train.battery_capacity.value_counts()"
   ]
  },
  {
   "cell_type": "code",
   "execution_count": 76,
   "metadata": {},
   "outputs": [
    {
     "name": "stdout",
     "output_type": "stream",
     "text": [
      "Original dataset shape: Counter({0: 1760, 2: 109, 1: 46})\n",
      "Resampled dataset shape: Counter({0: 1760, 2: 1760, 1: 1760})\n",
      "Train Accuracy: 1.0\n",
      "Train F1: 1.0\n",
      "Test Accuracy: 0.9733727810650887\n",
      "Test F1: 0.9719354598990253\n",
      "Test recission: 0.9715464269458353\n",
      "Test Recall: 0.9733727810650887\n",
      "Feature Importances: [0.01929347 0.01043143 0.05422278 0.02926363 0.05239796 0.04398247\n",
      " 0.10513949 0.10313653 0.04941621 0.05485562 0.03789426 0.01823722\n",
      " 0.02387374 0.1223405  0.06231734 0.07998475 0.06279797 0.07041463]\n"
     ]
    }
   ],
   "source": [
    "from sklearn.ensemble import RandomForestClassifier\n",
    "from sklearn.model_selection import train_test_split\n",
    "from sklearn.preprocessing import StandardScaler\n",
    "from imblearn.over_sampling import SMOTE\n",
    "from sklearn.metrics import f1_score,precision_score,accuracy_score,recall_score\n",
    "from collections import Counter\n",
    "\n",
    "X=features_train\n",
    "y=target_train.OS\n",
    "\n",
    "\n",
    "X_train,X_val,y_train,y_val=train_test_split(X,y,test_size=0.15,random_state=42)\n",
    "\n",
    "sc=StandardScaler()\n",
    "\n",
    "X_train_scaled=sc.fit_transform(X_train)\n",
    "X_val_scaled=sc.transform(X_val)\n",
    "\n",
    "sm=SMOTE(random_state=42)\n",
    "\n",
    "X_train_resampled, y_train_resampled=sm.fit_resample(X_train_scaled,y_train)\n",
    "\n",
    "print('Original dataset shape:', Counter(y_train))\n",
    "print('Resampled dataset shape:', Counter(y_train_resampled))\n",
    "\n",
    "\n",
    "rfc=RandomForestClassifier(criterion='entropy',max_depth=15,n_estimators=100,random_state=42)\n",
    "\n",
    "\n",
    "\n",
    "rfc.fit(X_train_resampled,y_train_resampled)\n",
    "\n",
    "\n",
    "y_pred=rfc.predict(X_train_scaled)\n",
    "print('Train Accuracy:',f1_score(y_train,y_pred, average='weighted'))\n",
    "print('Train F1:',f1_score(y_train,y_pred,average='weighted'))\n",
    "\n",
    "y_pred=rfc.predict(X_val_scaled)\n",
    "print('Test Accuracy:',accuracy_score(y_val,y_pred))\n",
    "print('Test F1:',f1_score(y_val,y_pred,average='weighted'))\n",
    "print('Test recission:',precision_score(y_val,y_pred,average='weighted'))\n",
    "print('Test Recall:',recall_score(y_val,y_pred,average='weighted'))\n",
    "\n",
    "\n",
    "print('Feature Importances:',rfc.feature_importances_)"
   ]
  },
  {
   "cell_type": "code",
   "execution_count": 77,
   "metadata": {},
   "outputs": [
    {
     "data": {
      "text/plain": [
       "Text(50.722222222222214, 0.5, 'True Lables')"
      ]
     },
     "execution_count": 77,
     "metadata": {},
     "output_type": "execute_result"
    },
    {
     "data": {
      "image/png": "[encoded data removed]",
      "text/plain": [
       "<Figure size 640x480 with 2 Axes>"
      ]
     },
     "metadata": {},
     "output_type": "display_data"
    }
   ],
   "source": [
    "# Confusion Matrix\n",
    "from sklearn.metrics import confusion_matrix\n",
    "import matplotlib.pyplot as plt\n",
    "import seaborn as sns\n",
    "\n",
    "cm = confusion_matrix(y_val,y_pred) \n",
    "\n",
    "\n",
    "sns.heatmap(cm , annot=True ,fmt='d')\n",
    "plt.xlabel(\"preficted Labels\")\n",
    "plt.ylabel(\"True Lables\")"
   ]
  },
  {
   "cell_type": "code",
   "execution_count": 78,
   "metadata": {},
   "outputs": [
    {
     "data": {
      "text/plain": [
       "<Axes: >"
      ]
     },
     "execution_count": 78,
     "metadata": {},
     "output_type": "execute_result"
    },
    {
     "data": {
      "image/png": "[encoded data removed]",
      "text/plain": [
       "<Figure size 640x480 with 1 Axes>"
      ]
     },
     "metadata": {},
     "output_type": "display_data"
    }
   ],
   "source": [
    "import matplotlib.pyplot as plt\n",
    "pd.Series(rfc.feature_importances_,index=X.columns).plot(kind='barh')"
   ]
  },
  {
   "cell_type": "markdown",
   "metadata": {},
   "source": [
    "##model"
   ]
  },
  {
   "cell_type": "code",
   "execution_count": 79,
   "metadata": {},
   "outputs": [
    {
     "data": {
      "text/html": [
       "<style>#sk-container-id-3 {color: black;background-color: white;}#sk-container-id-3 pre{padding: 0;}#sk-container-id-3 div.sk-toggleable {background-color: white;}#sk-container-id-3 label.sk-toggleable__label {cursor: pointer;display: block;width: 100%;margin-bottom: 0;padding: 0.3em;box-sizing: border-box;text-align: center;}#sk-container-id-3 label.sk-toggleable__label-arrow:before {content: \"▸\";float: left;margin-right: 0.25em;color: #696969;}#sk-container-id-3 label.sk-toggleable__label-arrow:hover:before {color: black;}#sk-container-id-3 div.sk-estimator:hover label.sk-toggleable__label-arrow:before {color: black;}#sk-container-id-3 div.sk-toggleable__content {max-height: 0;max-width: 0;overflow: hidden;text-align: left;background-color: #f0f8ff;}#sk-container-id-3 div.sk-toggleable__content pre {margin: 0.2em;color: black;border-radius: 0.25em;background-color: #f0f8ff;}#sk-container-id-3 input.sk-toggleable__control:checked~div.sk-toggleable__content {max-height: 200px;max-width: 100%;overflow: auto;}#sk-container-id-3 input.sk-toggleable__control:checked~label.sk-toggleable__label-arrow:before {content: \"▾\";}#sk-container-id-3 div.sk-estimator input.sk-toggleable__control:checked~label.sk-toggleable__label {background-color: #d4ebff;}#sk-container-id-3 div.sk-label input.sk-toggleable__control:checked~label.sk-toggleable__label {background-color: #d4ebff;}#sk-container-id-3 input.sk-hidden--visually {border: 0;clip: rect(1px 1px 1px 1px);clip: rect(1px, 1px, 1px, 1px);height: 1px;margin: -1px;overflow: hidden;padding: 0;position: absolute;width: 1px;}#sk-container-id-3 div.sk-estimator {font-family: monospace;background-color: #f0f8ff;border: 1px dotted black;border-radius: 0.25em;box-sizing: border-box;margin-bottom: 0.5em;}#sk-container-id-3 div.sk-estimator:hover {background-color: #d4ebff;}#sk-container-id-3 div.sk-parallel-item::after {content: \"\";width: 100%;border-bottom: 1px solid gray;flex-grow: 1;}#sk-container-id-3 div.sk-label:hover label.sk-toggleable__label {background-color: #d4ebff;}#sk-container-id-3 div.sk-serial::before {content: \"\";position: absolute;border-left: 1px solid gray;box-sizing: border-box;top: 0;bottom: 0;left: 50%;z-index: 0;}#sk-container-id-3 div.sk-serial {display: flex;flex-direction: column;align-items: center;background-color: white;padding-right: 0.2em;padding-left: 0.2em;position: relative;}#sk-container-id-3 div.sk-item {position: relative;z-index: 1;}#sk-container-id-3 div.sk-parallel {display: flex;align-items: stretch;justify-content: center;background-color: white;position: relative;}#sk-container-id-3 div.sk-item::before, #sk-container-id-3 div.sk-parallel-item::before {content: \"\";position: absolute;border-left: 1px solid gray;box-sizing: border-box;top: 0;bottom: 0;left: 50%;z-index: -1;}#sk-container-id-3 div.sk-parallel-item {display: flex;flex-direction: column;z-index: 1;position: relative;background-color: white;}#sk-container-id-3 div.sk-parallel-item:first-child::after {align-self: flex-end;width: 50%;}#sk-container-id-3 div.sk-parallel-item:last-child::after {align-self: flex-start;width: 50%;}#sk-container-id-3 div.sk-parallel-item:only-child::after {width: 0;}#sk-container-id-3 div.sk-dashed-wrapped {border: 1px dashed gray;margin: 0 0.4em 0.5em 0.4em;box-sizing: border-box;padding-bottom: 0.4em;background-color: white;}#sk-container-id-3 div.sk-label label {font-family: monospace;font-weight: bold;display: inline-block;line-height: 1.2em;}#sk-container-id-3 div.sk-label-container {text-align: center;}#sk-container-id-3 div.sk-container {/* jupyter's `normalize.less` sets `[hidden] { display: none; }` but bootstrap.min.css set `[hidden] { display: none !important; }` so we also need the `!important` here to be able to override the default hidden behavior on the sphinx rendered scikit-learn.org. See: https://github.com/scikit-learn/scikit-learn/issues/21755 */display: inline-block !important;position: relative;}#sk-container-id-3 div.sk-text-repr-fallback {display: none;}</style><div id=\"sk-container-id-3\" class=\"sk-top-container\"><div class=\"sk-text-repr-fallback\"><pre>RandomForestClassifier(criterion=&#x27;entropy&#x27;, max_depth=15, random_state=42)</pre><b>In a Jupyter environment, please rerun this cell to show the HTML representation or trust the notebook. <br />On GitHub, the HTML representation is unable to render, please try loading this page with nbviewer.org.</b></div><div class=\"sk-container\" hidden><div class=\"sk-item\"><div class=\"sk-estimator sk-toggleable\"><input class=\"sk-toggleable__control sk-hidden--visually\" id=\"sk-estimator-id-3\" type=\"checkbox\" checked><label for=\"sk-estimator-id-3\" class=\"sk-toggleable__label sk-toggleable__label-arrow\">RandomForestClassifier</label><div class=\"sk-toggleable__content\"><pre>RandomForestClassifier(criterion=&#x27;entropy&#x27;, max_depth=15, random_state=42)</pre></div></div></div></div></div>"
      ],
      "text/plain": [
       "RandomForestClassifier(criterion='entropy', max_depth=15, random_state=42)"
      ]
     },
     "execution_count": 79,
     "metadata": {},
     "output_type": "execute_result"
    }
   ],
   "source": [
    "from sklearn.ensemble import RandomForestClassifier\n",
    "from sklearn.preprocessing import StandardScaler\n",
    "from imblearn.over_sampling import SMOTE\n",
    "\n",
    "X_train=features_train\n",
    "y_train=target_train.OS\n",
    "\n",
    "\n",
    "\n",
    "sc=StandardScaler()\n",
    "\n",
    "X_train_scaled=sc.fit_transform(X_train)\n",
    "\n",
    "\n",
    "\n",
    "sm=SMOTE(random_state=42)\n",
    "\n",
    "X_train_resampled, y_train_resampled=sm.fit_resample(X_train_scaled,y_train)\n",
    "\n",
    "model=RandomForestClassifier(criterion='entropy',max_depth=15,n_estimators=100,random_state=42)\n",
    "\n",
    "model.fit(X_train_resampled,y_train_resampled)\n"
   ]
  },
  {
   "cell_type": "markdown",
   "metadata": {},
   "source": [
    "Test"
   ]
  },
  {
   "cell_type": "code",
   "execution_count": 80,
   "metadata": {},
   "outputs": [],
   "source": [
    "\n",
    "target_test=target_test.apply(getOS)\n",
    "\n",
    "target_test=target_test.apply(OS_reDefine)\n",
    "\n",
    "from sklearn.preprocessing import LabelEncoder\n",
    "le=LabelEncoder()\n",
    "target_test=pd.DataFrame(le.fit_transform(target_test),columns=['OS'])\n",
    "\n",
    "\n",
    "\n",
    "features_test['4G']=features_test['4G'].map({True:1,False:0})\n",
    "features_test['5G']=features_test['5G'].map({True:1,False:0})\n",
    "\n",
    "\n",
    "features_test.Length=features_test.Length.apply(getLength)\n",
    "\n",
    "\n",
    "features_test.Width=features_test.Width.apply(getWidth)\n",
    "\n",
    "features_test.Diameter=features_test.Diameter.apply(getDiameter)\n",
    "\n",
    "features_test.SIM=features_test.SIM.map({'eSIM':0,'Mini-SIM':1,'Micro-SIM':2,'Nano-SIM':3})\n",
    "\n",
    "features_test.ratio=features_test.ratio.apply(getRatio)\n",
    "\n",
    "features_test.CPU=features_test.CPU.fillna(features_test.CPU.median())\n",
    "\n",
    "\n",
    "features_test.drop(['Unnamed: 0','brand','name','Status','WLAN','Colors','Sensors','Bluetooth','GPU','Loudspeaker',\n",
    "                 '3.5mm jack','Chipset','Network','Internal','Card slot','Display Type','brand','2G','3G'],axis=1,inplace=True)\n"
   ]
  },
  {
   "cell_type": "code",
   "execution_count": 81,
   "metadata": {},
   "outputs": [
    {
     "name": "stdout",
     "output_type": "stream",
     "text": [
      "Test Accuracy: 0.964824120603015\n",
      "Test F1: 0.9584622130630537\n",
      "Test recission: 0.9622528225543301\n",
      "Test Recall: 0.964824120603015\n"
     ]
    }
   ],
   "source": [
    "from sklearn.ensemble import RandomForestClassifier\n",
    "from sklearn.preprocessing import StandardScaler\n",
    "from sklearn.metrics import f1_score,precision_score,accuracy_score,recall_score\n",
    "from pprint import pprint\n",
    "\n",
    "X_test=features_test\n",
    "y_test=target_test.OS\n",
    "\n",
    "X_test_scaled=sc.transform(X_test)\n",
    "\n",
    "\n",
    "y_pred=model.predict(X_test_scaled)\n",
    "print('Test Accuracy:',accuracy_score(y_test,y_pred))\n",
    "print('Test F1:',f1_score(y_test,y_pred,average='weighted'))\n",
    "print('Test recission:',precision_score(y_test,y_pred,average='weighted'))\n",
    "print('Test Recall:',recall_score(y_test,y_pred,average='weighted'))\n",
    "\n",
    "\n"
   ]
  },
  {
   "cell_type": "code",
   "execution_count": 82,
   "metadata": {},
   "outputs": [
    {
     "data": {
      "text/plain": [
       "Text(50.722222222222214, 0.5, 'True Lables')"
      ]
     },
     "execution_count": 82,
     "metadata": {},
     "output_type": "execute_result"
    },
    {
     "data": {
      "image/png": "[encoded data removed]",
      "text/plain": [
       "<Figure size 640x480 with 2 Axes>"
      ]
     },
     "metadata": {},
     "output_type": "display_data"
    }
   ],
   "source": [
    "# Confusion Matrix\n",
    "from sklearn.metrics import confusion_matrix\n",
    "import matplotlib.pyplot as plt\n",
    "import seaborn as sns\n",
    "\n",
    "cm = confusion_matrix(y_test,y_pred) \n",
    "\n",
    "\n",
    "sns.heatmap(cm , annot=True ,fmt='d')\n",
    "plt.xlabel(\"preficted Labels\")\n",
    "plt.ylabel(\"True Lables\")"
   ]
  },
  {
   "cell_type": "code",
   "execution_count": 83,
   "metadata": {},
   "outputs": [
    {
     "data": {
      "text/plain": [
       "0.7386876640419947"
      ]
     },
     "execution_count": 83,
     "metadata": {},
     "output_type": "execute_result"
    }
   ],
   "source": [
    "from sklearn.preprocessing import LabelBinarizer\n",
    "from sklearn.metrics import roc_auc_score\n",
    "lb=LabelBinarizer()\n",
    "lb.fit(y_test)\n",
    "roc_auc_score(lb.transform(y_test),lb.transform(y_pred),average='weighted')"
   ]
  },
  {
   "cell_type": "code",
   "execution_count": null,
   "metadata": {},
   "outputs": [],
   "source": []
  }
 ],
 "metadata": {
  "kernelspec": {
   "display_name": "quera",
   "language": "python",
   "name": "python3"
  },
  "language_info": {
   "codemirror_mode": {
    "name": "ipython",
    "version": 3
   },
   "file_extension": ".py",
   "mimetype": "text/x-python",
   "name": "python",
   "nbconvert_exporter": "python",
   "pygments_lexer": "ipython3",
   "version": "3.9.18"
  }
 },
 "nbformat": 4,
 "nbformat_minor": 2
}
