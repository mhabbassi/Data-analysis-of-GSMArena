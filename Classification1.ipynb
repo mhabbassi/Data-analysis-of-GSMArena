{
 "cells": [
  {
   "cell_type": "code",
   "execution_count": 1,
   "metadata": {},
   "outputs": [],
   "source": [
    "import pandas as pd\n",
    "import numpy as np"
   ]
  },
  {
   "cell_type": "code",
   "execution_count": 74,
   "metadata": {},
   "outputs": [],
   "source": [
    "df=pd.read_csv('data.csv')"
   ]
  },
  {
   "cell_type": "markdown",
   "metadata": {},
   "source": [
    "Splitting Data to Train and Test part"
   ]
  },
  {
   "cell_type": "code",
   "execution_count": 75,
   "metadata": {},
   "outputs": [],
   "source": [
    "from sklearn.model_selection import train_test_split\n",
    "features=df.drop('OS',axis=1)\n",
    "target=df.OS\n",
    "features_train,features_test,target_train,target_test=train_test_split(features,target,test_size=0.15,random_state=42)"
   ]
  },
  {
   "cell_type": "markdown",
   "metadata": {},
   "source": [
    "Prepration of Train Data"
   ]
  },
  {
   "cell_type": "code",
   "execution_count": 4,
   "metadata": {},
   "outputs": [
    {
     "data": {
      "text/plain": [
       "(2253, 36)"
      ]
     },
     "execution_count": 4,
     "metadata": {},
     "output_type": "execute_result"
    }
   ],
   "source": [
    "features_train.shape"
   ]
  },
  {
   "cell_type": "code",
   "execution_count": 5,
   "metadata": {},
   "outputs": [
    {
     "data": {
      "text/html": [
       "<div>\n",
       "<style scoped>\n",
       "    .dataframe tbody tr th:only-of-type {\n",
       "        vertical-align: middle;\n",
       "    }\n",
       "\n",
       "    .dataframe tbody tr th {\n",
       "        vertical-align: top;\n",
       "    }\n",
       "\n",
       "    .dataframe thead th {\n",
       "        text-align: right;\n",
       "    }\n",
       "</style>\n",
       "<table border=\"1\" class=\"dataframe\">\n",
       "  <thead>\n",
       "    <tr style=\"text-align: right;\">\n",
       "      <th></th>\n",
       "      <th>Unnamed: 0</th>\n",
       "      <th>name</th>\n",
       "      <th>brand</th>\n",
       "      <th>2G</th>\n",
       "      <th>3G</th>\n",
       "      <th>4G</th>\n",
       "      <th>5G</th>\n",
       "      <th>Announced</th>\n",
       "      <th>Status</th>\n",
       "      <th>Weight</th>\n",
       "      <th>...</th>\n",
       "      <th>Bluetooth</th>\n",
       "      <th>GPU</th>\n",
       "      <th>Loudspeaker</th>\n",
       "      <th>3.5mm jack</th>\n",
       "      <th>Chipset</th>\n",
       "      <th>Network</th>\n",
       "      <th>Internal</th>\n",
       "      <th>Card slot</th>\n",
       "      <th>RAM</th>\n",
       "      <th>Storage</th>\n",
       "    </tr>\n",
       "  </thead>\n",
       "  <tbody>\n",
       "    <tr>\n",
       "      <th>1313</th>\n",
       "      <td>2438</td>\n",
       "      <td>lg optimus vu p895</td>\n",
       "      <td>lg</td>\n",
       "      <td>True</td>\n",
       "      <td>True</td>\n",
       "      <td>False</td>\n",
       "      <td>False</td>\n",
       "      <td>2012.0</td>\n",
       "      <td>Discontinued</td>\n",
       "      <td>168.0</td>\n",
       "      <td>...</td>\n",
       "      <td>4.0, A2DP</td>\n",
       "      <td>ULP GeForce</td>\n",
       "      <td>True</td>\n",
       "      <td>True</td>\n",
       "      <td>Nvidia Tegra 3</td>\n",
       "      <td>GSM / HSPA HSPA 21.1/5.76 Mbps</td>\n",
       "      <td>32GB 1GB RAM</td>\n",
       "      <td>No</td>\n",
       "      <td>1.0</td>\n",
       "      <td>32.0</td>\n",
       "    </tr>\n",
       "    <tr>\n",
       "      <th>2302</th>\n",
       "      <td>4078</td>\n",
       "      <td>samsung galaxy j2 core</td>\n",
       "      <td>samsung</td>\n",
       "      <td>True</td>\n",
       "      <td>True</td>\n",
       "      <td>True</td>\n",
       "      <td>False</td>\n",
       "      <td>2018.0</td>\n",
       "      <td>Available</td>\n",
       "      <td>154.0</td>\n",
       "      <td>...</td>\n",
       "      <td>4.2, A2DP</td>\n",
       "      <td>Mali-T720</td>\n",
       "      <td>True</td>\n",
       "      <td>True</td>\n",
       "      <td>Exynos 7570 Quad (14 nm)</td>\n",
       "      <td>GSM / HSPA / LTE HSPA 42.2/5.76 Mbps, LTE Cat4...</td>\n",
       "      <td>8GB 1GB RAM, 16GB 1GB RAM</td>\n",
       "      <td>microSDXC (dedicated slot)</td>\n",
       "      <td>1.0</td>\n",
       "      <td>8.0</td>\n",
       "    </tr>\n",
       "    <tr>\n",
       "      <th>2080</th>\n",
       "      <td>3784</td>\n",
       "      <td>xiaomi mi max 2</td>\n",
       "      <td>xiaomi</td>\n",
       "      <td>True</td>\n",
       "      <td>True</td>\n",
       "      <td>True</td>\n",
       "      <td>False</td>\n",
       "      <td>2017.0</td>\n",
       "      <td>Available</td>\n",
       "      <td>211.0</td>\n",
       "      <td>...</td>\n",
       "      <td>4.2, A2DP, LE</td>\n",
       "      <td>Adreno 506</td>\n",
       "      <td>False</td>\n",
       "      <td>True</td>\n",
       "      <td>Qualcomm MSM8953 Snapdragon 625 (14 nm)</td>\n",
       "      <td>GSM / CDMA / HSPA / EVDO / LTE HSPA 42.2/5.76 ...</td>\n",
       "      <td>32GB 4GB RAM, 64GB 4GB RAM, 128GB 4GB RAM</td>\n",
       "      <td>microSDXC (uses shared SIM slot)</td>\n",
       "      <td>4.0</td>\n",
       "      <td>32.0</td>\n",
       "    </tr>\n",
       "    <tr>\n",
       "      <th>1817</th>\n",
       "      <td>3389</td>\n",
       "      <td>zte blade iii</td>\n",
       "      <td>zte</td>\n",
       "      <td>True</td>\n",
       "      <td>True</td>\n",
       "      <td>False</td>\n",
       "      <td>False</td>\n",
       "      <td>2012.0</td>\n",
       "      <td>Discontinued</td>\n",
       "      <td>130.0</td>\n",
       "      <td>...</td>\n",
       "      <td>2.1, A2DP</td>\n",
       "      <td>Adreno 200</td>\n",
       "      <td>True</td>\n",
       "      <td>True</td>\n",
       "      <td>Qualcomm MSM7227A Snapdragon S1</td>\n",
       "      <td>GSM / HSPA HSPA 7.2/5.76 Mbps</td>\n",
       "      <td>4GB (2.5GB user available), 512MB RAM</td>\n",
       "      <td>microSDHC (dedicated slot)</td>\n",
       "      <td>0.5</td>\n",
       "      <td>4.0</td>\n",
       "    </tr>\n",
       "    <tr>\n",
       "      <th>2112</th>\n",
       "      <td>3823</td>\n",
       "      <td>xiaomi redmi note 4g</td>\n",
       "      <td>xiaomi</td>\n",
       "      <td>True</td>\n",
       "      <td>True</td>\n",
       "      <td>True</td>\n",
       "      <td>False</td>\n",
       "      <td>2014.0</td>\n",
       "      <td>Discontinued</td>\n",
       "      <td>185.0</td>\n",
       "      <td>...</td>\n",
       "      <td>4.0, A2DP, LE</td>\n",
       "      <td>Adreno 305</td>\n",
       "      <td>True</td>\n",
       "      <td>True</td>\n",
       "      <td>Qualcomm MSM8928 Snapdragon 400 (28 nm)</td>\n",
       "      <td>GSM / HSPA / LTE HSPA, LTE Cat4 150/50 Mbps</td>\n",
       "      <td>8GB 2GB RAM</td>\n",
       "      <td>microSDXC (dedicated slot)</td>\n",
       "      <td>2.0</td>\n",
       "      <td>8.0</td>\n",
       "    </tr>\n",
       "  </tbody>\n",
       "</table>\n",
       "<p>5 rows × 36 columns</p>\n",
       "</div>"
      ],
      "text/plain": [
       "      Unnamed: 0                    name    brand    2G    3G     4G     5G  \\\n",
       "1313        2438      lg optimus vu p895       lg  True  True  False  False   \n",
       "2302        4078  samsung galaxy j2 core  samsung  True  True   True  False   \n",
       "2080        3784         xiaomi mi max 2   xiaomi  True  True   True  False   \n",
       "1817        3389           zte blade iii      zte  True  True  False  False   \n",
       "2112        3823    xiaomi redmi note 4g   xiaomi  True  True   True  False   \n",
       "\n",
       "      Announced        Status  Weight  ...      Bluetooth          GPU  \\\n",
       "1313     2012.0  Discontinued   168.0  ...      4.0, A2DP  ULP GeForce   \n",
       "2302     2018.0     Available   154.0  ...      4.2, A2DP    Mali-T720   \n",
       "2080     2017.0     Available   211.0  ...  4.2, A2DP, LE   Adreno 506   \n",
       "1817     2012.0  Discontinued   130.0  ...      2.1, A2DP   Adreno 200   \n",
       "2112     2014.0  Discontinued   185.0  ...  4.0, A2DP, LE   Adreno 305   \n",
       "\n",
       "     Loudspeaker 3.5mm jack                                  Chipset  \\\n",
       "1313        True       True                           Nvidia Tegra 3   \n",
       "2302        True       True                 Exynos 7570 Quad (14 nm)   \n",
       "2080       False       True  Qualcomm MSM8953 Snapdragon 625 (14 nm)   \n",
       "1817        True       True          Qualcomm MSM7227A Snapdragon S1   \n",
       "2112        True       True  Qualcomm MSM8928 Snapdragon 400 (28 nm)   \n",
       "\n",
       "                                                Network  \\\n",
       "1313                     GSM / HSPA HSPA 21.1/5.76 Mbps   \n",
       "2302  GSM / HSPA / LTE HSPA 42.2/5.76 Mbps, LTE Cat4...   \n",
       "2080  GSM / CDMA / HSPA / EVDO / LTE HSPA 42.2/5.76 ...   \n",
       "1817                      GSM / HSPA HSPA 7.2/5.76 Mbps   \n",
       "2112        GSM / HSPA / LTE HSPA, LTE Cat4 150/50 Mbps   \n",
       "\n",
       "                                       Internal  \\\n",
       "1313                               32GB 1GB RAM   \n",
       "2302                  8GB 1GB RAM, 16GB 1GB RAM   \n",
       "2080  32GB 4GB RAM, 64GB 4GB RAM, 128GB 4GB RAM   \n",
       "1817      4GB (2.5GB user available), 512MB RAM   \n",
       "2112                                8GB 2GB RAM   \n",
       "\n",
       "                             Card slot  RAM  Storage  \n",
       "1313                                No  1.0     32.0  \n",
       "2302        microSDXC (dedicated slot)  1.0      8.0  \n",
       "2080  microSDXC (uses shared SIM slot)  4.0     32.0  \n",
       "1817        microSDHC (dedicated slot)  0.5      4.0  \n",
       "2112        microSDXC (dedicated slot)  2.0      8.0  \n",
       "\n",
       "[5 rows x 36 columns]"
      ]
     },
     "execution_count": 5,
     "metadata": {},
     "output_type": "execute_result"
    }
   ],
   "source": [
    "features_train.head()"
   ]
  },
  {
   "cell_type": "code",
   "execution_count": 6,
   "metadata": {},
   "outputs": [
    {
     "data": {
      "text/plain": [
       "1313    Android 4.0.4\n",
       "2302      Android 8.1\n",
       "2080    Android 7.1.1\n",
       "1817      Android 4.0\n",
       "2112      Android 4.2\n",
       "            ...      \n",
       "1638       Android 13\n",
       "1095      Android 4.3\n",
       "1130       Android 10\n",
       "1294    Android 4.1.2\n",
       "860       Android 4.2\n",
       "Name: OS, Length: 2253, dtype: object"
      ]
     },
     "execution_count": 6,
     "metadata": {},
     "output_type": "execute_result"
    }
   ],
   "source": [
    "target_train"
   ]
  },
  {
   "cell_type": "code",
   "execution_count": 76,
   "metadata": {},
   "outputs": [],
   "source": [
    "def getOS(x):\n",
    "    return x.split(' ')[0]\n",
    "target_train=target_train.apply(getOS)"
   ]
  },
  {
   "cell_type": "code",
   "execution_count": 77,
   "metadata": {},
   "outputs": [
    {
     "data": {
      "text/plain": [
       "OS\n",
       "Android      2076\n",
       "Phone          55\n",
       "iOS            52\n",
       "HarmonyOS      19\n",
       "Symbian         8\n",
       "Belle           7\n",
       "KaiOS           6\n",
       "iPadOS          5\n",
       "platform        5\n",
       "EMUI            4\n",
       "Tizen           3\n",
       "OS              3\n",
       "Anna            3\n",
       "FP1             2\n",
       "Firefox         1\n",
       "Linux           1\n",
       "MeeGo           1\n",
       "Windows         1\n",
       "Mobile          1\n",
       "Name: count, dtype: int64"
      ]
     },
     "execution_count": 77,
     "metadata": {},
     "output_type": "execute_result"
    }
   ],
   "source": [
    "target_train.value_counts()"
   ]
  },
  {
   "cell_type": "code",
   "execution_count": 78,
   "metadata": {},
   "outputs": [],
   "source": [
    "def OS_reDefine(x):\n",
    "     if (x=='Android')  or (x=='iOS'):\n",
    "          return x\n",
    "     else: return 'other'\n",
    "target_train=target_train.apply(OS_reDefine)"
   ]
  },
  {
   "cell_type": "code",
   "execution_count": 79,
   "metadata": {},
   "outputs": [
    {
     "data": {
      "text/plain": [
       "OS\n",
       "Android    2076\n",
       "other       125\n",
       "iOS          52\n",
       "Name: count, dtype: int64"
      ]
     },
     "execution_count": 79,
     "metadata": {},
     "output_type": "execute_result"
    }
   ],
   "source": [
    "target_train.value_counts()"
   ]
  },
  {
   "cell_type": "code",
   "execution_count": 80,
   "metadata": {},
   "outputs": [],
   "source": [
    "from sklearn.preprocessing import LabelEncoder\n",
    "le=LabelEncoder()\n",
    "target_train=pd.DataFrame(le.fit_transform(target_train),columns=['OS'])"
   ]
  },
  {
   "cell_type": "code",
   "execution_count": 81,
   "metadata": {},
   "outputs": [
    {
     "data": {
      "text/plain": [
       "OS\n",
       "0    2076\n",
       "2     125\n",
       "1      52\n",
       "Name: count, dtype: int64"
      ]
     },
     "execution_count": 81,
     "metadata": {},
     "output_type": "execute_result"
    }
   ],
   "source": [
    "target_train.OS.value_counts()"
   ]
  },
  {
   "cell_type": "code",
   "execution_count": 82,
   "metadata": {},
   "outputs": [
    {
     "name": "stdout",
     "output_type": "stream",
     "text": [
      "<class 'pandas.core.frame.DataFrame'>\n",
      "Index: 2253 entries, 1313 to 860\n",
      "Data columns (total 36 columns):\n",
      " #   Column            Non-Null Count  Dtype  \n",
      "---  ------            --------------  -----  \n",
      " 0   Unnamed: 0        2253 non-null   int64  \n",
      " 1   name              2253 non-null   object \n",
      " 2   brand             2253 non-null   object \n",
      " 3   2G                2253 non-null   bool   \n",
      " 4   3G                2253 non-null   bool   \n",
      " 5   4G                2253 non-null   bool   \n",
      " 6   5G                2253 non-null   bool   \n",
      " 7   Announced         2253 non-null   float64\n",
      " 8   Status            2253 non-null   object \n",
      " 9   Weight            2253 non-null   float64\n",
      " 10  Length            2253 non-null   object \n",
      " 11  Width             2253 non-null   object \n",
      " 12  Diameter          2253 non-null   object \n",
      " 13  SIM               2253 non-null   object \n",
      " 14  Display Type      2253 non-null   object \n",
      " 15  Display Size      2253 non-null   float64\n",
      " 16  ppi               2253 non-null   float64\n",
      " 17  body ratio        2253 non-null   float64\n",
      " 18  battery_capacity  2253 non-null   float64\n",
      " 19  Price             2253 non-null   float64\n",
      " 20  CPU               2009 non-null   float64\n",
      " 21  ratio             2253 non-null   object \n",
      " 22  pixel             2253 non-null   float64\n",
      " 23  WLAN              2252 non-null   object \n",
      " 24  Colors            2252 non-null   object \n",
      " 25  Sensors           2235 non-null   object \n",
      " 26  Bluetooth         2253 non-null   object \n",
      " 27  GPU               2062 non-null   object \n",
      " 28  Loudspeaker       2253 non-null   bool   \n",
      " 29  3.5mm jack        2253 non-null   bool   \n",
      " 30  Chipset           2030 non-null   object \n",
      " 31  Network           2253 non-null   object \n",
      " 32  Internal          2253 non-null   object \n",
      " 33  Card slot         2253 non-null   object \n",
      " 34  RAM               2253 non-null   float64\n",
      " 35  Storage           2253 non-null   float64\n",
      "dtypes: bool(6), float64(11), int64(1), object(18)\n",
      "memory usage: 558.8+ KB\n"
     ]
    }
   ],
   "source": [
    "features_train.info()"
   ]
  },
  {
   "cell_type": "markdown",
   "metadata": {},
   "source": [
    "Unamed: 0 is an index column, which does not have helpful information for us.\n",
    "'name' column is a data which is unique in each row, so we can easily iqnore it."
   ]
  },
  {
   "cell_type": "code",
   "execution_count": 14,
   "metadata": {},
   "outputs": [
    {
     "data": {
      "text/plain": [
       "Status\n",
       "Discontinued    1162\n",
       "Available       1088\n",
       "Coming             3\n",
       "Name: count, dtype: int64"
      ]
     },
     "execution_count": 14,
     "metadata": {},
     "output_type": "execute_result"
    }
   ],
   "source": [
    "features_train.Status.value_counts()"
   ]
  },
  {
   "cell_type": "code",
   "execution_count": 17,
   "metadata": {},
   "outputs": [],
   "source": [
    "from sklearn.preprocessing import LabelEncoder\n",
    "le=LabelEncoder()\n",
    "features_train.Status=le.fit_transform(features_train.Status)\n"
   ]
  },
  {
   "cell_type": "code",
   "execution_count": 18,
   "metadata": {},
   "outputs": [
    {
     "data": {
      "text/plain": [
       "Status\n",
       "2    1162\n",
       "0    1088\n",
       "1       3\n",
       "Name: count, dtype: int64"
      ]
     },
     "execution_count": 18,
     "metadata": {},
     "output_type": "execute_result"
    }
   ],
   "source": [
    "features_train.Status.value_counts()"
   ]
  },
  {
   "cell_type": "code",
   "execution_count": 19,
   "metadata": {},
   "outputs": [
    {
     "data": {
      "text/plain": [
       "-0.010707452695244877"
      ]
     },
     "execution_count": 19,
     "metadata": {},
     "output_type": "execute_result"
    }
   ],
   "source": [
    "target_train.OS.corr(features_train.Status)"
   ]
  },
  {
   "cell_type": "markdown",
   "metadata": {},
   "source": [
    "Status has very small correlation with OS and so we think it is good to ignore it."
   ]
  },
  {
   "cell_type": "code",
   "execution_count": 20,
   "metadata": {},
   "outputs": [
    {
     "data": {
      "text/plain": [
       "1313      Wi-Fi 802.11 b/g/n, Wi-Fi Direct, DLNA, hotspot\n",
       "2302                     Wi-Fi 802.11 b/g/n, Wi-Fi Direct\n",
       "2080    Wi-Fi 802.11 a/b/g/n/ac, dual-band, Wi-Fi Dire...\n",
       "1817      Wi-Fi 802.11 b/g/n, Wi-Fi Direct, hotspot, DLNA\n",
       "2112    Wi-Fi 802.11 a/b/g/n/ac, dual-band, Wi-Fi Dire...\n",
       "                              ...                        \n",
       "1638                 Wi-Fi 802.11 a/b/g/n/ac/6, dual-band\n",
       "1095                                   Wi-Fi 802.11 b/g/n\n",
       "1130                     Wi-Fi 802.11 b/g/n, Wi-Fi Direct\n",
       "1294            Wi-Fi 802.11 b/g/n, Wi-Fi Direct, hotspot\n",
       "860                                    Wi-Fi 802.11 b/g/n\n",
       "Name: WLAN, Length: 2253, dtype: object"
      ]
     },
     "execution_count": 20,
     "metadata": {},
     "output_type": "execute_result"
    }
   ],
   "source": [
    "features_train.WLAN"
   ]
  },
  {
   "cell_type": "markdown",
   "metadata": {},
   "source": [
    "WLAN is also very variant, and we think we cannot extract helpful feature from them."
   ]
  },
  {
   "cell_type": "code",
   "execution_count": 110,
   "metadata": {},
   "outputs": [
    {
     "data": {
      "text/plain": [
       "1313                        Black, White\n",
       "2302               Black, Gold, Lavender\n",
       "2080                   Gold, Matte Black\n",
       "1817                        Black, White\n",
       "2112                         Black/White\n",
       "                      ...               \n",
       "1638                               Black\n",
       "1095                                Gray\n",
       "1130              Magic Blue, Laser Blue\n",
       "1294    Indigo Black, White, Pink, Titan\n",
       "860                         Black, White\n",
       "Name: Colors, Length: 2253, dtype: object"
      ]
     },
     "execution_count": 110,
     "metadata": {},
     "output_type": "execute_result"
    }
   ],
   "source": [
    "features_train.Colors"
   ]
  },
  {
   "cell_type": "code",
   "execution_count": 47,
   "metadata": {},
   "outputs": [
    {
     "data": {
      "text/plain": [
       "1313              Accelerometer, gyro, proximity, compass\n",
       "2302                             Accelerometer, proximity\n",
       "2080    Fingerprint (rear-mounted), accelerometer, gyr...\n",
       "1817                    Accelerometer, proximity, compass\n",
       "2112              Accelerometer, gyro, proximity, compass\n",
       "                              ...                        \n",
       "1638    Accelerometer, gyro, compass, proximity (acces...\n",
       "1095                               Accelerometer, compass\n",
       "1130    Fingerprint (rear-mounted), accelerometer, pro...\n",
       "1294                    Accelerometer, proximity, compass\n",
       "860                     Accelerometer, proximity, compass\n",
       "Name: Sensors, Length: 2253, dtype: object"
      ]
     },
     "execution_count": 47,
     "metadata": {},
     "output_type": "execute_result"
    }
   ],
   "source": [
    "features_train.Sensors"
   ]
  },
  {
   "cell_type": "markdown",
   "metadata": {},
   "source": [
    "We think that it may be helpful to find the most used sensors in devices, and add a column where it decides if that sensor is used or not."
   ]
  },
  {
   "cell_type": "code",
   "execution_count": 48,
   "metadata": {},
   "outputs": [
    {
     "data": {
      "text/plain": [
       "1313                                            4.0, A2DP\n",
       "2302                                            4.2, A2DP\n",
       "2080                                        4.2, A2DP, LE\n",
       "1817                                            2.1, A2DP\n",
       "2112                                        4.0, A2DP, LE\n",
       "                              ...                        \n",
       "1638    5.3, A2DP, LE, aptX HD, aptX Adaptive, aptX Lo...\n",
       "1095                                            4.0, A2DP\n",
       "1130                                        5.0, A2DP, LE\n",
       "1294                                            3.0, A2DP\n",
       "860                                             4.0, A2DP\n",
       "Name: Bluetooth, Length: 2253, dtype: object"
      ]
     },
     "execution_count": 48,
     "metadata": {},
     "output_type": "execute_result"
    }
   ],
   "source": [
    "features_train.Bluetooth"
   ]
  },
  {
   "cell_type": "markdown",
   "metadata": {},
   "source": [
    "It maybe helpful to extract the version of the bluetooth, but we just ignor it for now."
   ]
  },
  {
   "cell_type": "code",
   "execution_count": 51,
   "metadata": {},
   "outputs": [
    {
     "data": {
      "text/plain": [
       "1313       ULP GeForce\n",
       "2302         Mali-T720\n",
       "2080        Adreno 506\n",
       "1817        Adreno 200\n",
       "2112        Adreno 305\n",
       "             ...      \n",
       "1638        Adreno 730\n",
       "1095        Adreno 305\n",
       "1130    PowerVR GE8320\n",
       "1294    PowerVR SGX531\n",
       "860     PowerVR SGX544\n",
       "Name: GPU, Length: 2253, dtype: object"
      ]
     },
     "execution_count": 51,
     "metadata": {},
     "output_type": "execute_result"
    }
   ],
   "source": [
    "features_train.GPU"
   ]
  },
  {
   "cell_type": "code",
   "execution_count": 75,
   "metadata": {},
   "outputs": [
    {
     "data": {
      "text/plain": [
       "1313                                       Nvidia Tegra 3\n",
       "2302                             Exynos 7570 Quad (14 nm)\n",
       "2080              Qualcomm MSM8953 Snapdragon 625 (14 nm)\n",
       "1817                      Qualcomm MSM7227A Snapdragon S1\n",
       "2112              Qualcomm MSM8928 Snapdragon 400 (28 nm)\n",
       "                              ...                        \n",
       "1638           Qualcomm SM8475 Snapdragon 8+ Gen 1 (4 nm)\n",
       "1095    Qualcomm MSM8228 Snapdragon 400 (28 nm) (3G)/ ...\n",
       "1130                   Mediatek MT6765G Helio G35 (12 nm)\n",
       "1294                              Mediatek MT6575 (40 nm)\n",
       "860                               Mediatek MT6589 (28 nm)\n",
       "Name: Chipset, Length: 2253, dtype: object"
      ]
     },
     "execution_count": 75,
     "metadata": {},
     "output_type": "execute_result"
    }
   ],
   "source": [
    "features_train.Chipset"
   ]
  },
  {
   "cell_type": "markdown",
   "metadata": {},
   "source": [
    "GPU and Chipset are also very variant, although we can extract the name from them, but for now we just want to ignore them."
   ]
  },
  {
   "cell_type": "code",
   "execution_count": 21,
   "metadata": {},
   "outputs": [
    {
     "data": {
      "text/plain": [
       "1313     True\n",
       "2302     True\n",
       "2080    False\n",
       "1817     True\n",
       "2112     True\n",
       "        ...  \n",
       "1638    False\n",
       "1095    False\n",
       "1130     True\n",
       "1294     True\n",
       "860      True\n",
       "Name: Loudspeaker, Length: 2253, dtype: bool"
      ]
     },
     "execution_count": 21,
     "metadata": {},
     "output_type": "execute_result"
    }
   ],
   "source": [
    "features_train.Loudspeaker"
   ]
  },
  {
   "cell_type": "code",
   "execution_count": 22,
   "metadata": {},
   "outputs": [
    {
     "data": {
      "text/plain": [
       "-0.002895491490927737"
      ]
     },
     "execution_count": 22,
     "metadata": {},
     "output_type": "execute_result"
    }
   ],
   "source": [
    "target_train.OS.corr(features_train.Loudspeaker)"
   ]
  },
  {
   "cell_type": "code",
   "execution_count": 23,
   "metadata": {},
   "outputs": [
    {
     "data": {
      "text/plain": [
       "1313     True\n",
       "2302     True\n",
       "2080     True\n",
       "1817     True\n",
       "2112     True\n",
       "        ...  \n",
       "1638    False\n",
       "1095     True\n",
       "1130     True\n",
       "1294     True\n",
       "860      True\n",
       "Name: 3.5mm jack, Length: 2253, dtype: bool"
      ]
     },
     "execution_count": 23,
     "metadata": {},
     "output_type": "execute_result"
    }
   ],
   "source": [
    "features_train['3.5mm jack']"
   ]
  },
  {
   "cell_type": "code",
   "execution_count": 24,
   "metadata": {},
   "outputs": [
    {
     "data": {
      "text/plain": [
       "0.012252772843352711"
      ]
     },
     "execution_count": 24,
     "metadata": {},
     "output_type": "execute_result"
    }
   ],
   "source": [
    "target_train.OS.corr(features_train['3.5mm jack'])"
   ]
  },
  {
   "cell_type": "code",
   "execution_count": 113,
   "metadata": {},
   "outputs": [
    {
     "data": {
      "text/plain": [
       "1313                       GSM / HSPA HSPA 21.1/5.76 Mbps\n",
       "2302    GSM / HSPA / LTE HSPA 42.2/5.76 Mbps, LTE Cat4...\n",
       "2080    GSM / CDMA / HSPA / EVDO / LTE HSPA 42.2/5.76 ...\n",
       "1817                        GSM / HSPA HSPA 7.2/5.76 Mbps\n",
       "2112          GSM / HSPA / LTE HSPA, LTE Cat4 150/50 Mbps\n",
       "                              ...                        \n",
       "1638                  GSM / HSPA / LTE / 5G HSPA, LTE, 5G\n",
       "1095                                      GSM / HSPA HSPA\n",
       "1130                           GSM / HSPA / LTE HSPA, LTE\n",
       "1294                        GSM / HSPA HSPA 7.2/5.76 Mbps\n",
       "860                        GSM / HSPA HSPA 42.2/5.76 Mbps\n",
       "Name: Network, Length: 2253, dtype: object"
      ]
     },
     "execution_count": 113,
     "metadata": {},
     "output_type": "execute_result"
    }
   ],
   "source": [
    "features_train.Network"
   ]
  },
  {
   "cell_type": "markdown",
   "metadata": {},
   "source": [
    "It may be helpful to add a column to check if a specific network is supported for that device on not. For now we just ignore it."
   ]
  },
  {
   "cell_type": "markdown",
   "metadata": {},
   "source": [
    "The data of internal was extracted to RAM and memory columns, so we can easily drop it."
   ]
  },
  {
   "cell_type": "code",
   "execution_count": 25,
   "metadata": {},
   "outputs": [
    {
     "data": {
      "text/plain": [
       "1313                                  No\n",
       "2302          microSDXC (dedicated slot)\n",
       "2080    microSDXC (uses shared SIM slot)\n",
       "1817          microSDHC (dedicated slot)\n",
       "2112          microSDXC (dedicated slot)\n",
       "                      ...               \n",
       "1638                                  No\n",
       "1095          microSDXC (dedicated slot)\n",
       "1130          microSDXC (dedicated slot)\n",
       "1294          microSDHC (dedicated slot)\n",
       "860           microSDHC (dedicated slot)\n",
       "Name: Card slot, Length: 2253, dtype: object"
      ]
     },
     "execution_count": 25,
     "metadata": {},
     "output_type": "execute_result"
    }
   ],
   "source": [
    "features_train['Card slot']"
   ]
  },
  {
   "cell_type": "markdown",
   "metadata": {},
   "source": [
    "In our first try we don't extract feature from card slot."
   ]
  },
  {
   "cell_type": "code",
   "execution_count": 122,
   "metadata": {},
   "outputs": [
    {
     "data": {
      "text/plain": [
       "array(['HD-IPS LCD', 'PLS LCD', 'IPS LCD', 'TFT, 65K colors',\n",
       "       'OLED, 1B colors, 120Hz, 1000 nits (peak)',\n",
       "       'IPS LCD, 400 nits (typ)', 'Super LCD3', 'OLED', 'TFT',\n",
       "       'Dynamic LTPO AMOLED 2X, 120Hz, HDR10+, 2600 nits (peak)',\n",
       "       'IPS LCD, 90Hz', 'Super AMOLED', 'Super LCD2',\n",
       "       'Super AMOLED, 120Hz, HDR10+, 900 nits (HBM), 1300 nits (peak)',\n",
       "       'Super LCD', 'Dynamic AMOLED 2X, 120Hz, HDR10+, 1400 nits (peak)',\n",
       "       'IPS LCD, HDR10', 'Dual IPS LCD', 'TFT,', 'S-LCD',\n",
       "       'AMOLED, 1B colors, 120Hz, 1300 nits (peak)', 'LCD',\n",
       "       'Super AMOLED, 120Hz, HDR10+, 1100 nits (peak)', 'TFT LCD',\n",
       "       'OLED, 1B colors, 120Hz, 600 nits (typ)',\n",
       "       'OLED, 120Hz, Dolby Vision, HDR10+, 1200 nits (peak)',\n",
       "       'OLED, HDR10',\n",
       "       'Super Retina OLED, HDR10, Dolby Vision, 625 nits (HBM)',\n",
       "       'TFT, 256K colors', 'LED-backlit LCD,', 'IPS LCD, 450 nits (typ)',\n",
       "       'AMOLED', 'AMOLED, 165Hz, 700 nits (typ)', 'OLED, HDR10, 90Hz',\n",
       "       'Liquid Retina IPS LCD, 625 nits (typ)', 'LCD, 550 nits (peak)',\n",
       "       'Super AMOLED, HDR', 'IPS LCD, HDR10, 90Hz',\n",
       "       'OLED, 1B colors, 90Hz',\n",
       "       'OLED, 1B colors, 120Hz, Dolby Vision, HDR10+, 500 nits (typ), 900 nits (HBM)',\n",
       "       'Super AMOLED, 420 nits (peak)', 'AMOLED, 120Hz, 700 nits (peak)',\n",
       "       'IPS-NEO LCD', 'Super IPS+', 'PLS LCD, 90Hz', 'IPS LCD,',\n",
       "       'AMOLED, 120Hz, HDR10+, 1300 nits (peak)', 'Super IPS LCD2',\n",
       "       'AMOLED, HDR10, 600 nits (typ)', 'Super IPS LCD',\n",
       "       'OLED, 1B colors, 120Hz', 'P-OLED, HDR10', 'Super LCD5',\n",
       "       'Dynamic AMOLED 2X, 120Hz, HDR10+, 1200 nits (HBM), 1750 nits (peak)',\n",
       "       'Super AMOLED, 120Hz, 800 nits (HBM)',\n",
       "       'AMOLED, 120Hz, Dolby Vision, HDR10+, 1200 nits (HBM), 1900 nits (peak)',\n",
       "       'AMOLED, 1B colors (China only), 120Hz, 1300 nits (peak)',\n",
       "       'Super AMOLED, HDR10', 'AMOLED, 120Hz, HDR10+, 500 nits (typ)',\n",
       "       'OLED, 144Hz, HDR10+, 1000 nits (peak)', 'True HD-IPS LCD',\n",
       "       'Super Retina XDR OLED, HDR10, Dolby Vision, 800 nits (HBM), 1200 nits (peak)',\n",
       "       'Dynamic AMOLED 2X, 120Hz, HDR10+',\n",
       "       'AMOLED, 120Hz, 700 nits, 1200 nits (peak)', '3D IPS LCD',\n",
       "       'Super AMOLED, 120Hz, HDR10+', 'IPS LCD, 500 nits (peak)',\n",
       "       'IPS LCD, 440 nits (typ)', 'TFT, 16M colors', 'IPS+ LCD',\n",
       "       'LTPO OLED, 1B colors, 120Hz',\n",
       "       'IPS LCD, 120Hz, HDR10, 450 nits (typ)',\n",
       "       'AMOLED, 90Hz, HDR10+, 500 nits (typ), 1120 nits (peak)',\n",
       "       'TFT resistive touchscreen, 16M colors',\n",
       "       'Super AMOLED, 90Hz, 600 nits (HDR)', 'IPS LCD, 350 nits (typ)',\n",
       "       'IPS LCD, 1B colors, 120Hz', 'AMOLED, 90Hz',\n",
       "       'LTPO AMOLED, 1B colors, 165Hz, HDR10, 1600 nits (HBM), 2500 nits (peak)',\n",
       "       'OLED, 256K colors',\n",
       "       'AMOLED, 1B colors, 144Hz, HDR10+, 650 nits (typ)',\n",
       "       'Super AMOLED Plus, 120Hz',\n",
       "       'LTPO OLED, 68B colors, 120Hz, Dolby Vision, HDR10+, 3000 nits (peak)',\n",
       "       'IPS LCD, 120Hz, Dolby Vision, HDR10, 500 nits (typ)',\n",
       "       'AMOLED, 68B colors, Dolby Vision, HDR10+, 120Hz, 500 nits (typ), 1000 nits (peak)',\n",
       "       'True HD-IPS + LCD', 'Retina IPS LCD, 625 nits (typ)',\n",
       "       'Super IPS+ LCD', 'AMOLED, HDR10', 'LED-backlit IPS LCD',\n",
       "       'Super AMOLED, HDR10+', 'Super AMOLED, HDR10+, 500 nits (typ)',\n",
       "       'AMOLED, 68B colors, 120Hz, Dolby Vision, HDR10+, 500 nits (typ), 1000 nits (HBM), 1400 nits (peak)',\n",
       "       'Super AMOLED, 120Hz, HDR10, 450 nits (typ), 1200 nits (peak)',\n",
       "       'IPS LCD, 90Hz, 450 nits (typ)', 'AMOLED, 650 nits (peak)',\n",
       "       'IPS LCD, 480 nits (typ)',\n",
       "       'AMOLED, 1B colors, 144Hz, 1000 nits (peak)',\n",
       "       'AMOLED, 144Hz, 1300 nits (peak)', 'TFT LCD, 16M colors',\n",
       "       'AMOLED or SLCD', 'IGZO IPS LCD', 'IPS LCD, HDR, 500 nits (typ)',\n",
       "       '3D LCD', 'IPS LCD, HDR BT.2020', 'OLED, 1B colors, HDR',\n",
       "       'LTPO AMOLED, 68B colors, 120Hz, Dolby Vision, HDR10+, 3000 nits (peak)',\n",
       "       'Super AMOLED, 120Hz, 700 nits (HBM), 1200 nits (peak)',\n",
       "       'AMOLED, 120Hz, 1800 nits (peak)', 'TN TFT LCD',\n",
       "       'Super Retina XDR OLED, 120Hz, HDR10, Dolby Vision, 1000 nits (HBM), 1200 nits (peak)',\n",
       "       'AMOLED, 1B colors (China only), 120Hz, 600 nits',\n",
       "       'Liquid Retina XDR mini-LED LCD, 120Hz, HDR10, Dolby Vision, 1000 nits (typ), 1600 nits (peak)',\n",
       "       'True Full HD IPS Plus LCD', 'Super AMOLED Plus',\n",
       "       'IPS LCD, 120Hz, 500 nits', 'OLED, 1B colors, HDR10, 120Hz',\n",
       "       'AMOLED, 90Hz, 700 nits, 1000 nits (peak)', 'IPS LCD, 256K colors',\n",
       "       'IPS LCD, 90Hz, 400 nits (typ)', 'PLS',\n",
       "       'Super AMOLED Plus, 420 nits (peak)', 'IPS LCD, 270 nits (typ)',\n",
       "       'SC-LCD', 'Super clear LCD',\n",
       "       'IPS LCD, 120Hz, 450 nits (typ), 550 nits (HBM)',\n",
       "       'Super Clear LCD', 'IPS LCD, 90Hz, 500 nits (HBM)', 'LCD, 90Hz',\n",
       "       'AMOLED, 1B colors, 120Hz, HDR10+, 1500 nits (peak)',\n",
       "       'PLS LCD, 120Hz', 'OLED, 600 nits (typ)',\n",
       "       'OLED, 1B colors, 120Hz, HDR10+, 500 nits (typ)', 'TFT LCD, 120Hz',\n",
       "       'IPS LCD, 1B colors, 120Hz, HDR10, Dolby Vision',\n",
       "       'Super AMOLED, 120Hz, 700 nits, 1200 nits (peak)',\n",
       "       'AMOLED, 1B colors, 144Hz, HDR10+, 1000 nits',\n",
       "       'Dynamic AMOLED 2X, 120Hz, HDR10+, 1200 nits (peak)',\n",
       "       'Super AMOLED Plus, HDR10+',\n",
       "       'Super AMOLED, 450 nits (typ), 1100 nits (peak)',\n",
       "       'AMOLED, HDR10+, 600 nits (typ)',\n",
       "       'OLED, 1B colors, 120Hz, HDR BT.2020',\n",
       "       'LTPO AMOLED, 1B colors, 120Hz, Dolby Vision, HDR10+, 1200 nits (HBM), 1900 nits (peak)',\n",
       "       'TFT,  256K colors', 'PLS LCD, 90Hz, 400 nits (typ)',\n",
       "       'TFT resistive touchscreen, 256K colors',\n",
       "       'IPS LCD, HDR10, 450 nits (typ)', 'AMOLED, 65K colors',\n",
       "       'Super AMOLED , 90Hz, HDR10+, 700 nits (HBM)',\n",
       "       'AMOLED, 90Hz, HDR10+, 500 nits (typ)', 'S-IPS LCD',\n",
       "       'IPS LCD, 90Hz, 400 nits (typ), 500 nits (HBM)',\n",
       "       'IPS LCD, 540 nits (typ)', 'Super AMOLED, HDR, 430 nits (typ)',\n",
       "       'Samsung AMOLED, 120Hz, 1200 nits (peak)',\n",
       "       'Dynamic AMOLED 2X, 120Hz, HDR10+, 1300 nits (peak)',\n",
       "       'AMOLED or LCD, 256K colors', 'IPS LCD, 120Hz',\n",
       "       'IPS LCD, 144Hz, HDR10+, 500 nits (typ), 650 nits (peak)',\n",
       "       'AMOLED, 1B colors, 120Hz, 900 nits (peak)',\n",
       "       'P-OLED, HDR10, Dolby Vision',\n",
       "       'IPS LCD, 90Hz, 450 nits (typ), 600 nits (HBM)', '3D S-LCD',\n",
       "       'AMOLED, 120Hz, 450 nits (typ), 700 nits (HBM), 1200 nits (peak)',\n",
       "       'IPS LCD, 480 nits', 'True HD IPS+',\n",
       "       'AMOLED, 68B colors, 120Hz, Dolby Vision, HDR10+, 500 nits (typ), 900 nits (peak)',\n",
       "       'IPS LCD, 500 nits (typ)',\n",
       "       'Super AMOLED, 120Hz, HDR10+, 700 nits (HBM), 1100 nits (peak)',\n",
       "       'AMOLED, 68B colors, 120Hz, Dolby Vision, HDR10+, 1100 nits (peak)',\n",
       "       'AMOLED, HDR10, 430 nits (typ)',\n",
       "       'Foldable AMOLED, 1B colors, HDR10+, Dolby Vision, 600 nits (typ), 900 nits (peak)',\n",
       "       'IPS LCD, 120Hz, HDR10',\n",
       "       'AMOLED, 120Hz, HDR10, 450 nits (typ), 1200 nits (peak)',\n",
       "       'OLED, 1B colors, Dolby Vision, HDR10+, 120Hz, 950 nits (peak)',\n",
       "       'Super Retina XDR OLED, HDR10, Dolby Vision, 1000 nits (HBM), 2000 nits (peak)',\n",
       "       'S-LCD, 256K colors',\n",
       "       'OLED, 1B colors, 120Hz, HDR10+, 800 nits (HBM), 1120 nits (peak)',\n",
       "       'IPS LCD, 330 nits (typ)', 'Super AMOLED, 90Hz, 800 nits (HBM)',\n",
       "       'IPS LCD, 500 nits',\n",
       "       'AMOLED, 1B colors, 120Hz, Dolby Vision, HDR10+, 500 nits (typ), 900 nits (HBM)',\n",
       "       'OLED, 68B colors, 120Hz, Dolby Vision, HDR10+, 4000 nits (peak)',\n",
       "       'Super AMOLED, 90Hz, HDR10+, 500 nits (typ)',\n",
       "       'IPS LCD, 550 nits (peak)', 'AMOLED, 1000 nits (peak)',\n",
       "       'IPS LCD, Dolby Vision, 400 nits (typ)',\n",
       "       'AMOLED, 1B colors, 120Hz, 700 nits (peak)', 'S-LCD2',\n",
       "       'TFT LCD, 90Hz', 'AMOLED, 1B colors, 120Hz, 1200 nits (peak)',\n",
       "       'AMOLED, 90Hz, 700 nits (HBM), 1000 nits (peak)',\n",
       "       'AMOLED, 450 nits (typ), 1100 nits (peak)',\n",
       "       'Super Flexible AMOLED',\n",
       "       'Super Retina XDR OLED, HDR10, Dolby Vision, 625 nits (HBM), 1200 nits (peak)',\n",
       "       'Super AMOLED, 120Hz, HDR10, 700 nits (HBM), 1200 nits (peak)',\n",
       "       'AMOLED, 120Hz',\n",
       "       'LTPO AMOLED, 1B colors, 120Hz, Dolby Vision, HDR10+, 1000 nits (HBM), 1500 nits (peak)',\n",
       "       'Dynamic AMOLED, HDR10+',\n",
       "       'AMOLED, 1B colors, HDR10+, 90Hz, 500 nits (typ), 800 nits',\n",
       "       'IPS LCD, 400 nits',\n",
       "       'OLED, 68B colors, 120Hz, Dolby Vision, HDR10+, 1000 nits (HBM)',\n",
       "       'OLED, HDR BT.2020', 'OLED, 120Hz, 1200 nits (peak)',\n",
       "       'IPS LCD, 300 nits (typ)', 'OLED, 1B colors, 120Hz, HDR10',\n",
       "       'Liquid Retina IPS LCD, 625 nits (HBM)',\n",
       "       'AMOLED, HDR10+, 430 nits (typ)', 'IPS LCD, 90Hz, 500 nits (peak)',\n",
       "       'TN', 'Super AMOLED, 120Hz, HDR10+, 1300 nits (peak)', 'IPS+ LCD,',\n",
       "       'TFT  LCD',\n",
       "       'LTPO Super Retina XDR OLED, 120Hz, HDR10, Dolby Vision, 1000 nits (typ), 2000 nits (HBM)',\n",
       "       'AMOLED, 90Hz, HDR', 'AMOLED, 1B colors, 120Hz, 1600 nits (peak)',\n",
       "       'AMOLED, HDR', 'IPS LCD, 144Hz',\n",
       "       'AMOLED, 68B colors, 120Hz, Dolby Vision, 500 nits (typ), 1200 nits (HBM), 1800 nits (peak)',\n",
       "       'Super AMOLED, 144Hz, HDR10+, 1300 nits (peak)',\n",
       "       'AMOLED, 1B colors (China only), 165Hz, 700 nits (typ)',\n",
       "       'OLED, 1B colors, HDR10, 90Hz', 'True IPS+ LCD', 'Curved P-OLED',\n",
       "       'AMOLED, 68B colors, 120Hz, Dolby Vision, HDR10+, 1800 nits (peak)',\n",
       "       'P-OLED',\n",
       "       'AMOLED, 1B colors, 120Hz, HDR10+, 800 nits (typ), 1000 nits (peak)',\n",
       "       'IPS LCD, HDR10, 120Hz, 450 nits (typ)',\n",
       "       'Retina IPS LCD, 500 nits (typ)',\n",
       "       'OLED, 68B colors, 120Hz, Dolby Vision, HDR10+, 1400 nits (peak)',\n",
       "       'Super AMOLED, 90Hz, HDR10+, 700 nits (HBM)',\n",
       "       'IPS LCD, 120Hz, 600 nits (typ)', 'AH-IPS LCD',\n",
       "       'IPS LCD, 90Hz, 450 nits (typ), 560 nits (peak)',\n",
       "       'Dynamic AMOLED 2X, 120Hz, HDR10+, 1750 nits (peak)',\n",
       "       'OLED, 120Hz', 'AMOLED, 1B colors, 120Hz, HDR10+, 800 nits (HBM)',\n",
       "       'OLED, 68B colors, 144Hz, HDR10+, Dolby Vision',\n",
       "       'AMOLED, 1B colors*, 120Hz, 1000 nits (peak)',\n",
       "       'Super AMOLED, 120Hz, 1000 nits (HBM)',\n",
       "       'AMOLED, 1B colors, 120Hz, HDR10+, Dolby Vision, 800 nits (HBM)',\n",
       "       'AMOLED, 120Hz, HDR10+, Dolby Vision, 600 nits (HBM)',\n",
       "       'AMOLED, 144Hz',\n",
       "       'AMOLED, 68B colors, 144Hz, Dolby Vision, HDR10+, 1200 nits (HBM), 2600 nits (peak)',\n",
       "       'AMOLED, 1B colors, HDR10, 90Hz, 500 nits (typ), 800 nits',\n",
       "       'AMOLED, 1B colors, 165Hz, 630 nits (typ)',\n",
       "       'AMOLED, 144Hz, HDR10+, 800 nits (HBM)',\n",
       "       'AMOLED, 68B colors, 120Hz, Dolby Vision, HDR10+, 1500 nits (peak)',\n",
       "       'OLED, 1B colors, HDR BT.2020', 'AMOLED, 1B colors, 144Hz, HDR10+',\n",
       "       'AMOLED, 90Hz, 450 nits (typ), 700 nits (peak)',\n",
       "       'OLED, 1B colors, 144Hz, HDR10+',\n",
       "       'AMOLED, 1B colors (China only), 120Hz, 1600 nits (peak)', 'TDDI',\n",
       "       'AMOLED, 1B colors, 120Hz, HDR10+', 'IPS LCD, 470 nits (typ)',\n",
       "       'Dynamic AMOLED 2X, 120Hz, HDR10+, 1500 nits (peak)',\n",
       "       'IPS LCD, 144Hz, HDR10, 500 nits (typ), 650 nits (peak)',\n",
       "       'AMOLED, 1B colors, 120Hz, 950 nits (peak)',\n",
       "       'AMOLED, 120Hz, 1000 nits (HBM), 1300 nits (peak)',\n",
       "       'Super AMOLED, 90Hz, HDR10+, 700 nits (HBM), 1000 nits (peak)',\n",
       "       'IPS LCD, 90Hz, 400 nits',\n",
       "       'AMOLED, 1B colors, Dolby Vision, HDR10+, 120Hz, 1000 nits (peak)',\n",
       "       'TFT LCD, 60Hz (International), 90Hz (SM-A326U, SM-326DL only)',\n",
       "       'AMOLED, 770 nits (HBM)',\n",
       "       'IPS LCD, 360 nits (typ), 450 nits (peak)',\n",
       "       'Foldable OLED, 1B colors, 120Hz',\n",
       "       'AMOLED, 1B colors, 120Hz, HDR10',\n",
       "       'Super AMOLED, 120Hz, HDR10+, 800 nits (HBM)',\n",
       "       'AMOLED, 1B colors, 120Hz, 1000 nits (peak)',\n",
       "       'TDDI IPS LCD, 350 nits (typ)',\n",
       "       'AMOLED, 68B colors, 120Hz, HDR10+, 500 nits (typ), 900 nits (peak)',\n",
       "       'OLED, HDR10+, Dolby Vision, 120Hz, 420 nits (typ), 600 nits (peak)',\n",
       "       'Super AMOLED, 90Hz, 600 nits',\n",
       "       'AMOLED, 1B colors, 120Hz, HDR10+, Dolby Vision, 900 nits (HBM), 1700 nits (peak)',\n",
       "       'IPS LCD, 90Hz, 500 nits (typ)', 'P-OLED, HDR BT.2020',\n",
       "       'Super AMOLED, 120Hz, HDR10+, 1000 nits (HBM)',\n",
       "       'IPS LCD, 1B colors, 144Hz, 600 nits (peak)'], dtype=object)"
      ]
     },
     "execution_count": 122,
     "metadata": {},
     "output_type": "execute_result"
    }
   ],
   "source": [
    "features_train['Display Type'].unique()"
   ]
  },
  {
   "cell_type": "code",
   "execution_count": 123,
   "metadata": {},
   "outputs": [],
   "source": [
    "def getDisplay(x):\n",
    "    return x.split(',')[0]\n",
    "features_train['Display Type']=features_train['Display Type'].apply(getDisplay)"
   ]
  },
  {
   "cell_type": "code",
   "execution_count": 124,
   "metadata": {},
   "outputs": [
    {
     "data": {
      "text/plain": [
       "array(['HD-IPS LCD', 'PLS LCD', 'IPS LCD', 'TFT', 'OLED', 'Super LCD3',\n",
       "       'Dynamic LTPO AMOLED 2X', 'Super AMOLED', 'Super LCD2',\n",
       "       'Super LCD', 'Dynamic AMOLED 2X', 'Dual IPS LCD', 'S-LCD',\n",
       "       'AMOLED', 'LCD', 'TFT LCD', 'Super Retina OLED', 'LED-backlit LCD',\n",
       "       'Liquid Retina IPS LCD', 'IPS-NEO LCD', 'Super IPS+',\n",
       "       'Super IPS LCD2', 'Super IPS LCD', 'P-OLED', 'Super LCD5',\n",
       "       'True HD-IPS LCD', 'Super Retina XDR OLED', '3D IPS LCD',\n",
       "       'IPS+ LCD', 'LTPO OLED', 'TFT resistive touchscreen',\n",
       "       'LTPO AMOLED', 'Super AMOLED Plus', 'True HD-IPS + LCD',\n",
       "       'Retina IPS LCD', 'Super IPS+ LCD', 'LED-backlit IPS LCD',\n",
       "       'AMOLED or SLCD', 'IGZO IPS LCD', '3D LCD', 'TN TFT LCD',\n",
       "       'Liquid Retina XDR mini-LED LCD', 'True Full HD IPS Plus LCD',\n",
       "       'PLS', 'SC-LCD', 'Super clear LCD', 'Super Clear LCD',\n",
       "       'Super AMOLED ', 'S-IPS LCD', 'Samsung AMOLED', 'AMOLED or LCD',\n",
       "       '3D S-LCD', 'True HD IPS+', 'Foldable AMOLED', 'S-LCD2',\n",
       "       'Super Flexible AMOLED', 'Dynamic AMOLED', 'TN', 'TFT  LCD',\n",
       "       'LTPO Super Retina XDR OLED', 'True IPS+ LCD', 'Curved P-OLED',\n",
       "       'AH-IPS LCD', 'TDDI', 'Foldable OLED', 'TDDI IPS LCD'],\n",
       "      dtype=object)"
      ]
     },
     "execution_count": 124,
     "metadata": {},
     "output_type": "execute_result"
    }
   ],
   "source": [
    "features_train['Display Type'].unique()"
   ]
  },
  {
   "cell_type": "markdown",
   "metadata": {},
   "source": [
    "We try to extract some data from Display type, but these are ver variant and we decided to put them away."
   ]
  },
  {
   "cell_type": "code",
   "execution_count": 31,
   "metadata": {},
   "outputs": [],
   "source": [
    "from sklearn.preprocessing import LabelEncoder\n",
    "le=LabelEncoder()\n",
    "features_train.brand=le.fit_transform(features_train.brand)"
   ]
  },
  {
   "cell_type": "code",
   "execution_count": 32,
   "metadata": {},
   "outputs": [
    {
     "data": {
      "text/plain": [
       "brand\n",
       "10    443\n",
       "12    244\n",
       "5     240\n",
       "8     197\n",
       "13    177\n",
       "4     177\n",
       "7     142\n",
       "9     130\n",
       "3     124\n",
       "11    100\n",
       "0      98\n",
       "2      91\n",
       "1      57\n",
       "6      33\n",
       "Name: count, dtype: int64"
      ]
     },
     "execution_count": 32,
     "metadata": {},
     "output_type": "execute_result"
    }
   ],
   "source": [
    "features_train.brand.value_counts()"
   ]
  },
  {
   "cell_type": "code",
   "execution_count": 33,
   "metadata": {},
   "outputs": [
    {
     "data": {
      "text/plain": [
       "0.03363059036366866"
      ]
     },
     "execution_count": 33,
     "metadata": {},
     "output_type": "execute_result"
    }
   ],
   "source": [
    "target_train.OS.corr(features_train.brand)"
   ]
  },
  {
   "cell_type": "code",
   "execution_count": 84,
   "metadata": {},
   "outputs": [],
   "source": [
    "features_train.drop(['Unnamed: 0','brand','name','Status','WLAN','Colors','Sensors','Bluetooth','GPU','Loudspeaker','Display Type',\n",
    "                 '3.5mm jack','Chipset','Network','Internal','Card slot'],axis=1,inplace=True)"
   ]
  },
  {
   "cell_type": "code",
   "execution_count": 85,
   "metadata": {},
   "outputs": [
    {
     "name": "stdout",
     "output_type": "stream",
     "text": [
      "<class 'pandas.core.frame.DataFrame'>\n",
      "Index: 2253 entries, 1313 to 860\n",
      "Data columns (total 20 columns):\n",
      " #   Column            Non-Null Count  Dtype  \n",
      "---  ------            --------------  -----  \n",
      " 0   2G                2253 non-null   bool   \n",
      " 1   3G                2253 non-null   bool   \n",
      " 2   4G                2253 non-null   bool   \n",
      " 3   5G                2253 non-null   bool   \n",
      " 4   Announced         2253 non-null   float64\n",
      " 5   Weight            2253 non-null   float64\n",
      " 6   Length            2253 non-null   object \n",
      " 7   Width             2253 non-null   object \n",
      " 8   Diameter          2253 non-null   object \n",
      " 9   SIM               2253 non-null   object \n",
      " 10  Display Size      2253 non-null   float64\n",
      " 11  ppi               2253 non-null   float64\n",
      " 12  body ratio        2253 non-null   float64\n",
      " 13  battery_capacity  2253 non-null   float64\n",
      " 14  Price             2253 non-null   float64\n",
      " 15  CPU               2009 non-null   float64\n",
      " 16  ratio             2253 non-null   object \n",
      " 17  pixel             2253 non-null   float64\n",
      " 18  RAM               2253 non-null   float64\n",
      " 19  Storage           2253 non-null   float64\n",
      "dtypes: bool(4), float64(11), object(5)\n",
      "memory usage: 308.0+ KB\n"
     ]
    }
   ],
   "source": [
    "features_train.info()"
   ]
  },
  {
   "cell_type": "code",
   "execution_count": 86,
   "metadata": {},
   "outputs": [],
   "source": [
    "features_train['2G']=features_train['2G'].map({True:1,False:0})\n",
    "features_train['3G']=features_train['3G'].map({True:1,False:0})\n",
    "features_train['4G']=features_train['4G'].map({True:1,False:0})\n",
    "features_train['5G']=features_train['5G'].map({True:1,False:0})"
   ]
  },
  {
   "cell_type": "code",
   "execution_count": 87,
   "metadata": {},
   "outputs": [
    {
     "data": {
      "text/plain": [
       "2G\n",
       "1    2253\n",
       "Name: count, dtype: int64"
      ]
     },
     "execution_count": 87,
     "metadata": {},
     "output_type": "execute_result"
    }
   ],
   "source": [
    "features_train['2G'].value_counts()"
   ]
  },
  {
   "cell_type": "code",
   "execution_count": 88,
   "metadata": {},
   "outputs": [
    {
     "data": {
      "text/plain": [
       "3G\n",
       "1    2231\n",
       "0      22\n",
       "Name: count, dtype: int64"
      ]
     },
     "execution_count": 88,
     "metadata": {},
     "output_type": "execute_result"
    }
   ],
   "source": [
    "features_train['3G'].value_counts()"
   ]
  },
  {
   "cell_type": "markdown",
   "metadata": {},
   "source": [
    "Because most of the devices support 2G and 3G we can drop them from our model."
   ]
  },
  {
   "cell_type": "code",
   "execution_count": 89,
   "metadata": {},
   "outputs": [
    {
     "data": {
      "text/plain": [
       "4G\n",
       "1    1667\n",
       "0     586\n",
       "Name: count, dtype: int64"
      ]
     },
     "execution_count": 89,
     "metadata": {},
     "output_type": "execute_result"
    }
   ],
   "source": [
    "features_train['4G'].value_counts()"
   ]
  },
  {
   "cell_type": "code",
   "execution_count": 90,
   "metadata": {},
   "outputs": [
    {
     "data": {
      "text/plain": [
       "5G\n",
       "0    1964\n",
       "1     289\n",
       "Name: count, dtype: int64"
      ]
     },
     "execution_count": 90,
     "metadata": {},
     "output_type": "execute_result"
    }
   ],
   "source": [
    "features_train['5G'].value_counts()"
   ]
  },
  {
   "cell_type": "code",
   "execution_count": 93,
   "metadata": {},
   "outputs": [],
   "source": [
    "def getLength(x):\n",
    "        a=x.split(' ')\n",
    "        if a[0]=='Unfolded:': \n",
    "                return float(a[1])\n",
    "        else:\n",
    "                return float(a[0])\n",
    "features_train.Length=features_train.Length.apply(getLength)"
   ]
  },
  {
   "cell_type": "code",
   "execution_count": 94,
   "metadata": {},
   "outputs": [
    {
     "name": "stderr",
     "output_type": "stream",
     "text": [
      "/Users/mohammadhossein/miniconda3/envs/quera/lib/python3.9/site-packages/seaborn/_oldcore.py:1119: FutureWarning: use_inf_as_na option is deprecated and will be removed in a future version. Convert inf values to NaN before operating instead.\n",
      "  with pd.option_context('mode.use_inf_as_na', True):\n"
     ]
    },
    {
     "data": {
      "text/plain": [
       "<Axes: xlabel='Length', ylabel='Count'>"
      ]
     },
     "execution_count": 94,
     "metadata": {},
     "output_type": "execute_result"
    },
    {
     "data": {
      "image/png": "[encoded data removed]",
      "text/plain": [
       "<Figure size 640x480 with 1 Axes>"
      ]
     },
     "metadata": {},
     "output_type": "display_data"
    }
   ],
   "source": [
    "import seaborn as sns\n",
    "import matplotlib.pyplot as plt\n",
    "sns.histplot(features_train.Length)"
   ]
  },
  {
   "cell_type": "code",
   "execution_count": 95,
   "metadata": {},
   "outputs": [],
   "source": [
    "def getWidth(x):\n",
    "        return float(x.split('mm')[0])\n",
    "features_train.Width=features_train.Width.apply(getWidth)"
   ]
  },
  {
   "cell_type": "code",
   "execution_count": 96,
   "metadata": {},
   "outputs": [
    {
     "name": "stderr",
     "output_type": "stream",
     "text": [
      "/Users/mohammadhossein/miniconda3/envs/quera/lib/python3.9/site-packages/seaborn/_oldcore.py:1119: FutureWarning: use_inf_as_na option is deprecated and will be removed in a future version. Convert inf values to NaN before operating instead.\n",
      "  with pd.option_context('mode.use_inf_as_na', True):\n"
     ]
    },
    {
     "data": {
      "text/plain": [
       "<Axes: xlabel='Width', ylabel='Count'>"
      ]
     },
     "execution_count": 96,
     "metadata": {},
     "output_type": "execute_result"
    },
    {
     "data": {
      "image/png": "[encoded data removed]",
      "text/plain": [
       "<Figure size 640x480 with 1 Axes>"
      ]
     },
     "metadata": {},
     "output_type": "display_data"
    }
   ],
   "source": [
    "import seaborn as sns\n",
    "import matplotlib.pyplot as plt\n",
    "sns.histplot(features_train.Width,bins=50)"
   ]
  },
  {
   "cell_type": "code",
   "execution_count": 97,
   "metadata": {},
   "outputs": [],
   "source": [
    "def getDiameter(x):\n",
    "        return float(x.split('-')[0])\n",
    "features_train.Diameter=features_train.Diameter.apply(getDiameter)\n"
   ]
  },
  {
   "cell_type": "code",
   "execution_count": 98,
   "metadata": {},
   "outputs": [
    {
     "name": "stderr",
     "output_type": "stream",
     "text": [
      "/Users/mohammadhossein/miniconda3/envs/quera/lib/python3.9/site-packages/seaborn/_oldcore.py:1119: FutureWarning: use_inf_as_na option is deprecated and will be removed in a future version. Convert inf values to NaN before operating instead.\n",
      "  with pd.option_context('mode.use_inf_as_na', True):\n"
     ]
    },
    {
     "data": {
      "text/plain": [
       "<Axes: xlabel='Diameter', ylabel='Count'>"
      ]
     },
     "execution_count": 98,
     "metadata": {},
     "output_type": "execute_result"
    },
    {
     "data": {
      "image/png": "[encoded data removed]",
      "text/plain": [
       "<Figure size 640x480 with 1 Axes>"
      ]
     },
     "metadata": {},
     "output_type": "display_data"
    }
   ],
   "source": [
    "import seaborn as sns\n",
    "import matplotlib.pyplot as plt\n",
    "sns.histplot(features_train.Diameter)"
   ]
  },
  {
   "cell_type": "code",
   "execution_count": 99,
   "metadata": {},
   "outputs": [
    {
     "data": {
      "text/plain": [
       "SIM\n",
       "Nano-SIM     1221\n",
       "Micro-SIM     542\n",
       "Mini-SIM      406\n",
       "eSIM           84\n",
       "Name: count, dtype: int64"
      ]
     },
     "execution_count": 99,
     "metadata": {},
     "output_type": "execute_result"
    }
   ],
   "source": [
    "features_train.SIM.value_counts()"
   ]
  },
  {
   "cell_type": "code",
   "execution_count": 100,
   "metadata": {},
   "outputs": [],
   "source": [
    "features_train.SIM=features_train.SIM.map({'eSIM':0,'Mini-SIM':1,'Micro-SIM':2,'Nano-SIM':3})"
   ]
  },
  {
   "cell_type": "code",
   "execution_count": 68,
   "metadata": {},
   "outputs": [
    {
     "data": {
      "text/plain": [
       "SIM\n",
       "3    1221\n",
       "2     542\n",
       "1     406\n",
       "0      84\n",
       "Name: count, dtype: int64"
      ]
     },
     "execution_count": 68,
     "metadata": {},
     "output_type": "execute_result"
    }
   ],
   "source": [
    "features_train.SIM.value_counts()"
   ]
  },
  {
   "cell_type": "code",
   "execution_count": 101,
   "metadata": {},
   "outputs": [],
   "source": [
    "def getRatio(x):\n",
    "    return int(x.split(':')[0])/int(x.split(':')[1])\n",
    "features_train.ratio=features_train.ratio.apply(getRatio)\n",
    "    "
   ]
  },
  {
   "cell_type": "code",
   "execution_count": 102,
   "metadata": {},
   "outputs": [
    {
     "name": "stderr",
     "output_type": "stream",
     "text": [
      "/Users/mohammadhossein/miniconda3/envs/quera/lib/python3.9/site-packages/seaborn/_oldcore.py:1119: FutureWarning: use_inf_as_na option is deprecated and will be removed in a future version. Convert inf values to NaN before operating instead.\n",
      "  with pd.option_context('mode.use_inf_as_na', True):\n"
     ]
    },
    {
     "data": {
      "text/plain": [
       "<Axes: xlabel='ratio', ylabel='Count'>"
      ]
     },
     "execution_count": 102,
     "metadata": {},
     "output_type": "execute_result"
    },
    {
     "data": {
      "image/png": "[encoded data removed]",
      "text/plain": [
       "<Figure size 640x480 with 1 Axes>"
      ]
     },
     "metadata": {},
     "output_type": "display_data"
    }
   ],
   "source": [
    "import seaborn as sns\n",
    "import matplotlib.pyplot as plt\n",
    "sns.histplot(features_train.ratio)"
   ]
  },
  {
   "cell_type": "code",
   "execution_count": 71,
   "metadata": {},
   "outputs": [
    {
     "data": {
      "text/plain": [
       "count    2009.000000\n",
       "mean        5.858138\n",
       "std         2.372293\n",
       "min         2.000000\n",
       "25%         4.000000\n",
       "50%         8.000000\n",
       "75%         8.000000\n",
       "max        10.000000\n",
       "Name: CPU, dtype: float64"
      ]
     },
     "execution_count": 71,
     "metadata": {},
     "output_type": "execute_result"
    }
   ],
   "source": [
    "features_train.CPU.describe()"
   ]
  },
  {
   "cell_type": "code",
   "execution_count": 103,
   "metadata": {},
   "outputs": [],
   "source": [
    "features_train.CPU=features_train.CPU.fillna(features_train.CPU.median())"
   ]
  },
  {
   "cell_type": "code",
   "execution_count": 171,
   "metadata": {},
   "outputs": [
    {
     "name": "stderr",
     "output_type": "stream",
     "text": [
      "/Users/mohammadhossein/miniconda3/envs/quera/lib/python3.9/site-packages/seaborn/_oldcore.py:1119: FutureWarning: use_inf_as_na option is deprecated and will be removed in a future version. Convert inf values to NaN before operating instead.\n",
      "  with pd.option_context('mode.use_inf_as_na', True):\n"
     ]
    },
    {
     "data": {
      "text/plain": [
       "<Axes: xlabel='battery_capacity', ylabel='Count'>"
      ]
     },
     "execution_count": 171,
     "metadata": {},
     "output_type": "execute_result"
    },
    {
     "data": {
      "image/png": "[encoded data removed]",
      "text/plain": [
       "<Figure size 640x480 with 1 Axes>"
      ]
     },
     "metadata": {},
     "output_type": "display_data"
    }
   ],
   "source": [
    "import seaborn as sns\n",
    "import matplotlib.pyplot as plt\n",
    "sns.histplot(features_train['battery_capacity'])"
   ]
  },
  {
   "cell_type": "code",
   "execution_count": 106,
   "metadata": {},
   "outputs": [
    {
     "name": "stderr",
     "output_type": "stream",
     "text": [
      "/Users/mohammadhossein/miniconda3/envs/quera/lib/python3.9/site-packages/seaborn/_oldcore.py:1119: FutureWarning: use_inf_as_na option is deprecated and will be removed in a future version. Convert inf values to NaN before operating instead.\n",
      "  with pd.option_context('mode.use_inf_as_na', True):\n"
     ]
    },
    {
     "data": {
      "text/plain": [
       "<Axes: xlabel='Display Size', ylabel='Count'>"
      ]
     },
     "execution_count": 106,
     "metadata": {},
     "output_type": "execute_result"
    },
    {
     "data": {
      "image/png": "[encoded data removed]",
      "text/plain": [
       "<Figure size 640x480 with 1 Axes>"
      ]
     },
     "metadata": {},
     "output_type": "display_data"
    }
   ],
   "source": [
    "import seaborn as sns\n",
    "import matplotlib.pyplot as plt\n",
    "sns.histplot(features_train['Display Size'])"
   ]
  },
  {
   "cell_type": "code",
   "execution_count": 107,
   "metadata": {},
   "outputs": [
    {
     "name": "stderr",
     "output_type": "stream",
     "text": [
      "/Users/mohammadhossein/miniconda3/envs/quera/lib/python3.9/site-packages/seaborn/_oldcore.py:1119: FutureWarning: use_inf_as_na option is deprecated and will be removed in a future version. Convert inf values to NaN before operating instead.\n",
      "  with pd.option_context('mode.use_inf_as_na', True):\n"
     ]
    },
    {
     "data": {
      "text/plain": [
       "<Axes: xlabel='ppi', ylabel='Count'>"
      ]
     },
     "execution_count": 107,
     "metadata": {},
     "output_type": "execute_result"
    },
    {
     "data": {
      "image/png": "[encoded data removed]",
      "text/plain": [
       "<Figure size 640x480 with 1 Axes>"
      ]
     },
     "metadata": {},
     "output_type": "display_data"
    }
   ],
   "source": [
    "import seaborn as sns\n",
    "import matplotlib.pyplot as plt\n",
    "sns.histplot(features_train.ppi)"
   ]
  },
  {
   "cell_type": "code",
   "execution_count": 108,
   "metadata": {},
   "outputs": [
    {
     "name": "stderr",
     "output_type": "stream",
     "text": [
      "/Users/mohammadhossein/miniconda3/envs/quera/lib/python3.9/site-packages/seaborn/_oldcore.py:1119: FutureWarning: use_inf_as_na option is deprecated and will be removed in a future version. Convert inf values to NaN before operating instead.\n",
      "  with pd.option_context('mode.use_inf_as_na', True):\n"
     ]
    },
    {
     "data": {
      "text/plain": [
       "<Axes: xlabel='body ratio', ylabel='Count'>"
      ]
     },
     "execution_count": 108,
     "metadata": {},
     "output_type": "execute_result"
    },
    {
     "data": {
      "image/png": "[encoded data removed]",
      "text/plain": [
       "<Figure size 640x480 with 1 Axes>"
      ]
     },
     "metadata": {},
     "output_type": "display_data"
    }
   ],
   "source": [
    "import seaborn as sns\n",
    "import matplotlib.pyplot as plt\n",
    "sns.histplot(features_train['body ratio'])"
   ]
  },
  {
   "cell_type": "code",
   "execution_count": 110,
   "metadata": {},
   "outputs": [
    {
     "name": "stderr",
     "output_type": "stream",
     "text": [
      "/Users/mohammadhossein/miniconda3/envs/quera/lib/python3.9/site-packages/seaborn/_oldcore.py:1119: FutureWarning: use_inf_as_na option is deprecated and will be removed in a future version. Convert inf values to NaN before operating instead.\n",
      "  with pd.option_context('mode.use_inf_as_na', True):\n"
     ]
    },
    {
     "data": {
      "text/plain": [
       "<Axes: xlabel='Price', ylabel='Count'>"
      ]
     },
     "execution_count": 110,
     "metadata": {},
     "output_type": "execute_result"
    },
    {
     "data": {
      "image/png": "[encoded data removed]",
      "text/plain": [
       "<Figure size 640x480 with 1 Axes>"
      ]
     },
     "metadata": {},
     "output_type": "display_data"
    }
   ],
   "source": [
    "import seaborn as sns\n",
    "import matplotlib.pyplot as plt\n",
    "sns.histplot(features_train.Price)"
   ]
  },
  {
   "cell_type": "code",
   "execution_count": 114,
   "metadata": {},
   "outputs": [
    {
     "name": "stderr",
     "output_type": "stream",
     "text": [
      "/Users/mohammadhossein/miniconda3/envs/quera/lib/python3.9/site-packages/seaborn/_oldcore.py:1119: FutureWarning: use_inf_as_na option is deprecated and will be removed in a future version. Convert inf values to NaN before operating instead.\n",
      "  with pd.option_context('mode.use_inf_as_na', True):\n"
     ]
    },
    {
     "data": {
      "text/plain": [
       "<Axes: xlabel='RAM', ylabel='Count'>"
      ]
     },
     "execution_count": 114,
     "metadata": {},
     "output_type": "execute_result"
    },
    {
     "data": {
      "image/png": "[encoded data removed]",
      "text/plain": [
       "<Figure size 640x480 with 1 Axes>"
      ]
     },
     "metadata": {},
     "output_type": "display_data"
    }
   ],
   "source": [
    "import seaborn as sns\n",
    "import matplotlib.pyplot as plt\n",
    "sns.histplot(features_train.RAM)"
   ]
  },
  {
   "cell_type": "code",
   "execution_count": 113,
   "metadata": {},
   "outputs": [
    {
     "name": "stderr",
     "output_type": "stream",
     "text": [
      "/Users/mohammadhossein/miniconda3/envs/quera/lib/python3.9/site-packages/seaborn/_oldcore.py:1119: FutureWarning: use_inf_as_na option is deprecated and will be removed in a future version. Convert inf values to NaN before operating instead.\n",
      "  with pd.option_context('mode.use_inf_as_na', True):\n"
     ]
    },
    {
     "data": {
      "text/plain": [
       "<Axes: xlabel='Storage', ylabel='Count'>"
      ]
     },
     "execution_count": 113,
     "metadata": {},
     "output_type": "execute_result"
    },
    {
     "data": {
      "image/png": "[encoded data removed]",
      "text/plain": [
       "<Figure size 640x480 with 1 Axes>"
      ]
     },
     "metadata": {},
     "output_type": "display_data"
    }
   ],
   "source": [
    "import seaborn as sns\n",
    "import matplotlib.pyplot as plt\n",
    "sns.histplot(features_train.Storage)"
   ]
  },
  {
   "cell_type": "code",
   "execution_count": 115,
   "metadata": {},
   "outputs": [],
   "source": [
    "features_train.drop(['2G','3G'],axis=1,inplace=True)"
   ]
  },
  {
   "cell_type": "code",
   "execution_count": 116,
   "metadata": {},
   "outputs": [
    {
     "data": {
      "text/html": [
       "<div>\n",
       "<style scoped>\n",
       "    .dataframe tbody tr th:only-of-type {\n",
       "        vertical-align: middle;\n",
       "    }\n",
       "\n",
       "    .dataframe tbody tr th {\n",
       "        vertical-align: top;\n",
       "    }\n",
       "\n",
       "    .dataframe thead th {\n",
       "        text-align: right;\n",
       "    }\n",
       "</style>\n",
       "<table border=\"1\" class=\"dataframe\">\n",
       "  <thead>\n",
       "    <tr style=\"text-align: right;\">\n",
       "      <th></th>\n",
       "      <th>4G</th>\n",
       "      <th>5G</th>\n",
       "      <th>Announced</th>\n",
       "      <th>Weight</th>\n",
       "      <th>Length</th>\n",
       "      <th>Width</th>\n",
       "      <th>Diameter</th>\n",
       "      <th>SIM</th>\n",
       "      <th>Display Size</th>\n",
       "      <th>ppi</th>\n",
       "      <th>body ratio</th>\n",
       "      <th>battery_capacity</th>\n",
       "      <th>Price</th>\n",
       "      <th>CPU</th>\n",
       "      <th>ratio</th>\n",
       "      <th>pixel</th>\n",
       "      <th>RAM</th>\n",
       "      <th>Storage</th>\n",
       "    </tr>\n",
       "  </thead>\n",
       "  <tbody>\n",
       "    <tr>\n",
       "      <th>1313</th>\n",
       "      <td>0</td>\n",
       "      <td>0</td>\n",
       "      <td>2012.0</td>\n",
       "      <td>168.0</td>\n",
       "      <td>139.6</td>\n",
       "      <td>90.4</td>\n",
       "      <td>8.5</td>\n",
       "      <td>2</td>\n",
       "      <td>5.00</td>\n",
       "      <td>256.0</td>\n",
       "      <td>61.3</td>\n",
       "      <td>2100.0</td>\n",
       "      <td>210.0</td>\n",
       "      <td>4.0</td>\n",
       "      <td>1.333333</td>\n",
       "      <td>786432.0</td>\n",
       "      <td>1.0</td>\n",
       "      <td>32.0</td>\n",
       "    </tr>\n",
       "    <tr>\n",
       "      <th>2302</th>\n",
       "      <td>1</td>\n",
       "      <td>0</td>\n",
       "      <td>2018.0</td>\n",
       "      <td>154.0</td>\n",
       "      <td>143.4</td>\n",
       "      <td>72.1</td>\n",
       "      <td>8.9</td>\n",
       "      <td>2</td>\n",
       "      <td>5.00</td>\n",
       "      <td>220.0</td>\n",
       "      <td>66.7</td>\n",
       "      <td>2600.0</td>\n",
       "      <td>120.0</td>\n",
       "      <td>4.0</td>\n",
       "      <td>1.777778</td>\n",
       "      <td>518400.0</td>\n",
       "      <td>1.0</td>\n",
       "      <td>8.0</td>\n",
       "    </tr>\n",
       "    <tr>\n",
       "      <th>2080</th>\n",
       "      <td>1</td>\n",
       "      <td>0</td>\n",
       "      <td>2017.0</td>\n",
       "      <td>211.0</td>\n",
       "      <td>174.1</td>\n",
       "      <td>88.7</td>\n",
       "      <td>7.6</td>\n",
       "      <td>3</td>\n",
       "      <td>6.44</td>\n",
       "      <td>342.0</td>\n",
       "      <td>74.0</td>\n",
       "      <td>5300.0</td>\n",
       "      <td>200.0</td>\n",
       "      <td>8.0</td>\n",
       "      <td>1.777778</td>\n",
       "      <td>2073600.0</td>\n",
       "      <td>4.0</td>\n",
       "      <td>32.0</td>\n",
       "    </tr>\n",
       "    <tr>\n",
       "      <th>1817</th>\n",
       "      <td>0</td>\n",
       "      <td>0</td>\n",
       "      <td>2012.0</td>\n",
       "      <td>130.0</td>\n",
       "      <td>123.0</td>\n",
       "      <td>63.5</td>\n",
       "      <td>10.0</td>\n",
       "      <td>1</td>\n",
       "      <td>4.00</td>\n",
       "      <td>233.0</td>\n",
       "      <td>58.3</td>\n",
       "      <td>1600.0</td>\n",
       "      <td>190.0</td>\n",
       "      <td>8.0</td>\n",
       "      <td>1.666667</td>\n",
       "      <td>384000.0</td>\n",
       "      <td>0.5</td>\n",
       "      <td>4.0</td>\n",
       "    </tr>\n",
       "    <tr>\n",
       "      <th>2112</th>\n",
       "      <td>1</td>\n",
       "      <td>0</td>\n",
       "      <td>2014.0</td>\n",
       "      <td>185.0</td>\n",
       "      <td>154.0</td>\n",
       "      <td>78.7</td>\n",
       "      <td>9.5</td>\n",
       "      <td>1</td>\n",
       "      <td>5.50</td>\n",
       "      <td>267.0</td>\n",
       "      <td>68.8</td>\n",
       "      <td>3100.0</td>\n",
       "      <td>160.0</td>\n",
       "      <td>4.0</td>\n",
       "      <td>1.777778</td>\n",
       "      <td>921600.0</td>\n",
       "      <td>2.0</td>\n",
       "      <td>8.0</td>\n",
       "    </tr>\n",
       "    <tr>\n",
       "      <th>...</th>\n",
       "      <td>...</td>\n",
       "      <td>...</td>\n",
       "      <td>...</td>\n",
       "      <td>...</td>\n",
       "      <td>...</td>\n",
       "      <td>...</td>\n",
       "      <td>...</td>\n",
       "      <td>...</td>\n",
       "      <td>...</td>\n",
       "      <td>...</td>\n",
       "      <td>...</td>\n",
       "      <td>...</td>\n",
       "      <td>...</td>\n",
       "      <td>...</td>\n",
       "      <td>...</td>\n",
       "      <td>...</td>\n",
       "      <td>...</td>\n",
       "      <td>...</td>\n",
       "    </tr>\n",
       "    <tr>\n",
       "      <th>1638</th>\n",
       "      <td>1</td>\n",
       "      <td>1</td>\n",
       "      <td>2023.0</td>\n",
       "      <td>613.0</td>\n",
       "      <td>279.7</td>\n",
       "      <td>181.9</td>\n",
       "      <td>6.5</td>\n",
       "      <td>3</td>\n",
       "      <td>12.10</td>\n",
       "      <td>249.0</td>\n",
       "      <td>83.4</td>\n",
       "      <td>10000.0</td>\n",
       "      <td>500.0</td>\n",
       "      <td>8.0</td>\n",
       "      <td>1.600000</td>\n",
       "      <td>4096000.0</td>\n",
       "      <td>12.0</td>\n",
       "      <td>256.0</td>\n",
       "    </tr>\n",
       "    <tr>\n",
       "      <th>1095</th>\n",
       "      <td>0</td>\n",
       "      <td>0</td>\n",
       "      <td>2014.0</td>\n",
       "      <td>615.0</td>\n",
       "      <td>261.0</td>\n",
       "      <td>180.0</td>\n",
       "      <td>8.1</td>\n",
       "      <td>2</td>\n",
       "      <td>10.10</td>\n",
       "      <td>224.0</td>\n",
       "      <td>63.0</td>\n",
       "      <td>9000.0</td>\n",
       "      <td>260.0</td>\n",
       "      <td>4.0</td>\n",
       "      <td>1.600000</td>\n",
       "      <td>2304000.0</td>\n",
       "      <td>2.0</td>\n",
       "      <td>16.0</td>\n",
       "    </tr>\n",
       "    <tr>\n",
       "      <th>1130</th>\n",
       "      <td>1</td>\n",
       "      <td>0</td>\n",
       "      <td>2021.0</td>\n",
       "      <td>201.0</td>\n",
       "      <td>166.5</td>\n",
       "      <td>77.3</td>\n",
       "      <td>9.3</td>\n",
       "      <td>3</td>\n",
       "      <td>6.55</td>\n",
       "      <td>280.0</td>\n",
       "      <td>91.9</td>\n",
       "      <td>5000.0</td>\n",
       "      <td>170.0</td>\n",
       "      <td>8.0</td>\n",
       "      <td>1.777778</td>\n",
       "      <td>1440000.0</td>\n",
       "      <td>4.0</td>\n",
       "      <td>128.0</td>\n",
       "    </tr>\n",
       "    <tr>\n",
       "      <th>1294</th>\n",
       "      <td>0</td>\n",
       "      <td>0</td>\n",
       "      <td>2013.0</td>\n",
       "      <td>100.0</td>\n",
       "      <td>118.4</td>\n",
       "      <td>62.2</td>\n",
       "      <td>9.2</td>\n",
       "      <td>1</td>\n",
       "      <td>4.00</td>\n",
       "      <td>233.0</td>\n",
       "      <td>61.8</td>\n",
       "      <td>1700.0</td>\n",
       "      <td>120.0</td>\n",
       "      <td>8.0</td>\n",
       "      <td>1.666667</td>\n",
       "      <td>384000.0</td>\n",
       "      <td>0.5</td>\n",
       "      <td>4.0</td>\n",
       "    </tr>\n",
       "    <tr>\n",
       "      <th>860</th>\n",
       "      <td>0</td>\n",
       "      <td>0</td>\n",
       "      <td>2013.0</td>\n",
       "      <td>155.0</td>\n",
       "      <td>142.5</td>\n",
       "      <td>72.8</td>\n",
       "      <td>9.0</td>\n",
       "      <td>1</td>\n",
       "      <td>5.00</td>\n",
       "      <td>294.0</td>\n",
       "      <td>66.4</td>\n",
       "      <td>2150.0</td>\n",
       "      <td>190.0</td>\n",
       "      <td>4.0</td>\n",
       "      <td>1.777778</td>\n",
       "      <td>921600.0</td>\n",
       "      <td>2.0</td>\n",
       "      <td>8.0</td>\n",
       "    </tr>\n",
       "  </tbody>\n",
       "</table>\n",
       "<p>2253 rows × 18 columns</p>\n",
       "</div>"
      ],
      "text/plain": [
       "      4G  5G  Announced  Weight  Length  Width  Diameter  SIM  Display Size  \\\n",
       "1313   0   0     2012.0   168.0   139.6   90.4       8.5    2          5.00   \n",
       "2302   1   0     2018.0   154.0   143.4   72.1       8.9    2          5.00   \n",
       "2080   1   0     2017.0   211.0   174.1   88.7       7.6    3          6.44   \n",
       "1817   0   0     2012.0   130.0   123.0   63.5      10.0    1          4.00   \n",
       "2112   1   0     2014.0   185.0   154.0   78.7       9.5    1          5.50   \n",
       "...   ..  ..        ...     ...     ...    ...       ...  ...           ...   \n",
       "1638   1   1     2023.0   613.0   279.7  181.9       6.5    3         12.10   \n",
       "1095   0   0     2014.0   615.0   261.0  180.0       8.1    2         10.10   \n",
       "1130   1   0     2021.0   201.0   166.5   77.3       9.3    3          6.55   \n",
       "1294   0   0     2013.0   100.0   118.4   62.2       9.2    1          4.00   \n",
       "860    0   0     2013.0   155.0   142.5   72.8       9.0    1          5.00   \n",
       "\n",
       "        ppi  body ratio  battery_capacity  Price  CPU     ratio      pixel  \\\n",
       "1313  256.0        61.3            2100.0  210.0  4.0  1.333333   786432.0   \n",
       "2302  220.0        66.7            2600.0  120.0  4.0  1.777778   518400.0   \n",
       "2080  342.0        74.0            5300.0  200.0  8.0  1.777778  2073600.0   \n",
       "1817  233.0        58.3            1600.0  190.0  8.0  1.666667   384000.0   \n",
       "2112  267.0        68.8            3100.0  160.0  4.0  1.777778   921600.0   \n",
       "...     ...         ...               ...    ...  ...       ...        ...   \n",
       "1638  249.0        83.4           10000.0  500.0  8.0  1.600000  4096000.0   \n",
       "1095  224.0        63.0            9000.0  260.0  4.0  1.600000  2304000.0   \n",
       "1130  280.0        91.9            5000.0  170.0  8.0  1.777778  1440000.0   \n",
       "1294  233.0        61.8            1700.0  120.0  8.0  1.666667   384000.0   \n",
       "860   294.0        66.4            2150.0  190.0  4.0  1.777778   921600.0   \n",
       "\n",
       "       RAM  Storage  \n",
       "1313   1.0     32.0  \n",
       "2302   1.0      8.0  \n",
       "2080   4.0     32.0  \n",
       "1817   0.5      4.0  \n",
       "2112   2.0      8.0  \n",
       "...    ...      ...  \n",
       "1638  12.0    256.0  \n",
       "1095   2.0     16.0  \n",
       "1130   4.0    128.0  \n",
       "1294   0.5      4.0  \n",
       "860    2.0      8.0  \n",
       "\n",
       "[2253 rows x 18 columns]"
      ]
     },
     "execution_count": 116,
     "metadata": {},
     "output_type": "execute_result"
    }
   ],
   "source": [
    "features_train"
   ]
  },
  {
   "cell_type": "code",
   "execution_count": null,
   "metadata": {},
   "outputs": [],
   "source": []
  },
  {
   "cell_type": "markdown",
   "metadata": {},
   "source": [
    "Decision Tree Classifier"
   ]
  },
  {
   "cell_type": "code",
   "execution_count": 131,
   "metadata": {},
   "outputs": [
    {
     "name": "stdout",
     "output_type": "stream",
     "text": [
      "Original dataset shape: Counter({0: 1760, 2: 109, 1: 46})\n",
      "Resampled dataset shape: Counter({0: 1760, 2: 1760, 1: 1760})\n",
      "{'fit_time': array([0.05956697, 0.04239488, 0.03422904, 0.03098989, 0.03006506]),\n",
      " 'score_time': array([0.00508904, 0.00133801, 0.00194001, 0.00140119, 0.00132585]),\n",
      " 'test_score': array([0.95654846, 0.97538597, 0.97138748, 0.96960966, 0.96965329]),\n",
      " 'train_score': array([1., 1., 1., 1., 1.])}\n",
      "Train Accuracy: 1.0\n",
      "Train F1: 1.0\n",
      "Test Accuracy: 0.9497041420118343\n",
      "Test F1: 0.9510902640035952\n",
      "Test recission: 0.9528868771926036\n",
      "Test Recall: 0.9497041420118343\n"
     ]
    }
   ],
   "source": [
    "from sklearn.tree import DecisionTreeClassifier\n",
    "from sklearn.model_selection import train_test_split\n",
    "from sklearn.preprocessing import StandardScaler\n",
    "from sklearn.model_selection import cross_validate\n",
    "from imblearn.over_sampling import SMOTE\n",
    "from sklearn.metrics import f1_score,precision_score,accuracy_score,recall_score\n",
    "from pprint import pprint\n",
    "from collections import Counter\n",
    "\n",
    "X=features_train\n",
    "y=target_train.OS\n",
    "\n",
    "\n",
    "X_train,X_val,y_train,y_val=train_test_split(X,y,test_size=0.15,random_state=42)\n",
    "\n",
    "sc=StandardScaler()\n",
    "\n",
    "X_train_scaled=sc.fit_transform(X_train)\n",
    "X_val_scaled=sc.transform(X_val)\n",
    "\n",
    "sm=SMOTE(random_state=42)\n",
    "\n",
    "X_train_resampled, y_train_resampled=sm.fit_resample(X_train_scaled,y_train)\n",
    "\n",
    "print('Original dataset shape:', Counter(y_train))\n",
    "print('Resampled dataset shape:', Counter(y_train_resampled))\n",
    "\n",
    "\n",
    "cls=DecisionTreeClassifier(random_state=42)\n",
    "\n",
    "\n",
    "\n",
    "cls.fit(X_train_resampled,y_train_resampled)\n",
    "\n",
    "result=cross_validate(cls,X_train_resampled,y_train_resampled,cv=5,return_train_score=True,scoring='f1_weighted')\n",
    "pprint(result)\n",
    "\n",
    "y_pred=cls.predict(X_train_scaled)\n",
    "print('Train Accuracy:',f1_score(y_train,y_pred, average='weighted'))\n",
    "print('Train F1:',f1_score(y_train,y_pred,average='weighted'))\n",
    "\n",
    "y_pred=cls.predict(X_val_scaled)\n",
    "print('Test Accuracy:',accuracy_score(y_val,y_pred))\n",
    "print('Test F1:',f1_score(y_val,y_pred,average='weighted'))\n",
    "print('Test recission:',precision_score(y_val,y_pred,average='weighted'))\n",
    "print('Test Recall:',recall_score(y_val,y_pred,average='weighted'))\n",
    "\n",
    "\n"
   ]
  },
  {
   "cell_type": "code",
   "execution_count": 132,
   "metadata": {},
   "outputs": [
    {
     "data": {
      "text/plain": [
       "Text(50.722222222222214, 0.5, 'True Lables')"
      ]
     },
     "execution_count": 132,
     "metadata": {},
     "output_type": "execute_result"
    },
    {
     "data": {
      "image/png": "[encoded data removed]",
      "text/plain": [
       "<Figure size 640x480 with 2 Axes>"
      ]
     },
     "metadata": {},
     "output_type": "display_data"
    }
   ],
   "source": [
    "# Confusion Matrix\n",
    "from sklearn.metrics import confusion_matrix\n",
    "import matplotlib.pyplot as plt\n",
    "import seaborn as sns\n",
    "\n",
    "cm = confusion_matrix(y_val,y_pred) \n",
    "\n",
    "\n",
    "sns.heatmap(cm , annot=True ,fmt='d')\n",
    "plt.xlabel(\"preficted Labels\")\n",
    "plt.ylabel(\"True Lables\")"
   ]
  },
  {
   "cell_type": "code",
   "execution_count": 125,
   "metadata": {},
   "outputs": [
    {
     "name": "stdout",
     "output_type": "stream",
     "text": [
      "Original dataset shape: Counter({0: 1760, 2: 109, 1: 46})\n",
      "Resampled dataset shape: Counter({0: 1760, 2: 1760, 1: 1760})\n",
      "Best Hyperparameters: {'ccp_alpha': 0, 'criterion': 'entropy', 'max_depth': 15, 'min_samples_leaf': 2}\n",
      "Train F1: 0.9920226852248695\n",
      "Train Accuracy: 0.9921671018276762\n",
      "Test F1: 0.9585798816568047\n",
      "Test recission: 0.9585798816568047\n",
      "Test Accuracy: 0.9585798816568047\n",
      "Test Recall: 0.9585798816568047\n"
     ]
    }
   ],
   "source": [
    "from sklearn.tree import DecisionTreeClassifier\n",
    "from sklearn.model_selection import train_test_split\n",
    "from sklearn.preprocessing import StandardScaler\n",
    "from sklearn.model_selection import cross_validate\n",
    "from imblearn.over_sampling import SMOTE\n",
    "from sklearn.metrics import f1_score,precision_score,accuracy_score,recall_score\n",
    "from sklearn.model_selection import GridSearchCV\n",
    "from pprint import pprint\n",
    "from collections import Counter\n",
    "\n",
    "X=features_train\n",
    "y=target_train.OS\n",
    "\n",
    "\n",
    "X_train,X_val,y_train,y_val=train_test_split(X,y,test_size=0.15,random_state=42)\n",
    "\n",
    "sc=StandardScaler()\n",
    "\n",
    "X_train_scaled=sc.fit_transform(X_train)\n",
    "X_val_scaled=sc.transform(X_val)\n",
    "\n",
    "sm=SMOTE(random_state=42)\n",
    "\n",
    "X_train_resampled, y_train_resampled=sm.fit_resample(X_train_scaled,y_train)\n",
    "\n",
    "print('Original dataset shape:', Counter(y_train))\n",
    "print('Resampled dataset shape:', Counter(y_train_resampled))\n",
    "\n",
    "params={\n",
    "         'criterion':['gini','entropy','log_loss'],\n",
    "        'max_depth':[3,5,7,10,12,15],\n",
    "        'min_samples_leaf':[1,2,3,4],\n",
    "        'ccp_alpha':[0,0.01,0.1,0.5,1]\n",
    "}\n",
    "\n",
    "\n",
    "cls=DecisionTreeClassifier(random_state=42)\n",
    "\n",
    "\n",
    "grid_search=GridSearchCV(cls,params,cv=5,scoring='f1_weighted')\n",
    "grid_search.fit(X_train_resampled,y_train_resampled)\n",
    "\n",
    "print('Best Hyperparameters:',grid_search.best_params_)\n",
    "\n",
    "y_pred=grid_search.best_estimator_.predict(X_train_scaled)\n",
    "print('Train F1:',f1_score(y_train,y_pred, average='weighted'))\n",
    "print('Train Accuracy:',accuracy_score(y_train,y_pred))\n",
    "\n",
    "y_pred=grid_search.best_estimator_.predict(X_val_scaled)\n",
    "print('Test F1:',f1_score(y_val,y_pred,average='weighted'))\n",
    "print('Test recission:',precision_score(y_val,y_pred,average='weighted'))\n",
    "print('Test Accuracy:',accuracy_score(y_val,y_pred))\n",
    "print('Test Recall:',recall_score(y_val,y_pred,average='weighted'))\n"
   ]
  },
  {
   "cell_type": "code",
   "execution_count": 126,
   "metadata": {},
   "outputs": [
    {
     "data": {
      "text/plain": [
       "Text(50.722222222222214, 0.5, 'True Lables')"
      ]
     },
     "execution_count": 126,
     "metadata": {},
     "output_type": "execute_result"
    },
    {
     "data": {
      "image/png": "[encoded data removed]",
      "text/plain": [
       "<Figure size 640x480 with 2 Axes>"
      ]
     },
     "metadata": {},
     "output_type": "display_data"
    }
   ],
   "source": [
    "# Confusion Matrix\n",
    "from sklearn.metrics import confusion_matrix\n",
    "import matplotlib.pyplot as plt\n",
    "import seaborn as sns\n",
    "\n",
    "cm = confusion_matrix(y_val,y_pred) \n",
    "\n",
    "\n",
    "sns.heatmap(cm , annot=True ,fmt='d')\n",
    "plt.xlabel(\"preficted Labels\")\n",
    "plt.ylabel(\"True Lables\")"
   ]
  },
  {
   "cell_type": "code",
   "execution_count": 133,
   "metadata": {},
   "outputs": [
    {
     "name": "stdout",
     "output_type": "stream",
     "text": [
      "Original dataset shape: Counter({0: 1760, 2: 109, 1: 46})\n",
      "Resampled dataset shape: Counter({0: 1760, 2: 1760, 1: 1760})\n",
      "{'fit_time': array([0.06995511, 0.06145477, 0.0370121 , 0.03694797, 0.03538418]),\n",
      " 'score_time': array([0.00235796, 0.00243211, 0.00141001, 0.00132513, 0.00131106]),\n",
      " 'test_score': array([0.95358138, 0.98013703, 0.97529617, 0.97912396, 0.9848305 ]),\n",
      " 'train_score': array([0.99668663, 0.99431955, 0.99550178, 0.99502825, 0.99432111])}\n",
      "Train Accuracy: 0.9920226852248695\n",
      "Train F1: 0.9920226852248695\n",
      "Test Accuracy: 0.9585798816568047\n",
      "Test F1: 0.9585798816568047\n",
      "Test recission: 0.9585798816568047\n",
      "Test Recall: 0.9585798816568047\n",
      "Feature Importances: [0.01663914 0.02106385 0.05073159 0.00946526 0.01623626 0.1103449\n",
      " 0.22280921 0.0553814  0.0067454  0.01926502 0.00548266 0.03270127\n",
      " 0.01531269 0.20451176 0.01048741 0.09415685 0.07939368 0.02927165]\n"
     ]
    }
   ],
   "source": [
    "from sklearn.tree import DecisionTreeClassifier\n",
    "from sklearn.model_selection import train_test_split\n",
    "from sklearn.preprocessing import StandardScaler\n",
    "from sklearn.model_selection import cross_validate\n",
    "from imblearn.over_sampling import SMOTE\n",
    "from sklearn.metrics import f1_score,precision_score,accuracy_score,recall_score\n",
    "from pprint import pprint\n",
    "from collections import Counter\n",
    "\n",
    "X=features_train\n",
    "y=target_train.OS\n",
    "\n",
    "\n",
    "X_train,X_val,y_train,y_val=train_test_split(X,y,test_size=0.15,random_state=42)\n",
    "\n",
    "sc=StandardScaler()\n",
    "\n",
    "X_train_scaled=sc.fit_transform(X_train)\n",
    "X_val_scaled=sc.transform(X_val)\n",
    "\n",
    "sm=SMOTE(random_state=42)\n",
    "\n",
    "X_train_resampled, y_train_resampled=sm.fit_resample(X_train_scaled,y_train)\n",
    "\n",
    "print('Original dataset shape:', Counter(y_train))\n",
    "print('Resampled dataset shape:', Counter(y_train_resampled))\n",
    "\n",
    "\n",
    "cls=DecisionTreeClassifier(random_state=42,criterion='entropy',min_samples_leaf=2,max_depth=15,ccp_alpha=0)\n",
    "\n",
    "\n",
    "\n",
    "cls.fit(X_train_resampled,y_train_resampled)\n",
    "\n",
    "result=cross_validate(cls,X_train_resampled,y_train_resampled,cv=5,return_train_score=True,scoring='f1_weighted')\n",
    "pprint(result)\n",
    "\n",
    "y_pred=cls.predict(X_train_scaled)\n",
    "print('Train Accuracy:',f1_score(y_train,y_pred, average='weighted'))\n",
    "print('Train F1:',f1_score(y_train,y_pred,average='weighted'))\n",
    "\n",
    "y_pred=cls.predict(X_val_scaled)\n",
    "print('Test Accuracy:',accuracy_score(y_val,y_pred))\n",
    "print('Test F1:',f1_score(y_val,y_pred,average='weighted'))\n",
    "print('Test recission:',precision_score(y_val,y_pred,average='weighted'))\n",
    "print('Test Recall:',recall_score(y_val,y_pred,average='weighted'))\n",
    "\n",
    "\n",
    "print('Feature Importances:',cls.feature_importances_)"
   ]
  },
  {
   "cell_type": "code",
   "execution_count": 134,
   "metadata": {},
   "outputs": [
    {
     "data": {
      "text/plain": [
       "Text(50.722222222222214, 0.5, 'True Lables')"
      ]
     },
     "execution_count": 134,
     "metadata": {},
     "output_type": "execute_result"
    },
    {
     "data": {
      "image/png": "[encoded data removed]",
      "text/plain": [
       "<Figure size 640x480 with 2 Axes>"
      ]
     },
     "metadata": {},
     "output_type": "display_data"
    }
   ],
   "source": [
    "# Confusion Matrix\n",
    "from sklearn.metrics import confusion_matrix\n",
    "import matplotlib.pyplot as plt\n",
    "import seaborn as sns\n",
    "\n",
    "cm = confusion_matrix(y_val,y_pred) \n",
    "\n",
    "\n",
    "sns.heatmap(cm , annot=True ,fmt='d')\n",
    "plt.xlabel(\"preficted Labels\")\n",
    "plt.ylabel(\"True Lables\")"
   ]
  },
  {
   "cell_type": "code",
   "execution_count": 141,
   "metadata": {},
   "outputs": [
    {
     "data": {
      "text/plain": [
       "<Axes: >"
      ]
     },
     "execution_count": 141,
     "metadata": {},
     "output_type": "execute_result"
    },
    {
     "data": {
      "image/png": "[encoded data removed]",
      "text/plain": [
       "<Figure size 640x480 with 1 Axes>"
      ]
     },
     "metadata": {},
     "output_type": "display_data"
    }
   ],
   "source": [
    "import matplotlib.pyplot as plt\n",
    "pd.Series(cls.feature_importances_,index=X.columns).plot(kind='barh')"
   ]
  },
  {
   "cell_type": "markdown",
   "metadata": {},
   "source": [
    "Gradiant Boosting Classifier"
   ]
  },
  {
   "cell_type": "code",
   "execution_count": 144,
   "metadata": {},
   "outputs": [
    {
     "name": "stdout",
     "output_type": "stream",
     "text": [
      "Original dataset shape: Counter({0: 1760, 2: 109, 1: 46})\n",
      "Resampled dataset shape: Counter({0: 1760, 2: 1760, 1: 1760})\n",
      "Train F1 1.0\n",
      "Train accuracy 1.0\n",
      "Test F1: 0.9720584100625455\n",
      "Test recission: 0.9714914752662153\n",
      "Test Accuracy: 0.9733727810650887\n",
      "Test Recall: 0.9733727810650887\n"
     ]
    }
   ],
   "source": [
    "from xgboost import XGBClassifier\n",
    "from sklearn.model_selection import train_test_split\n",
    "from sklearn.preprocessing import StandardScaler\n",
    "from imblearn.over_sampling import SMOTE\n",
    "from sklearn.metrics import f1_score,precision_score,accuracy_score,recall_score\n",
    "from pprint import pprint\n",
    "from collections import Counter\n",
    "\n",
    "X=features_train\n",
    "y=target_train.OS\n",
    "\n",
    "\n",
    "X_train,X_val,y_train,y_val=train_test_split(X,y,test_size=0.15,random_state=42)\n",
    "\n",
    "sc=StandardScaler()\n",
    "\n",
    "X_train_scaled=sc.fit_transform(X_train)\n",
    "X_val_scaled=sc.transform(X_val)\n",
    "\n",
    "sm=SMOTE(random_state=42)\n",
    "\n",
    "X_train_resampled, y_train_resampled=sm.fit_resample(X_train_scaled,y_train)\n",
    "\n",
    "print('Original dataset shape:', Counter(y_train))\n",
    "print('Resampled dataset shape:', Counter(y_train_resampled))\n",
    "\n",
    "\n",
    "xgbc=XGBClassifier(objective='multi:softmax',max_depth=5,seed=42)\n",
    "\n",
    "\n",
    "\n",
    "xgbc.fit(X_train_resampled,y_train_resampled)\n",
    "\n",
    "\n",
    "y_pred=xgbc.predict(X_train_scaled)\n",
    "print('Train F1',f1_score(y_train,y_pred, average='weighted'))\n",
    "print('Train accuracy',accuracy_score(y_train,y_pred))\n",
    "\n",
    "y_pred=xgbc.predict(X_val_scaled)\n",
    "print('Test F1:',f1_score(y_val,y_pred,average='weighted'))\n",
    "print('Test recission:',precision_score(y_val,y_pred,average='weighted'))\n",
    "print('Test Accuracy:',accuracy_score(y_val,y_pred))\n",
    "print('Test Recall:',recall_score(y_val,y_pred,average='weighted'))\n"
   ]
  },
  {
   "cell_type": "code",
   "execution_count": 145,
   "metadata": {},
   "outputs": [
    {
     "data": {
      "text/plain": [
       "Text(50.722222222222214, 0.5, 'True Lables')"
      ]
     },
     "execution_count": 145,
     "metadata": {},
     "output_type": "execute_result"
    },
    {
     "data": {
      "image/png": "[encoded data removed]",
      "text/plain": [
       "<Figure size 640x480 with 2 Axes>"
      ]
     },
     "metadata": {},
     "output_type": "display_data"
    }
   ],
   "source": [
    "# Confusion Matrix\n",
    "from sklearn.metrics import confusion_matrix\n",
    "import matplotlib.pyplot as plt\n",
    "import seaborn as sns\n",
    "\n",
    "cm = confusion_matrix(y_val,y_pred) \n",
    "\n",
    "\n",
    "sns.heatmap(cm , annot=True ,fmt='d')\n",
    "plt.xlabel(\"preficted Labels\")\n",
    "plt.ylabel(\"True Lables\")"
   ]
  },
  {
   "cell_type": "code",
   "execution_count": 147,
   "metadata": {},
   "outputs": [
    {
     "name": "stdout",
     "output_type": "stream",
     "text": [
      "Original dataset shape: Counter({0: 1760, 2: 109, 1: 46})\n",
      "Resampled dataset shape: Counter({0: 1760, 2: 1760, 1: 1760})\n",
      "Best Hyperparameters: {'reg_lambda': 2, 'reg_alpha': 0.3, 'n_estimators': 200, 'min_child_weight': 12, 'max_depth': 11, 'learning_rate': 0.1, 'gamma': 0.3}\n",
      "Train F1: 0.9900206188225164\n",
      "Train Accuracy: 0.9900783289817232\n",
      "Test F1: 0.9727186505222907\n",
      "Test recission: 0.9725741378252903\n",
      "Test Accuracy: 0.9733727810650887\n",
      "Test Recall: 0.9733727810650887\n"
     ]
    }
   ],
   "source": [
    "from xgboost import XGBClassifier\n",
    "from sklearn.model_selection import train_test_split\n",
    "from sklearn.model_selection import RandomizedSearchCV\n",
    "from sklearn.preprocessing import StandardScaler\n",
    "from imblearn.over_sampling import SMOTE\n",
    "from sklearn.metrics import f1_score,precision_score,accuracy_score,recall_score\n",
    "from collections import Counter\n",
    "\n",
    "X=features_train\n",
    "y=target_train.OS\n",
    "\n",
    "\n",
    "X_train,X_val,y_train,y_val=train_test_split(X,y,test_size=0.15,random_state=42)\n",
    "\n",
    "sc=StandardScaler()\n",
    "\n",
    "X_train_scaled=sc.fit_transform(X_train)\n",
    "X_test_scaled=sc.transform(X_val)\n",
    "\n",
    "sm=SMOTE(random_state=42)\n",
    "\n",
    "X_train_resampled, y_train_resampled=sm.fit_resample(X_train_scaled,y_train)\n",
    "\n",
    "print('Original dataset shape:', Counter(y_train))\n",
    "print('Resampled dataset shape:', Counter(y_train_resampled))\n",
    "\n",
    "params={     \n",
    "            'n_estimators':[50,100,200,300,500,700,1000],\n",
    "           'min_child_weight':[1,2,3,4,5,6,7,8,9,10,11,12,13,14,15],\n",
    "           'gamma':[0,0.1,0.2,0.3,0.4,0.5,0.6,0.7,0.8,0.9],\n",
    "           'max_depth':[3,4,5,6,7,8,9,10,11,12,13,14,15],\n",
    "           'learning_rate':[0.01,0.05,0.1,0.2,0.3,0.4,0.5,0.6,0.7,0.8],\n",
    "           'reg_alpha':[0,0.1,0.3,0.5,0.7,0.9,1,1.3,1.5],\n",
    "           'reg_lambda':[0,0.3,0.5,0.7,1,1.5,2,2.5,3]\n",
    "\n",
    "}\n",
    "\n",
    "\n",
    "xgbc=XGBClassifier(objective='multi:softmax',eval_metric='auc',seed=42)\n",
    "\n",
    "\n",
    "random_search=RandomizedSearchCV(xgbc,params,cv=5,scoring='f1_weighted')\n",
    "random_search.fit(X_train_resampled,y_train_resampled)\n",
    "\n",
    "print('Best Hyperparameters:',random_search.best_params_)\n",
    "\n",
    "y_pred=random_search.best_estimator_.predict(X_train_scaled)\n",
    "print('Train F1:',f1_score(y_train,y_pred, average='weighted'))\n",
    "print('Train Accuracy:',accuracy_score(y_train,y_pred))\n",
    "\n",
    "y_pred=random_search.best_estimator_.predict(X_val_scaled)\n",
    "print('Test F1:',f1_score(y_val,y_pred,average='weighted'))\n",
    "print('Test recission:',precision_score(y_val,y_pred,average='weighted'))\n",
    "print('Test Accuracy:',accuracy_score(y_val,y_pred))\n",
    "print('Test Recall:',recall_score(y_val,y_pred,average='weighted'))\n"
   ]
  },
  {
   "cell_type": "code",
   "execution_count": 148,
   "metadata": {},
   "outputs": [
    {
     "data": {
      "text/plain": [
       "Text(50.722222222222214, 0.5, 'True Lables')"
      ]
     },
     "execution_count": 148,
     "metadata": {},
     "output_type": "execute_result"
    },
    {
     "data": {
      "image/png": "[encoded data removed]",
      "text/plain": [
       "<Figure size 640x480 with 2 Axes>"
      ]
     },
     "metadata": {},
     "output_type": "display_data"
    }
   ],
   "source": [
    "# Confusion Matrix\n",
    "from sklearn.metrics import confusion_matrix\n",
    "import matplotlib.pyplot as plt\n",
    "import seaborn as sns\n",
    "\n",
    "cm = confusion_matrix(y_val,y_pred) \n",
    "\n",
    "\n",
    "\n",
    "sns.heatmap(cm , annot=True ,fmt='d')\n",
    "plt.xlabel(\"preficted Labels\")\n",
    "plt.ylabel(\"True Lables\")"
   ]
  },
  {
   "cell_type": "code",
   "execution_count": 150,
   "metadata": {},
   "outputs": [
    {
     "name": "stdout",
     "output_type": "stream",
     "text": [
      "Original dataset shape: Counter({0: 1760, 2: 109, 1: 46})\n",
      "Resampled dataset shape: Counter({0: 1760, 2: 1760, 1: 1760})\n",
      "Train F1 0.9900206188225164\n",
      "Train accuracy 0.9900783289817232\n",
      "Test F1: 0.9727186505222907\n",
      "Test recission: 0.9725741378252903\n",
      "Test Accuracy: 0.9733727810650887\n",
      "Test Recall: 0.9733727810650887\n",
      "Feature Importances: [0.05216539 0.08896326 0.0305734  0.01501521 0.01835534 0.05687745\n",
      " 0.0834913  0.09164114 0.02493983 0.02119154 0.01647182 0.0635637\n",
      " 0.00940401 0.08473966 0.07251713 0.18175343 0.05119087 0.03714553]\n"
     ]
    }
   ],
   "source": [
    "from xgboost import XGBClassifier\n",
    "from sklearn.model_selection import train_test_split\n",
    "from sklearn.preprocessing import StandardScaler\n",
    "from sklearn.model_selection import cross_validate\n",
    "from imblearn.over_sampling import SMOTE\n",
    "from sklearn.metrics import f1_score,precision_score,accuracy_score,recall_score,roc_auc_score\n",
    "from pprint import pprint\n",
    "from collections import Counter\n",
    "\n",
    "X=features_train\n",
    "y=target_train.OS\n",
    "\n",
    "\n",
    "X_train,X_val,y_train,y_val=train_test_split(X,y,test_size=0.15,random_state=42)\n",
    "\n",
    "sc=StandardScaler()\n",
    "\n",
    "X_train_scaled=sc.fit_transform(X_train)\n",
    "X_val_scaled=sc.transform(X_val)\n",
    "\n",
    "sm=SMOTE(random_state=42)\n",
    "\n",
    "X_train_resampled, y_train_resampled=sm.fit_resample(X_train_scaled,y_train)\n",
    "\n",
    "print('Original dataset shape:', Counter(y_train))\n",
    "print('Resampled dataset shape:', Counter(y_train_resampled))\n",
    "\n",
    "\n",
    "xgbc=XGBClassifier(objective='multi:softmax',n_estimators=200,learning_rate=0.1,gamma=0.3,min_child_weight=12,max_depth=11,reg_alpha=0.3,reg_lambda=2,seed=42)\n",
    "\n",
    "\n",
    "xgbc.fit(X_train_resampled,y_train_resampled)\n",
    "\n",
    "\n",
    "y_pred=xgbc.predict(X_train_scaled)\n",
    "print('Train F1',f1_score(y_train,y_pred, average='weighted'))\n",
    "print('Train accuracy',accuracy_score(y_train,y_pred))\n",
    "\n",
    "y_pred=xgbc.predict(X_val_scaled)\n",
    "print('Test F1:',f1_score(y_val,y_pred,average='weighted'))\n",
    "print('Test recission:',precision_score(y_val,y_pred,average='weighted'))\n",
    "print('Test Accuracy:',accuracy_score(y_val,y_pred))\n",
    "print('Test Recall:',recall_score(y_val,y_pred,average='weighted'))\n",
    "\n",
    "print('Feature Importances:',xgbc.feature_importances_)"
   ]
  },
  {
   "cell_type": "code",
   "execution_count": 151,
   "metadata": {},
   "outputs": [
    {
     "data": {
      "text/plain": [
       "<Axes: >"
      ]
     },
     "execution_count": 151,
     "metadata": {},
     "output_type": "execute_result"
    },
    {
     "data": {
      "image/png": "[encoded data removed]",
      "text/plain": [
       "<Figure size 640x480 with 1 Axes>"
      ]
     },
     "metadata": {},
     "output_type": "display_data"
    }
   ],
   "source": [
    "import matplotlib.pyplot as plt\n",
    "pd.Series(xgbc.feature_importances_,index=X.columns).plot(kind='barh')"
   ]
  },
  {
   "cell_type": "markdown",
   "metadata": {},
   "source": [
    "Support Vector Classification"
   ]
  },
  {
   "cell_type": "code",
   "execution_count": 158,
   "metadata": {},
   "outputs": [
    {
     "name": "stdout",
     "output_type": "stream",
     "text": [
      "Original dataset shape: Counter({0: 1760, 2: 109, 1: 46})\n",
      "Resampled dataset shape: Counter({0: 1760, 2: 1760, 1: 1760})\n",
      "Best Hyperparameters: {'kernel': 'rbf', 'gamma': 1, 'degree': 5, 'C': 10000}\n",
      "Train F1: 1.0\n",
      "Train Accuracy: 1.0\n",
      "Test F1: 0.9481375341354832\n",
      "Test recission: 0.949957734573119\n",
      "Test Accuracy: 0.9467455621301775\n",
      "Test Recall: 0.9467455621301775\n"
     ]
    }
   ],
   "source": [
    "from sklearn.svm import SVC\n",
    "from sklearn.model_selection import train_test_split\n",
    "from sklearn.preprocessing import StandardScaler\n",
    "from imblearn.over_sampling import SMOTE\n",
    "from sklearn.metrics import f1_score,precision_score,accuracy_score,recall_score\n",
    "from sklearn.model_selection import RandomizedSearchCV\n",
    "from pprint import pprint\n",
    "from collections import Counter\n",
    "\n",
    "X=features_train\n",
    "y=target_train.OS\n",
    "\n",
    "\n",
    "X_train,X_val,y_train,y_val=train_test_split(X,y,test_size=0.15,random_state=42)\n",
    "\n",
    "sc=StandardScaler()\n",
    "\n",
    "X_train_scaled=sc.fit_transform(X_train)\n",
    "X_val_scaled=sc.transform(X_val)\n",
    "\n",
    "sm=SMOTE(random_state=42)\n",
    "\n",
    "X_train_resampled, y_train_resampled=sm.fit_resample(X_train_scaled,y_train)\n",
    "\n",
    "print('Original dataset shape:', Counter(y_train))\n",
    "print('Resampled dataset shape:', Counter(y_train_resampled))\n",
    "\n",
    "params={\n",
    "             'kernel':['linear','poly','rbf'],\n",
    "              'gamma': [1, 0.1, 0.01, 0.001],\n",
    "            'C':[0.01,0.1,1,10,100,1000,5000,10000],\n",
    "            'degree':[2,3,4,5]\n",
    "}\n",
    "\n",
    "\n",
    "svc=SVC(random_state=42)\n",
    "\n",
    "\n",
    "random_search=RandomizedSearchCV(svc,params,cv=5,refit = True,scoring='f1_weighted')\n",
    "random_search.fit(X_train_resampled,y_train_resampled)\n",
    "\n",
    "print('Best Hyperparameters:',random_search.best_params_)\n",
    "\n",
    "y_pred=random_search.best_estimator_.predict(X_train_scaled)\n",
    "print('Train F1:',f1_score(y_train,y_pred, average='weighted'))\n",
    "print('Train Accuracy:',accuracy_score(y_train,y_pred))\n",
    "\n",
    "y_pred=random_search.best_estimator_.predict(X_val_scaled)\n",
    "print('Test F1:',f1_score(y_val,y_pred,average='weighted'))\n",
    "print('Test recission:',precision_score(y_val,y_pred,average='weighted'))\n",
    "print('Test Accuracy:',accuracy_score(y_val,y_pred))\n",
    "print('Test Recall:',recall_score(y_val,y_pred,average='weighted'))"
   ]
  },
  {
   "cell_type": "code",
   "execution_count": 159,
   "metadata": {},
   "outputs": [
    {
     "data": {
      "text/plain": [
       "Text(50.722222222222214, 0.5, 'True Lables')"
      ]
     },
     "execution_count": 159,
     "metadata": {},
     "output_type": "execute_result"
    },
    {
     "data": {
      "image/png": "[encoded data removed]",
      "text/plain": [
       "<Figure size 640x480 with 2 Axes>"
      ]
     },
     "metadata": {},
     "output_type": "display_data"
    }
   ],
   "source": [
    "# Confusion Matrix\n",
    "from sklearn.metrics import confusion_matrix\n",
    "import matplotlib.pyplot as plt\n",
    "import seaborn as sns\n",
    "\n",
    "cm = confusion_matrix(y_val,y_pred) \n",
    "\n",
    "\n",
    "sns.heatmap(cm , annot=True ,fmt='d')\n",
    "plt.xlabel(\"preficted Labels\")\n",
    "plt.ylabel(\"True Lables\")"
   ]
  },
  {
   "cell_type": "markdown",
   "metadata": {},
   "source": [
    "Random Forest Classifier"
   ]
  },
  {
   "cell_type": "code",
   "execution_count": 160,
   "metadata": {},
   "outputs": [
    {
     "name": "stdout",
     "output_type": "stream",
     "text": [
      "Original dataset shape: Counter({0: 1760, 2: 109, 1: 46})\n",
      "Resampled dataset shape: Counter({0: 1760, 2: 1760, 1: 1760})\n",
      "Best Hyperparameters: {'n_estimators': 100, 'max_depth': 15, 'criterion': 'entropy'}\n",
      "Train F1: 1.0\n",
      "Train Accuracy: 1.0\n",
      "Test F1: 0.9782676522708685\n",
      "Test recission: 0.9780635605977374\n",
      "Test Accuracy: 0.9792899408284024\n",
      "Test Recall: 0.9792899408284024\n"
     ]
    }
   ],
   "source": [
    "from sklearn.ensemble import RandomForestClassifier\n",
    "from sklearn.model_selection import train_test_split\n",
    "from sklearn.preprocessing import StandardScaler\n",
    "from imblearn.over_sampling import SMOTE\n",
    "from sklearn.metrics import f1_score,precision_score,accuracy_score,recall_score\n",
    "from sklearn.model_selection import RandomizedSearchCV\n",
    "from collections import Counter\n",
    "\n",
    "X=features_train\n",
    "y=target_train.OS\n",
    "\n",
    "\n",
    "X_train,X_val,y_train,y_val=train_test_split(X,y,test_size=0.15,random_state=42)\n",
    "\n",
    "sc=StandardScaler()\n",
    "\n",
    "X_train_scaled=sc.fit_transform(X_train)\n",
    "X_val_scaled=sc.transform(X_val)\n",
    "\n",
    "sm=SMOTE(random_state=42)\n",
    "\n",
    "X_train_resampled, y_train_resampled=sm.fit_resample(X_train_scaled,y_train)\n",
    "\n",
    "print('Original dataset shape:', Counter(y_train))\n",
    "print('Resampled dataset shape:', Counter(y_train_resampled))\n",
    "\n",
    "params={\n",
    "             'n_estimators':[10,50,100,200,300],\n",
    "              'criterion':['gini','entropy','log_loss'],\n",
    "              'max_depth':[3,5,7,10,15]\n",
    "}\n",
    "\n",
    "\n",
    "rfc=RandomForestClassifier(random_state=42)\n",
    "\n",
    "\n",
    "random_search=RandomizedSearchCV(rfc,params,cv=5,scoring='f1_weighted')\n",
    "random_search.fit(X_train_resampled,y_train_resampled)\n",
    "\n",
    "print('Best Hyperparameters:',random_search.best_params_)\n",
    "\n",
    "y_pred=random_search.best_estimator_.predict(X_train_scaled)\n",
    "print('Train F1:',f1_score(y_train,y_pred, average='weighted'))\n",
    "print('Train Accuracy:',accuracy_score(y_train,y_pred))\n",
    "\n",
    "y_pred=random_search.best_estimator_.predict(X_val_scaled)\n",
    "print('Test F1:',f1_score(y_val,y_pred,average='weighted'))\n",
    "print('Test recission:',precision_score(y_val,y_pred,average='weighted'))\n",
    "print('Test Accuracy:',accuracy_score(y_val,y_pred))\n",
    "print('Test Recall:',recall_score(y_val,y_pred,average='weighted'))\n",
    "\n",
    "\n"
   ]
  },
  {
   "cell_type": "code",
   "execution_count": 161,
   "metadata": {},
   "outputs": [
    {
     "data": {
      "text/plain": [
       "Text(50.722222222222214, 0.5, 'True Lables')"
      ]
     },
     "execution_count": 161,
     "metadata": {},
     "output_type": "execute_result"
    },
    {
     "data": {
      "image/png": "[encoded data removed]",
      "text/plain": [
       "<Figure size 640x480 with 2 Axes>"
      ]
     },
     "metadata": {},
     "output_type": "display_data"
    }
   ],
   "source": [
    "# Confusion Matrix\n",
    "from sklearn.metrics import confusion_matrix\n",
    "import matplotlib.pyplot as plt\n",
    "import seaborn as sns\n",
    "\n",
    "cm = confusion_matrix(y_val,y_pred) \n",
    "\n",
    "\n",
    "sns.heatmap(cm , annot=True ,fmt='d')\n",
    "plt.xlabel(\"preficted Labels\")\n",
    "plt.ylabel(\"True Lables\")"
   ]
  },
  {
   "cell_type": "code",
   "execution_count": 172,
   "metadata": {},
   "outputs": [
    {
     "name": "stdout",
     "output_type": "stream",
     "text": [
      "Original dataset shape: Counter({0: 1760, 2: 109, 1: 46})\n",
      "Resampled dataset shape: Counter({0: 1760, 2: 1760, 1: 1760})\n",
      "Train Accuracy: 1.0\n",
      "Train F1: 1.0\n",
      "Test Accuracy: 0.9792899408284024\n",
      "Test F1: 0.9782676522708685\n",
      "Test recission: 0.9780635605977374\n",
      "Test Recall: 0.9792899408284024\n",
      "Feature Importances: [0.01618983 0.01396437 0.0562723  0.02516236 0.04080272 0.03908726\n",
      " 0.10305691 0.10621813 0.04373365 0.04867459 0.03447488 0.05790152\n",
      " 0.0266722  0.1289739  0.05536702 0.0740446  0.0550751  0.07432865]\n"
     ]
    }
   ],
   "source": [
    "from sklearn.ensemble import RandomForestClassifier\n",
    "from sklearn.model_selection import train_test_split\n",
    "from sklearn.preprocessing import StandardScaler\n",
    "from imblearn.over_sampling import SMOTE\n",
    "from sklearn.metrics import f1_score,precision_score,accuracy_score,recall_score\n",
    "from collections import Counter\n",
    "\n",
    "X=features_train\n",
    "y=target_train.OS\n",
    "\n",
    "\n",
    "X_train,X_val,y_train,y_val=train_test_split(X,y,test_size=0.15,random_state=42)\n",
    "\n",
    "sc=StandardScaler()\n",
    "\n",
    "X_train_scaled=sc.fit_transform(X_train)\n",
    "X_val_scaled=sc.transform(X_val)\n",
    "\n",
    "sm=SMOTE(random_state=42)\n",
    "\n",
    "X_train_resampled, y_train_resampled=sm.fit_resample(X_train_scaled,y_train)\n",
    "\n",
    "print('Original dataset shape:', Counter(y_train))\n",
    "print('Resampled dataset shape:', Counter(y_train_resampled))\n",
    "\n",
    "\n",
    "rfc=RandomForestClassifier(criterion='entropy',max_depth=15,n_estimators=100,random_state=42)\n",
    "\n",
    "\n",
    "\n",
    "rfc.fit(X_train_resampled,y_train_resampled)\n",
    "\n",
    "\n",
    "y_pred=rfc.predict(X_train_scaled)\n",
    "print('Train Accuracy:',f1_score(y_train,y_pred, average='weighted'))\n",
    "print('Train F1:',f1_score(y_train,y_pred,average='weighted'))\n",
    "\n",
    "y_pred=rfc.predict(X_val_scaled)\n",
    "print('Test Accuracy:',accuracy_score(y_val,y_pred))\n",
    "print('Test F1:',f1_score(y_val,y_pred,average='weighted'))\n",
    "print('Test recission:',precision_score(y_val,y_pred,average='weighted'))\n",
    "print('Test Recall:',recall_score(y_val,y_pred,average='weighted'))\n",
    "\n",
    "\n",
    "print('Feature Importances:',rfc.feature_importances_)"
   ]
  },
  {
   "cell_type": "code",
   "execution_count": 173,
   "metadata": {},
   "outputs": [
    {
     "data": {
      "text/plain": [
       "Text(50.722222222222214, 0.5, 'True Lables')"
      ]
     },
     "execution_count": 173,
     "metadata": {},
     "output_type": "execute_result"
    },
    {
     "data": {
      "image/png": "[encoded data removed]",
      "text/plain": [
       "<Figure size 640x480 with 2 Axes>"
      ]
     },
     "metadata": {},
     "output_type": "display_data"
    }
   ],
   "source": [
    "# Confusion Matrix\n",
    "from sklearn.metrics import confusion_matrix\n",
    "import matplotlib.pyplot as plt\n",
    "import seaborn as sns\n",
    "\n",
    "cm = confusion_matrix(y_val,y_pred) \n",
    "\n",
    "\n",
    "sns.heatmap(cm , annot=True ,fmt='d')\n",
    "plt.xlabel(\"preficted Labels\")\n",
    "plt.ylabel(\"True Lables\")"
   ]
  },
  {
   "cell_type": "code",
   "execution_count": 174,
   "metadata": {},
   "outputs": [
    {
     "data": {
      "text/plain": [
       "<Axes: >"
      ]
     },
     "execution_count": 174,
     "metadata": {},
     "output_type": "execute_result"
    },
    {
     "data": {
      "image/png": "[encoded data removed]",
      "text/plain": [
       "<Figure size 640x480 with 1 Axes>"
      ]
     },
     "metadata": {},
     "output_type": "display_data"
    }
   ],
   "source": [
    "import matplotlib.pyplot as plt\n",
    "pd.Series(rfc.feature_importances_,index=X.columns).plot(kind='barh')"
   ]
  },
  {
   "cell_type": "markdown",
   "metadata": {},
   "source": [
    "##Chossing model"
   ]
  },
  {
   "cell_type": "code",
   "execution_count": 175,
   "metadata": {},
   "outputs": [
    {
     "data": {
      "text/html": [
       "<style>#sk-container-id-2 {color: black;background-color: white;}#sk-container-id-2 pre{padding: 0;}#sk-container-id-2 div.sk-toggleable {background-color: white;}#sk-container-id-2 label.sk-toggleable__label {cursor: pointer;display: block;width: 100%;margin-bottom: 0;padding: 0.3em;box-sizing: border-box;text-align: center;}#sk-container-id-2 label.sk-toggleable__label-arrow:before {content: \"▸\";float: left;margin-right: 0.25em;color: #696969;}#sk-container-id-2 label.sk-toggleable__label-arrow:hover:before {color: black;}#sk-container-id-2 div.sk-estimator:hover label.sk-toggleable__label-arrow:before {color: black;}#sk-container-id-2 div.sk-toggleable__content {max-height: 0;max-width: 0;overflow: hidden;text-align: left;background-color: #f0f8ff;}#sk-container-id-2 div.sk-toggleable__content pre {margin: 0.2em;color: black;border-radius: 0.25em;background-color: #f0f8ff;}#sk-container-id-2 input.sk-toggleable__control:checked~div.sk-toggleable__content {max-height: 200px;max-width: 100%;overflow: auto;}#sk-container-id-2 input.sk-toggleable__control:checked~label.sk-toggleable__label-arrow:before {content: \"▾\";}#sk-container-id-2 div.sk-estimator input.sk-toggleable__control:checked~label.sk-toggleable__label {background-color: #d4ebff;}#sk-container-id-2 div.sk-label input.sk-toggleable__control:checked~label.sk-toggleable__label {background-color: #d4ebff;}#sk-container-id-2 input.sk-hidden--visually {border: 0;clip: rect(1px 1px 1px 1px);clip: rect(1px, 1px, 1px, 1px);height: 1px;margin: -1px;overflow: hidden;padding: 0;position: absolute;width: 1px;}#sk-container-id-2 div.sk-estimator {font-family: monospace;background-color: #f0f8ff;border: 1px dotted black;border-radius: 0.25em;box-sizing: border-box;margin-bottom: 0.5em;}#sk-container-id-2 div.sk-estimator:hover {background-color: #d4ebff;}#sk-container-id-2 div.sk-parallel-item::after {content: \"\";width: 100%;border-bottom: 1px solid gray;flex-grow: 1;}#sk-container-id-2 div.sk-label:hover label.sk-toggleable__label {background-color: #d4ebff;}#sk-container-id-2 div.sk-serial::before {content: \"\";position: absolute;border-left: 1px solid gray;box-sizing: border-box;top: 0;bottom: 0;left: 50%;z-index: 0;}#sk-container-id-2 div.sk-serial {display: flex;flex-direction: column;align-items: center;background-color: white;padding-right: 0.2em;padding-left: 0.2em;position: relative;}#sk-container-id-2 div.sk-item {position: relative;z-index: 1;}#sk-container-id-2 div.sk-parallel {display: flex;align-items: stretch;justify-content: center;background-color: white;position: relative;}#sk-container-id-2 div.sk-item::before, #sk-container-id-2 div.sk-parallel-item::before {content: \"\";position: absolute;border-left: 1px solid gray;box-sizing: border-box;top: 0;bottom: 0;left: 50%;z-index: -1;}#sk-container-id-2 div.sk-parallel-item {display: flex;flex-direction: column;z-index: 1;position: relative;background-color: white;}#sk-container-id-2 div.sk-parallel-item:first-child::after {align-self: flex-end;width: 50%;}#sk-container-id-2 div.sk-parallel-item:last-child::after {align-self: flex-start;width: 50%;}#sk-container-id-2 div.sk-parallel-item:only-child::after {width: 0;}#sk-container-id-2 div.sk-dashed-wrapped {border: 1px dashed gray;margin: 0 0.4em 0.5em 0.4em;box-sizing: border-box;padding-bottom: 0.4em;background-color: white;}#sk-container-id-2 div.sk-label label {font-family: monospace;font-weight: bold;display: inline-block;line-height: 1.2em;}#sk-container-id-2 div.sk-label-container {text-align: center;}#sk-container-id-2 div.sk-container {/* jupyter's `normalize.less` sets `[hidden] { display: none; }` but bootstrap.min.css set `[hidden] { display: none !important; }` so we also need the `!important` here to be able to override the default hidden behavior on the sphinx rendered scikit-learn.org. See: https://github.com/scikit-learn/scikit-learn/issues/21755 */display: inline-block !important;position: relative;}#sk-container-id-2 div.sk-text-repr-fallback {display: none;}</style><div id=\"sk-container-id-2\" class=\"sk-top-container\"><div class=\"sk-text-repr-fallback\"><pre>RandomForestClassifier(criterion=&#x27;entropy&#x27;, max_depth=15, random_state=42)</pre><b>In a Jupyter environment, please rerun this cell to show the HTML representation or trust the notebook. <br />On GitHub, the HTML representation is unable to render, please try loading this page with nbviewer.org.</b></div><div class=\"sk-container\" hidden><div class=\"sk-item\"><div class=\"sk-estimator sk-toggleable\"><input class=\"sk-toggleable__control sk-hidden--visually\" id=\"sk-estimator-id-2\" type=\"checkbox\" checked><label for=\"sk-estimator-id-2\" class=\"sk-toggleable__label sk-toggleable__label-arrow\">RandomForestClassifier</label><div class=\"sk-toggleable__content\"><pre>RandomForestClassifier(criterion=&#x27;entropy&#x27;, max_depth=15, random_state=42)</pre></div></div></div></div></div>"
      ],
      "text/plain": [
       "RandomForestClassifier(criterion='entropy', max_depth=15, random_state=42)"
      ]
     },
     "execution_count": 175,
     "metadata": {},
     "output_type": "execute_result"
    }
   ],
   "source": [
    "from sklearn.ensemble import RandomForestClassifier\n",
    "from sklearn.preprocessing import StandardScaler\n",
    "from imblearn.over_sampling import SMOTE\n",
    "\n",
    "X_train=features_train\n",
    "y_train=target_train.OS\n",
    "\n",
    "\n",
    "\n",
    "sc=StandardScaler()\n",
    "\n",
    "X_train_scaled=sc.fit_transform(X_train)\n",
    "\n",
    "\n",
    "\n",
    "sm=SMOTE(random_state=42)\n",
    "\n",
    "X_train_resampled, y_train_resampled=sm.fit_resample(X_train_scaled,y_train)\n",
    "\n",
    "model=RandomForestClassifier(criterion='entropy',max_depth=15,n_estimators=100,random_state=42)\n",
    "\n",
    "model.fit(X_train_resampled,y_train_resampled)\n"
   ]
  },
  {
   "cell_type": "markdown",
   "metadata": {},
   "source": [
    "Test"
   ]
  },
  {
   "cell_type": "code",
   "execution_count": null,
   "metadata": {},
   "outputs": [],
   "source": [
    "\n",
    "target_test=target_test.apply(getOS)\n",
    "\n",
    "target_test=target_test.apply(OS_reDefine)\n",
    "\n",
    "from sklearn.preprocessing import LabelEncoder\n",
    "le=LabelEncoder()\n",
    "target_test=pd.DataFrame(le.fit_transform(target_test),columns=['OS'])\n",
    "\n",
    "\n",
    "\n",
    "features_test['4G']=features_test['4G'].map({True:1,False:0})\n",
    "features_test['5G']=features_test['5G'].map({True:1,False:0})\n",
    "\n",
    "\n",
    "features_test.Length=features_test.Length.apply(getLength)\n",
    "\n",
    "\n",
    "features_test.Width=features_test.Width.apply(getWidth)\n",
    "\n",
    "features_test.Diameter=features_test.Diameter.apply(getDiameter)\n",
    "\n",
    "features_test.SIM=features_test.SIM.map({'eSIM':0,'Mini-SIM':1,'Micro-SIM':2,'Nano-SIM':3})\n",
    "\n",
    "features_test.ratio=features_test.ratio.apply(getRatio)\n",
    "\n",
    "features_test.CPU=features_test.CPU.fillna(features_test.CPU.median())\n",
    "\n",
    "\n",
    "features_test.drop(['Unnamed: 0','brand','name','Status','WLAN','Colors','Sensors','Bluetooth','GPU','Loudspeaker',\n",
    "                 '3.5mm jack','Chipset','Network','Internal','Card slot','Display Type','brand','2G','3G'],axis=1,inplace=True)\n"
   ]
  },
  {
   "cell_type": "code",
   "execution_count": 177,
   "metadata": {},
   "outputs": [
    {
     "name": "stdout",
     "output_type": "stream",
     "text": [
      "<class 'pandas.core.frame.DataFrame'>\n",
      "Index: 398 entries, 2469 to 1942\n",
      "Data columns (total 18 columns):\n",
      " #   Column            Non-Null Count  Dtype  \n",
      "---  ------            --------------  -----  \n",
      " 0   4G                398 non-null    int64  \n",
      " 1   5G                398 non-null    int64  \n",
      " 2   Announced         398 non-null    float64\n",
      " 3   Weight            398 non-null    float64\n",
      " 4   Length            398 non-null    float64\n",
      " 5   Width             398 non-null    float64\n",
      " 6   Diameter          398 non-null    float64\n",
      " 7   SIM               398 non-null    int64  \n",
      " 8   Display Size      398 non-null    float64\n",
      " 9   ppi               398 non-null    float64\n",
      " 10  body ratio        398 non-null    float64\n",
      " 11  battery_capacity  398 non-null    float64\n",
      " 12  Price             398 non-null    float64\n",
      " 13  CPU               398 non-null    float64\n",
      " 14  ratio             398 non-null    float64\n",
      " 15  pixel             398 non-null    float64\n",
      " 16  RAM               398 non-null    float64\n",
      " 17  Storage           398 non-null    float64\n",
      "dtypes: float64(15), int64(3)\n",
      "memory usage: 59.1 KB\n"
     ]
    }
   ],
   "source": [
    "features_test.info()"
   ]
  },
  {
   "cell_type": "code",
   "execution_count": 168,
   "metadata": {},
   "outputs": [
    {
     "data": {
      "text/plain": [
       "OS\n",
       "0     373\n",
       "2      17\n",
       "1       8\n",
       "Name: count, dtype: int64"
      ]
     },
     "execution_count": 168,
     "metadata": {},
     "output_type": "execute_result"
    }
   ],
   "source": [
    "target_test.value_counts()"
   ]
  },
  {
   "cell_type": "code",
   "execution_count": 178,
   "metadata": {},
   "outputs": [
    {
     "name": "stdout",
     "output_type": "stream",
     "text": [
      "Test Accuracy: 0.9773869346733668\n",
      "Test F1: 0.9743455774371944\n",
      "Test recission: 0.9779197032281828\n",
      "Test Recall: 0.9773869346733668\n"
     ]
    }
   ],
   "source": [
    "from sklearn.ensemble import RandomForestClassifier\n",
    "from sklearn.preprocessing import StandardScaler\n",
    "from sklearn.metrics import f1_score,precision_score,accuracy_score,recall_score\n",
    "from pprint import pprint\n",
    "\n",
    "X_test=features_test\n",
    "y_test=target_test.OS\n",
    "\n",
    "X_test_scaled=sc.transform(X_test)\n",
    "\n",
    "\n",
    "y_pred=model.predict(X_test_scaled)\n",
    "print('Test Accuracy:',accuracy_score(y_test,y_pred))\n",
    "print('Test F1:',f1_score(y_test,y_pred,average='weighted'))\n",
    "print('Test recission:',precision_score(y_test,y_pred,average='weighted'))\n",
    "print('Test Recall:',recall_score(y_test,y_pred,average='weighted'))\n",
    "\n",
    "\n"
   ]
  },
  {
   "cell_type": "code",
   "execution_count": 179,
   "metadata": {},
   "outputs": [
    {
     "data": {
      "text/plain": [
       "Text(50.722222222222214, 0.5, 'True Lables')"
      ]
     },
     "execution_count": 179,
     "metadata": {},
     "output_type": "execute_result"
    },
    {
     "data": {
      "image/png": "[encoded data removed]",
      "text/plain": [
       "<Figure size 640x480 with 2 Axes>"
      ]
     },
     "metadata": {},
     "output_type": "display_data"
    }
   ],
   "source": [
    "# Confusion Matrix\n",
    "from sklearn.metrics import confusion_matrix\n",
    "import matplotlib.pyplot as plt\n",
    "import seaborn as sns\n",
    "\n",
    "cm = confusion_matrix(y_test,y_pred) \n",
    "\n",
    "\n",
    "sns.heatmap(cm , annot=True ,fmt='d')\n",
    "plt.xlabel(\"preficted Labels\")\n",
    "plt.ylabel(\"True Lables\")"
   ]
  },
  {
   "cell_type": "code",
   "execution_count": 196,
   "metadata": {},
   "outputs": [
    {
     "data": {
      "text/plain": [
       "0.8200000000000001"
      ]
     },
     "execution_count": 196,
     "metadata": {},
     "output_type": "execute_result"
    }
   ],
   "source": [
    "from sklearn.preprocessing import LabelBinarizer\n",
    "lb=LabelBinarizer()\n",
    "lb.fit(y_test)\n",
    "roc_auc_score(lb.transform(y_test),lb.transform(y_pred),average='weighted')"
   ]
  },
  {
   "cell_type": "code",
   "execution_count": null,
   "metadata": {},
   "outputs": [],
   "source": []
  }
 ],
 "metadata": {
  "kernelspec": {
   "display_name": "quera",
   "language": "python",
   "name": "python3"
  },
  "language_info": {
   "codemirror_mode": {
    "name": "ipython",
    "version": 3
   },
   "file_extension": ".py",
   "mimetype": "text/x-python",
   "name": "python",
   "nbconvert_exporter": "python",
   "pygments_lexer": "ipython3",
   "version": "3.9.18"
  }
 },
 "nbformat": 4,
 "nbformat_minor": 2
}
